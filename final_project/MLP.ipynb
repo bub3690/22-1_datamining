{
 "cells": [
  {
   "cell_type": "code",
   "execution_count": 1,
   "id": "745fa86f",
   "metadata": {},
   "outputs": [
    {
     "name": "stdout",
     "output_type": "stream",
     "text": [
      "Using Pytorch version :  1.9.0  Device :  cuda\n"
     ]
    }
   ],
   "source": [
    "import torch\n",
    "import matplotlib.pyplot as plt\n",
    "import numpy as np\n",
    "import torch\n",
    "import torch.nn as nn # 인공 신경망 모델들 모아놓은 모듈\n",
    "import torch.nn.functional as F #그중 자주 쓰이는것들을 F로\n",
    "from torchvision import transforms, datasets\n",
    "import cv2\n",
    "import pandas as pd\n",
    "import os\n",
    "from glob import glob\n",
    "\n",
    "\n",
    "if torch.cuda.is_available():\n",
    "    DEVICE = torch.device('cuda')\n",
    "else:\n",
    "    DEVICE = torch.device('cpu')\n",
    "#DEVICE = torch.device('cpu')\n",
    "print('Using Pytorch version : ',torch.__version__,' Device : ',DEVICE)"
   ]
  },
  {
   "cell_type": "code",
   "execution_count": 2,
   "id": "4ea5ac3a",
   "metadata": {},
   "outputs": [],
   "source": [
    "from matplotlib import font_manager, rc\n",
    "font_path = \"C:/Windows/Fonts/NGULIM.TTF\"\n",
    "font = font_manager.FontProperties(fname=font_path).get_name()\n",
    "rc('font', family=font)"
   ]
  },
  {
   "cell_type": "code",
   "execution_count": 3,
   "id": "478b8ae8",
   "metadata": {},
   "outputs": [],
   "source": [
    "import pickle\n",
    "\n",
    "# 파일 불러오기\n",
    "data = pd.read_pickle('./data/train_nona.pkl')\n",
    "#train = pd.read_excel('./data/train_nona.xlsx')\n",
    "#submission = pd.read_csv('./data/sample_submission.csv')"
   ]
  },
  {
   "cell_type": "code",
   "execution_count": 4,
   "id": "01e3154e",
   "metadata": {},
   "outputs": [
    {
     "data": {
      "text/html": [
       "<div>\n",
       "<style scoped>\n",
       "    .dataframe tbody tr th:only-of-type {\n",
       "        vertical-align: middle;\n",
       "    }\n",
       "\n",
       "    .dataframe tbody tr th {\n",
       "        vertical-align: top;\n",
       "    }\n",
       "\n",
       "    .dataframe thead th {\n",
       "        text-align: right;\n",
       "    }\n",
       "</style>\n",
       "<table border=\"1\" class=\"dataframe\">\n",
       "  <thead>\n",
       "    <tr style=\"text-align: right;\">\n",
       "      <th></th>\n",
       "      <th>측정기기</th>\n",
       "      <th>시,도</th>\n",
       "      <th>년</th>\n",
       "      <th>월</th>\n",
       "      <th>일</th>\n",
       "      <th>시</th>\n",
       "      <th>시간대</th>\n",
       "      <th>연령</th>\n",
       "      <th>연령대</th>\n",
       "      <th>성별</th>\n",
       "      <th>피부타입</th>\n",
       "      <th>수분</th>\n",
       "      <th>유분</th>\n",
       "      <th>탄력</th>\n",
       "      <th>평균 기온</th>\n",
       "      <th>강수량</th>\n",
       "      <th>평균 풍속</th>\n",
       "      <th>평균 습도</th>\n",
       "      <th>일조합</th>\n",
       "      <th>미세먼지</th>\n",
       "    </tr>\n",
       "  </thead>\n",
       "  <tbody>\n",
       "    <tr>\n",
       "      <th>0</th>\n",
       "      <td>스킨터치1</td>\n",
       "      <td>광주광역시</td>\n",
       "      <td>2014</td>\n",
       "      <td>3</td>\n",
       "      <td>29</td>\n",
       "      <td>19</td>\n",
       "      <td>저녁</td>\n",
       "      <td>21.0</td>\n",
       "      <td>20.0</td>\n",
       "      <td>여자</td>\n",
       "      <td>4.0</td>\n",
       "      <td>99.0</td>\n",
       "      <td>32</td>\n",
       "      <td>92.0</td>\n",
       "      <td>8.6</td>\n",
       "      <td>101.7</td>\n",
       "      <td>2.0</td>\n",
       "      <td>61.0</td>\n",
       "      <td>213.4</td>\n",
       "      <td>49.0</td>\n",
       "    </tr>\n",
       "    <tr>\n",
       "      <th>1</th>\n",
       "      <td>스킨터치1</td>\n",
       "      <td>서울특별시</td>\n",
       "      <td>2012</td>\n",
       "      <td>12</td>\n",
       "      <td>29</td>\n",
       "      <td>20</td>\n",
       "      <td>저녁</td>\n",
       "      <td>22.0</td>\n",
       "      <td>20.0</td>\n",
       "      <td>여자</td>\n",
       "      <td>6.0</td>\n",
       "      <td>99.0</td>\n",
       "      <td>87</td>\n",
       "      <td>92.0</td>\n",
       "      <td>-4.1</td>\n",
       "      <td>41.4</td>\n",
       "      <td>2.7</td>\n",
       "      <td>57.0</td>\n",
       "      <td>193.6</td>\n",
       "      <td>41.0</td>\n",
       "    </tr>\n",
       "    <tr>\n",
       "      <th>2</th>\n",
       "      <td>스킨터치1</td>\n",
       "      <td>서울특별시</td>\n",
       "      <td>2013</td>\n",
       "      <td>12</td>\n",
       "      <td>18</td>\n",
       "      <td>20</td>\n",
       "      <td>저녁</td>\n",
       "      <td>22.0</td>\n",
       "      <td>20.0</td>\n",
       "      <td>여자</td>\n",
       "      <td>3.0</td>\n",
       "      <td>99.0</td>\n",
       "      <td>6</td>\n",
       "      <td>92.0</td>\n",
       "      <td>-0.2</td>\n",
       "      <td>24.7</td>\n",
       "      <td>2.4</td>\n",
       "      <td>60.0</td>\n",
       "      <td>184.4</td>\n",
       "      <td>55.0</td>\n",
       "    </tr>\n",
       "    <tr>\n",
       "      <th>3</th>\n",
       "      <td>스킨터치1</td>\n",
       "      <td>부산광역시</td>\n",
       "      <td>2013</td>\n",
       "      <td>8</td>\n",
       "      <td>31</td>\n",
       "      <td>15</td>\n",
       "      <td>오후</td>\n",
       "      <td>22.0</td>\n",
       "      <td>20.0</td>\n",
       "      <td>여자</td>\n",
       "      <td>4.0</td>\n",
       "      <td>99.0</td>\n",
       "      <td>40</td>\n",
       "      <td>92.0</td>\n",
       "      <td>28.0</td>\n",
       "      <td>144.5</td>\n",
       "      <td>3.3</td>\n",
       "      <td>67.0</td>\n",
       "      <td>286.5</td>\n",
       "      <td>47.0</td>\n",
       "    </tr>\n",
       "    <tr>\n",
       "      <th>4</th>\n",
       "      <td>스킨터치1</td>\n",
       "      <td>부산광역시</td>\n",
       "      <td>2012</td>\n",
       "      <td>7</td>\n",
       "      <td>29</td>\n",
       "      <td>18</td>\n",
       "      <td>저녁</td>\n",
       "      <td>23.0</td>\n",
       "      <td>20.0</td>\n",
       "      <td>여자</td>\n",
       "      <td>4.0</td>\n",
       "      <td>99.0</td>\n",
       "      <td>46</td>\n",
       "      <td>92.0</td>\n",
       "      <td>25.5</td>\n",
       "      <td>502.0</td>\n",
       "      <td>3.3</td>\n",
       "      <td>78.0</td>\n",
       "      <td>221.4</td>\n",
       "      <td>40.0</td>\n",
       "    </tr>\n",
       "  </tbody>\n",
       "</table>\n",
       "</div>"
      ],
      "text/plain": [
       "    측정기기    시,도     년   월   일   시 시간대    연령   연령대  성별  피부타입    수분  유분    탄력  \\\n",
       "0  스킨터치1  광주광역시  2014   3  29  19  저녁  21.0  20.0  여자   4.0  99.0  32  92.0   \n",
       "1  스킨터치1  서울특별시  2012  12  29  20  저녁  22.0  20.0  여자   6.0  99.0  87  92.0   \n",
       "2  스킨터치1  서울특별시  2013  12  18  20  저녁  22.0  20.0  여자   3.0  99.0   6  92.0   \n",
       "3  스킨터치1  부산광역시  2013   8  31  15  오후  22.0  20.0  여자   4.0  99.0  40  92.0   \n",
       "4  스킨터치1  부산광역시  2012   7  29  18  저녁  23.0  20.0  여자   4.0  99.0  46  92.0   \n",
       "\n",
       "   평균 기온    강수량  평균 풍속  평균 습도    일조합  미세먼지  \n",
       "0    8.6  101.7    2.0   61.0  213.4  49.0  \n",
       "1   -4.1   41.4    2.7   57.0  193.6  41.0  \n",
       "2   -0.2   24.7    2.4   60.0  184.4  55.0  \n",
       "3   28.0  144.5    3.3   67.0  286.5  47.0  \n",
       "4   25.5  502.0    3.3   78.0  221.4  40.0  "
      ]
     },
     "execution_count": 4,
     "metadata": {},
     "output_type": "execute_result"
    }
   ],
   "source": [
    "data.head()"
   ]
  },
  {
   "cell_type": "code",
   "execution_count": 5,
   "id": "51f6a510",
   "metadata": {},
   "outputs": [
    {
     "name": "stdout",
     "output_type": "stream",
     "text": [
      "<class 'pandas.core.frame.DataFrame'>\n",
      "Int64Index: 513528 entries, 0 to 553047\n",
      "Data columns (total 20 columns):\n",
      " #   Column  Non-Null Count   Dtype  \n",
      "---  ------  --------------   -----  \n",
      " 0   측정기기    513528 non-null  object \n",
      " 1   시,도     513528 non-null  object \n",
      " 2   년       513528 non-null  int64  \n",
      " 3   월       513528 non-null  int64  \n",
      " 4   일       513528 non-null  int64  \n",
      " 5   시       513528 non-null  int64  \n",
      " 6   시간대     513528 non-null  object \n",
      " 7   연령      513528 non-null  float64\n",
      " 8   연령대     513528 non-null  float64\n",
      " 9   성별      513528 non-null  object \n",
      " 10  피부타입    513528 non-null  float64\n",
      " 11  수분      513528 non-null  float64\n",
      " 12  유분      513528 non-null  int64  \n",
      " 13  탄력      513528 non-null  float64\n",
      " 14  평균 기온   513528 non-null  float64\n",
      " 15  강수량     513528 non-null  float64\n",
      " 16  평균 풍속   513528 non-null  float64\n",
      " 17  평균 습도   513528 non-null  float64\n",
      " 18  일조합     513528 non-null  float64\n",
      " 19  미세먼지    513528 non-null  float64\n",
      "dtypes: float64(11), int64(5), object(4)\n",
      "memory usage: 82.3+ MB\n"
     ]
    }
   ],
   "source": [
    "data.info()"
   ]
  },
  {
   "cell_type": "markdown",
   "id": "802a4319",
   "metadata": {},
   "source": [
    "# 컬럼 정리\n",
    "\n",
    "- 시,도 년 월 일 시 제거\n",
    "- category 변환"
   ]
  },
  {
   "cell_type": "code",
   "execution_count": 6,
   "id": "5d642185",
   "metadata": {
    "scrolled": false
   },
   "outputs": [
    {
     "data": {
      "text/html": [
       "<div>\n",
       "<style scoped>\n",
       "    .dataframe tbody tr th:only-of-type {\n",
       "        vertical-align: middle;\n",
       "    }\n",
       "\n",
       "    .dataframe tbody tr th {\n",
       "        vertical-align: top;\n",
       "    }\n",
       "\n",
       "    .dataframe thead th {\n",
       "        text-align: right;\n",
       "    }\n",
       "</style>\n",
       "<table border=\"1\" class=\"dataframe\">\n",
       "  <thead>\n",
       "    <tr style=\"text-align: right;\">\n",
       "      <th></th>\n",
       "      <th>측정기기</th>\n",
       "      <th>시,도</th>\n",
       "      <th>시간대</th>\n",
       "      <th>연령</th>\n",
       "      <th>연령대</th>\n",
       "      <th>성별</th>\n",
       "      <th>피부타입</th>\n",
       "      <th>수분</th>\n",
       "      <th>유분</th>\n",
       "      <th>탄력</th>\n",
       "      <th>평균 기온</th>\n",
       "      <th>강수량</th>\n",
       "      <th>평균 풍속</th>\n",
       "      <th>평균 습도</th>\n",
       "      <th>일조합</th>\n",
       "      <th>미세먼지</th>\n",
       "    </tr>\n",
       "  </thead>\n",
       "  <tbody>\n",
       "    <tr>\n",
       "      <th>0</th>\n",
       "      <td>스킨터치1</td>\n",
       "      <td>광주광역시</td>\n",
       "      <td>저녁</td>\n",
       "      <td>21.0</td>\n",
       "      <td>20.0</td>\n",
       "      <td>여자</td>\n",
       "      <td>4.0</td>\n",
       "      <td>99.0</td>\n",
       "      <td>32</td>\n",
       "      <td>92.0</td>\n",
       "      <td>8.6</td>\n",
       "      <td>101.7</td>\n",
       "      <td>2.0</td>\n",
       "      <td>61.0</td>\n",
       "      <td>213.4</td>\n",
       "      <td>49.0</td>\n",
       "    </tr>\n",
       "    <tr>\n",
       "      <th>1</th>\n",
       "      <td>스킨터치1</td>\n",
       "      <td>서울특별시</td>\n",
       "      <td>저녁</td>\n",
       "      <td>22.0</td>\n",
       "      <td>20.0</td>\n",
       "      <td>여자</td>\n",
       "      <td>6.0</td>\n",
       "      <td>99.0</td>\n",
       "      <td>87</td>\n",
       "      <td>92.0</td>\n",
       "      <td>-4.1</td>\n",
       "      <td>41.4</td>\n",
       "      <td>2.7</td>\n",
       "      <td>57.0</td>\n",
       "      <td>193.6</td>\n",
       "      <td>41.0</td>\n",
       "    </tr>\n",
       "    <tr>\n",
       "      <th>2</th>\n",
       "      <td>스킨터치1</td>\n",
       "      <td>서울특별시</td>\n",
       "      <td>저녁</td>\n",
       "      <td>22.0</td>\n",
       "      <td>20.0</td>\n",
       "      <td>여자</td>\n",
       "      <td>3.0</td>\n",
       "      <td>99.0</td>\n",
       "      <td>6</td>\n",
       "      <td>92.0</td>\n",
       "      <td>-0.2</td>\n",
       "      <td>24.7</td>\n",
       "      <td>2.4</td>\n",
       "      <td>60.0</td>\n",
       "      <td>184.4</td>\n",
       "      <td>55.0</td>\n",
       "    </tr>\n",
       "    <tr>\n",
       "      <th>3</th>\n",
       "      <td>스킨터치1</td>\n",
       "      <td>부산광역시</td>\n",
       "      <td>오후</td>\n",
       "      <td>22.0</td>\n",
       "      <td>20.0</td>\n",
       "      <td>여자</td>\n",
       "      <td>4.0</td>\n",
       "      <td>99.0</td>\n",
       "      <td>40</td>\n",
       "      <td>92.0</td>\n",
       "      <td>28.0</td>\n",
       "      <td>144.5</td>\n",
       "      <td>3.3</td>\n",
       "      <td>67.0</td>\n",
       "      <td>286.5</td>\n",
       "      <td>47.0</td>\n",
       "    </tr>\n",
       "    <tr>\n",
       "      <th>4</th>\n",
       "      <td>스킨터치1</td>\n",
       "      <td>부산광역시</td>\n",
       "      <td>저녁</td>\n",
       "      <td>23.0</td>\n",
       "      <td>20.0</td>\n",
       "      <td>여자</td>\n",
       "      <td>4.0</td>\n",
       "      <td>99.0</td>\n",
       "      <td>46</td>\n",
       "      <td>92.0</td>\n",
       "      <td>25.5</td>\n",
       "      <td>502.0</td>\n",
       "      <td>3.3</td>\n",
       "      <td>78.0</td>\n",
       "      <td>221.4</td>\n",
       "      <td>40.0</td>\n",
       "    </tr>\n",
       "  </tbody>\n",
       "</table>\n",
       "</div>"
      ],
      "text/plain": [
       "    측정기기    시,도 시간대    연령   연령대  성별  피부타입    수분  유분    탄력  평균 기온    강수량  \\\n",
       "0  스킨터치1  광주광역시  저녁  21.0  20.0  여자   4.0  99.0  32  92.0    8.6  101.7   \n",
       "1  스킨터치1  서울특별시  저녁  22.0  20.0  여자   6.0  99.0  87  92.0   -4.1   41.4   \n",
       "2  스킨터치1  서울특별시  저녁  22.0  20.0  여자   3.0  99.0   6  92.0   -0.2   24.7   \n",
       "3  스킨터치1  부산광역시  오후  22.0  20.0  여자   4.0  99.0  40  92.0   28.0  144.5   \n",
       "4  스킨터치1  부산광역시  저녁  23.0  20.0  여자   4.0  99.0  46  92.0   25.5  502.0   \n",
       "\n",
       "   평균 풍속  평균 습도    일조합  미세먼지  \n",
       "0    2.0   61.0  213.4  49.0  \n",
       "1    2.7   57.0  193.6  41.0  \n",
       "2    2.4   60.0  184.4  55.0  \n",
       "3    3.3   67.0  286.5  47.0  \n",
       "4    3.3   78.0  221.4  40.0  "
      ]
     },
     "execution_count": 6,
     "metadata": {},
     "output_type": "execute_result"
    }
   ],
   "source": [
    "data.drop(['년','월','일','시'],axis=1,inplace=True)\n",
    "data.head()"
   ]
  },
  {
   "cell_type": "code",
   "execution_count": 7,
   "id": "0c477e71",
   "metadata": {},
   "outputs": [],
   "source": [
    "x_col=list(set(data.columns)-set(['수분']))\n",
    "X=data[x_col].copy()\n",
    "Y=data[['수분']].copy()"
   ]
  },
  {
   "cell_type": "markdown",
   "id": "83a1c7e6",
   "metadata": {},
   "source": [
    "# 데이터 분할\n",
    "\n",
    "- 6:2:2"
   ]
  },
  {
   "cell_type": "code",
   "execution_count": 8,
   "id": "d5ea922f",
   "metadata": {},
   "outputs": [
    {
     "name": "stdout",
     "output_type": "stream",
     "text": [
      "train : (308116, 15) \n",
      "valid : (102706, 15) \n",
      "test : (102706, 15) \n"
     ]
    }
   ],
   "source": [
    "from sklearn.model_selection import train_test_split # train , test 분리에 사용.\n",
    "\n",
    "\n",
    "X, X_test, Y, Y_test=train_test_split(X, Y, test_size=0.2, shuffle=True, random_state=456)\n",
    "\n",
    "X_train,X_valid,Y_train,Y_valid = train_test_split(X, Y, test_size=0.25, shuffle=True, random_state=456)\n",
    "\n",
    "print(\"train : {} \".format(X_train.shape))\n",
    "print(\"valid : {} \".format(X_valid.shape))\n",
    "print(\"test : {} \".format(X_test.shape))\n"
   ]
  },
  {
   "cell_type": "markdown",
   "id": "1b983f1a",
   "metadata": {},
   "source": [
    "인덱스 초기화"
   ]
  },
  {
   "cell_type": "code",
   "execution_count": 9,
   "id": "af759735",
   "metadata": {},
   "outputs": [],
   "source": [
    "X_train.reset_index(inplace=True)\n",
    "X_train.drop(['index'],axis=1,inplace=True)\n",
    "Y_train.reset_index(inplace=True)\n",
    "Y_train.drop(['index'],axis=1,inplace=True)\n",
    "\n",
    "X_valid.reset_index(inplace=True)\n",
    "X_valid.drop(['index'],axis=1,inplace=True)\n",
    "Y_valid.reset_index(inplace=True)\n",
    "Y_valid.drop(['index'],axis=1,inplace=True)\n",
    "\n",
    "\n",
    "X_test.reset_index(inplace=True)\n",
    "X_test.drop(['index'],axis=1,inplace=True)\n",
    "Y_test.reset_index(inplace=True)\n",
    "Y_test.drop(['index'],axis=1,inplace=True)"
   ]
  },
  {
   "cell_type": "markdown",
   "id": "24d173c9",
   "metadata": {},
   "source": [
    "# 정규화\n",
    "\n",
    "- 수치형"
   ]
  },
  {
   "cell_type": "code",
   "execution_count": 10,
   "id": "bef8ba5b",
   "metadata": {},
   "outputs": [],
   "source": [
    "from sklearn.preprocessing import MinMaxScaler\n",
    "\n",
    "numerics = ['유분','탄력','평균 기온','강수량','평균 풍속','평균 습도','일조합','미세먼지']\n",
    "\n",
    "sc = MinMaxScaler()\n",
    "\n",
    "X_train[numerics] = sc.fit_transform(X_train[numerics])\n",
    "X_valid[numerics] = sc.transform(X_valid[numerics])\n",
    "X_test[numerics] = sc.transform(X_test[numerics])\n"
   ]
  },
  {
   "cell_type": "markdown",
   "id": "13ec0109",
   "metadata": {},
   "source": [
    "# categorical 변환"
   ]
  },
  {
   "cell_type": "code",
   "execution_count": 11,
   "id": "d287bc4e",
   "metadata": {},
   "outputs": [],
   "source": [
    "\n",
    "\n",
    "categories = ['측정기기','시,도','시간대','연령대','성별','피부타입']\n",
    "\n",
    "train_categories=pd.get_dummies(X_train[categories])\n",
    "X_train.drop(categories,axis=1,inplace=True)\n",
    "\n",
    "valid_categories=pd.get_dummies(X_valid[categories])\n",
    "X_valid.drop(categories,axis=1,inplace=True)\n",
    "\n",
    "test_categories=pd.get_dummies(X_test[categories])\n",
    "X_test.drop(categories,axis=1,inplace=True)\n",
    "\n",
    "X_train=pd.concat([X_train,train_categories],axis=1).copy()\n",
    "\n",
    "X_valid=pd.concat([X_valid,valid_categories],axis=1).copy()\n",
    "X_test=pd.concat([X_test,test_categories],axis=1).copy()\n",
    "\n"
   ]
  },
  {
   "cell_type": "code",
   "execution_count": 12,
   "id": "74ff4632",
   "metadata": {},
   "outputs": [
    {
     "name": "stdout",
     "output_type": "stream",
     "text": [
      "train : (308116, 26) \n",
      "valid : (102706, 26) \n",
      "test : (102706, 26) \n"
     ]
    }
   ],
   "source": [
    "print(\"train : {} \".format(X_train.shape))\n",
    "print(\"valid : {} \".format(X_valid.shape))\n",
    "print(\"test : {} \".format(X_test.shape))"
   ]
  },
  {
   "cell_type": "markdown",
   "id": "4b5daf96",
   "metadata": {},
   "source": [
    "# torch 데이터 정의"
   ]
  },
  {
   "cell_type": "code",
   "execution_count": 13,
   "id": "5ff968d2",
   "metadata": {},
   "outputs": [],
   "source": [
    "#3. 하이퍼 파라미터\n",
    "BATCH_SIZE =  32 #한 배치당 32개.\n",
    "EPOCHS = 50 # 전체 데이터 셋을 50번 반복"
   ]
  },
  {
   "cell_type": "code",
   "execution_count": 14,
   "id": "37f76d4f",
   "metadata": {},
   "outputs": [],
   "source": [
    "from torch.utils.data import Dataset, DataLoader\n",
    "\n",
    "# set 제작을 위한 class\n",
    "# torch의 Dataset 을 상속.\n",
    "class water_data(Dataset):\n",
    "\n",
    "    def __init__(self, x_data, y_data):\n",
    "        self.x_data = x_data\n",
    "        self.y_data = y_data\n",
    "        self.len = self.y_data.shape[0]\n",
    "\n",
    "    def __getitem__(self, index):\n",
    "        x_data_now = torch.FloatTensor(self.x_data.loc[index])\n",
    "        y_data_now = torch.FloatTensor(self.y_data.loc[index])\n",
    "        \n",
    "        return x_data_now, y_data_now\n",
    "\n",
    "    def __len__(self):\n",
    "        return self.len\n",
    "    "
   ]
  },
  {
   "cell_type": "code",
   "execution_count": 15,
   "id": "15b75f93",
   "metadata": {},
   "outputs": [],
   "source": [
    "train_sets = water_data(X_train, Y_train)\n",
    "train_loader = torch.utils.data.DataLoader(train_sets, batch_size=32, shuffle=True) #데이터들. 배치형태로 변환 해주기\n",
    "\n",
    "valid_sets = water_data(X_valid, Y_valid)\n",
    "valid_loader = torch.utils.data.DataLoader(valid_sets, batch_size=32, shuffle=True)\n",
    "\n",
    "\n",
    "test_sets = water_data(X_test, Y_test)\n",
    "test_loader = torch.utils.data.DataLoader(test_sets, batch_size=32, shuffle=False)"
   ]
  },
  {
   "cell_type": "markdown",
   "id": "5f1316e5",
   "metadata": {},
   "source": [
    "# Model\n",
    "\n",
    "참고 : https://data-science-hi.tistory.com/188"
   ]
  },
  {
   "cell_type": "code",
   "execution_count": 16,
   "id": "fade986d",
   "metadata": {},
   "outputs": [],
   "source": [
    "class Regressor(nn.Module):\n",
    "    def __init__(self):\n",
    "        super().__init__() # 모델 연산 정의\n",
    "        self.fc1 = nn.Linear(26, 50, bias=True) \n",
    "        self.fc2 = nn.Linear(50, 30, bias=True)\n",
    "        self.fc3 = nn.Linear(30, 30, bias=True) \n",
    "        self.fc4 = nn.Linear(30, 30, bias=True) \n",
    "        self.fc5 = nn.Linear(30, 1, bias=True) \n",
    "        self.dropout = nn.Dropout(0.2) \n",
    "        \n",
    "\n",
    "    def forward(self, x): \n",
    "        x = F.relu(self.fc1(x)) \n",
    "        x = self.dropout(F.relu(self.fc2(x)))\n",
    "        x = self.dropout(F.relu(self.fc3(x)))\n",
    "        x = self.dropout(F.relu(self.fc4(x)))\n",
    "        x = self.dropout(F.relu(self.fc5(x)))\n",
    "        x = F.relu(self.fc3(x))  \n",
    "      \n",
    "        return x"
   ]
  },
  {
   "cell_type": "code",
   "execution_count": 17,
   "id": "d0a4d3e7",
   "metadata": {
    "scrolled": true
   },
   "outputs": [
    {
     "name": "stdout",
     "output_type": "stream",
     "text": [
      "Regressor(\n",
      "  (fc1): Linear(in_features=26, out_features=50, bias=True)\n",
      "  (fc2): Linear(in_features=50, out_features=30, bias=True)\n",
      "  (fc3): Linear(in_features=30, out_features=1, bias=True)\n",
      "  (dropout): Dropout(p=0.2, inplace=False)\n",
      ")\n"
     ]
    }
   ],
   "source": [
    "model = Regressor().to(DEVICE)\n",
    "criterion = nn.MSELoss()\n",
    "\n",
    "optimizer = torch.optim.Adam(model.parameters(), lr=0.001, weight_decay=1e-7)\n",
    "print(model)"
   ]
  },
  {
   "cell_type": "code",
   "execution_count": 18,
   "id": "5693f959",
   "metadata": {},
   "outputs": [],
   "source": [
    "from sklearn.metrics import mean_squared_error        # regression 문제의 모델 성능 측정을 위해서 MSE를 불러\n",
    "\n",
    "def evaluation(dataloader):\n",
    "\n",
    "    predictions = torch.tensor([], dtype=torch.float).to(DEVICE) # 예측값을 저장하는 텐서.\n",
    "    actual = torch.tensor([], dtype=torch.float).to(DEVICE) # 실제값을 저장하는 텐서.\n",
    "\n",
    "    with torch.no_grad():\n",
    "        model.eval() # 평가를 할 땐 반드시 eval()을 사용해야 한다.\n",
    "\n",
    "    for data in dataloader:\n",
    "        inputs, y_values = data\n",
    "        \n",
    "        inputs = inputs.to(DEVICE)\n",
    "        y_values = y_values.to(DEVICE)\n",
    "        \n",
    "        outputs = model(inputs)\n",
    "\n",
    "        predictions = torch.cat((predictions, outputs), 0) # cat함수를 통해 예측값을 누적.\n",
    "        actual = torch.cat((actual, y_values), 0) # cat함수를 통해 실제값을 누적.\n",
    "\n",
    "    predictions = predictions.cpu().detach().numpy() # 넘파이 배열로 변경.\n",
    "    actual = actual.cpu().detach().numpy() # 넘파이 배열로 변경.\n",
    "    mse = mean_squared_error(predictions, actual) # sklearn을 이용해 MSE를 계산.\n",
    "    return mse\n"
   ]
  },
  {
   "cell_type": "code",
   "execution_count": 19,
   "id": "7f343b14",
   "metadata": {},
   "outputs": [
    {
     "name": "stdout",
     "output_type": "stream",
     "text": [
      "Epoch : 0 / Train loss : 196.7422 / Valid loss : 178.8942\n",
      "Epoch : 1 / Train loss : 171.8160 / Valid loss : 170.1636\n",
      "Epoch : 2 / Train loss : 160.9682 / Valid loss : 163.4572\n",
      "Epoch : 3 / Train loss : 150.9641 / Valid loss : 149.5929\n",
      "Epoch : 4 / Train loss : 149.0540 / Valid loss : 152.0186\n",
      "Epoch : 5 / Train loss : 147.5665 / Valid loss : 147.0177\n",
      "Epoch : 6 / Train loss : 142.8499 / Valid loss : 137.5610\n",
      "Epoch : 7 / Train loss : 136.3506 / Valid loss : 138.0009\n",
      "Epoch : 8 / Train loss : 134.7838 / Valid loss : 136.8535\n",
      "Epoch : 9 / Train loss : 134.2633 / Valid loss : 133.9563\n",
      "Epoch : 10 / Train loss : 133.8593 / Valid loss : 134.4440\n",
      "Epoch : 11 / Train loss : 133.4978 / Valid loss : 134.0483\n",
      "Epoch : 12 / Train loss : 133.2092 / Valid loss : 132.9866\n",
      "Epoch : 13 / Train loss : 133.1263 / Valid loss : 133.4501\n",
      "Epoch : 14 / Train loss : 132.8359 / Valid loss : 132.5137\n",
      "Epoch : 15 / Train loss : 132.6586 / Valid loss : 134.3656\n",
      "Epoch : 16 / Train loss : 132.6401 / Valid loss : 133.8732\n",
      "Epoch : 17 / Train loss : 136.0451 / Valid loss : 146.3424\n",
      "Epoch : 18 / Train loss : 136.8175 / Valid loss : 132.5410\n",
      "Epoch : 19 / Train loss : 132.4087 / Valid loss : 132.4812\n",
      "Epoch : 20 / Train loss : 132.6769 / Valid loss : 132.4042\n",
      "Epoch : 21 / Train loss : 132.5144 / Valid loss : 147.5809\n",
      "Epoch : 22 / Train loss : 134.8150 / Valid loss : 132.1833\n",
      "Epoch : 23 / Train loss : 132.0052 / Valid loss : 132.6676\n",
      "Epoch : 24 / Train loss : 131.9980 / Valid loss : 132.1242\n",
      "Epoch : 25 / Train loss : 131.9235 / Valid loss : 131.7816\n",
      "Epoch : 26 / Train loss : 131.8165 / Valid loss : 132.1526\n",
      "Epoch : 27 / Train loss : 131.8284 / Valid loss : 133.1613\n",
      "Epoch : 28 / Train loss : 131.7854 / Valid loss : 131.5755\n",
      "Epoch : 29 / Train loss : 131.6422 / Valid loss : 131.8345\n",
      "Epoch : 30 / Train loss : 131.6735 / Valid loss : 132.5669\n",
      "Epoch : 31 / Train loss : 131.5402 / Valid loss : 131.7059\n",
      "Epoch : 32 / Train loss : 131.6138 / Valid loss : 131.9226\n",
      "Epoch : 33 / Train loss : 131.4902 / Valid loss : 133.2401\n",
      "Epoch : 34 / Train loss : 131.4681 / Valid loss : 131.7714\n",
      "Epoch : 35 / Train loss : 131.3498 / Valid loss : 132.0450\n",
      "Epoch : 36 / Train loss : 131.2582 / Valid loss : 133.0265\n",
      "Epoch : 37 / Train loss : 131.2497 / Valid loss : 131.3241\n",
      "Epoch : 38 / Train loss : 131.2377 / Valid loss : 131.3065\n",
      "Epoch : 39 / Train loss : 131.1402 / Valid loss : 132.4120\n",
      "Epoch : 40 / Train loss : 131.1146 / Valid loss : 131.2983\n",
      "Epoch : 41 / Train loss : 130.9947 / Valid loss : 131.0894\n",
      "Epoch : 42 / Train loss : 131.2682 / Valid loss : 131.3514\n",
      "Epoch : 43 / Train loss : 130.9834 / Valid loss : 131.1668\n",
      "Epoch : 44 / Train loss : 130.9415 / Valid loss : 132.8795\n",
      "Epoch : 45 / Train loss : 131.0245 / Valid loss : 131.1004\n",
      "Epoch : 46 / Train loss : 130.9850 / Valid loss : 131.7914\n",
      "Epoch : 47 / Train loss : 130.8616 / Valid loss : 131.4687\n",
      "Epoch : 48 / Train loss : 130.9057 / Valid loss : 131.1985\n",
      "Epoch : 49 / Train loss : 130.9596 / Valid loss : 132.9761\n"
     ]
    }
   ],
   "source": [
    "loss_ = [] # loss를 저장할 리스트.\n",
    "valid_loss = []\n",
    "n = len(train_loader)\n",
    "\n",
    "for epoch in range(EPOCHS):\n",
    "\n",
    "    running_loss = 0.0 # 한 에폭이 돌 때 그안에서 배치마다 loss가 나온다. 즉 한번 학습할 때 그렇게 쪼개지면서 loss가 다 나오니 MSE를 구하기 위해서 사용한다.\n",
    "    \n",
    "    running_valid_loss =0.0\n",
    "    running_valid_loss=evaluation(valid_loader)\n",
    "    for i, data in enumerate(train_loader): # 무작위로 섞인 32개의 데이터가 담긴 배치가 하나씩 들어온다.\n",
    "        inputs, y_values = data # data에는 X, Y가 들어있다.\n",
    "        inputs = inputs.to(DEVICE)\n",
    "        y_values = y_values.to(DEVICE)\n",
    "        \n",
    "        optimizer.zero_grad() # 최적화 초기화.\n",
    "\n",
    "        outputs = model(inputs) # 모델에 입력값을 넣어 예측값을 산출한다.\n",
    "        loss = criterion(outputs, y_values) # 손실함수를 계산. error 계산.\n",
    "        loss.backward() # 손실 함수를 기준으로 역전파를 설정한다.\n",
    "        optimizer.step() # 역전파를 진행하고 가중치를 업데이트한다.\n",
    "\n",
    "        running_loss += loss.item() # epoch 마다 평균 loss를 계산하기 위해 배치 loss를 더한다.\n",
    "    \n",
    "    running_valid_loss=evaluation(valid_loader)\n",
    "    \n",
    "    print(\"Epoch : {} / Train loss : {:.4f} / Valid loss : {:.4f}\".format(epoch, running_loss/n, running_valid_loss))\n",
    "    \n",
    "    \n",
    "    loss_.append(running_loss/n) # MSE(Mean Squared Error) 계산\n",
    "    valid_loss.append(running_valid_loss)\n"
   ]
  },
  {
   "cell_type": "code",
   "execution_count": 31,
   "id": "1af8a46e",
   "metadata": {},
   "outputs": [
    {
     "data": {
      "image/png": "[encoded data removed]",
      "text/plain": [
       "<Figure size 504x504 with 1 Axes>"
      ]
     },
     "metadata": {
      "needs_background": "light"
     },
     "output_type": "display_data"
    }
   ],
   "source": [
    "\n",
    "plt.figure(figsize=(7,7))\n",
    "\n",
    "plt.plot(loss_,label='Train Loss')\n",
    "plt.plot(valid_loss,label='Valid Loss')\n",
    "\n",
    "plt.legend()\n",
    "plt.title('Loss')\n",
    "plt.xlabel('epoch')\n",
    "plt.ylabel('MSE')\n",
    "plt.show()"
   ]
  },
  {
   "cell_type": "code",
   "execution_count": 34,
   "id": "06088d6d",
   "metadata": {
    "scrolled": true
   },
   "outputs": [
    {
     "name": "stdout",
     "output_type": "stream",
     "text": [
      "train last mse:130.95958767715726\n",
      "valid last mse:132.97607421875\n",
      "test mse:130.90464782714844\n"
     ]
    }
   ],
   "source": [
    "test_mse = evaluation(test_loader)\n",
    "\n",
    "print(f'train last mse:{loss_[-1]}')\n",
    "print(f'valid last mse:{valid_loss[-1]}')\n",
    "print(f'test mse:{test_mse}')\n",
    "\n",
    "# 데이터 수가 많다보니, 과적합 없이 모두 비슷한 loss를 가지게 됬음.\n"
   ]
  }
 ],
 "metadata": {
  "kernelspec": {
   "display_name": "Python 3 (ipykernel)",
   "language": "python",
   "name": "python3"
  },
  "language_info": {
   "codemirror_mode": {
    "name": "ipython",
    "version": 3
   },
   "file_extension": ".py",
   "mimetype": "text/x-python",
   "name": "python",
   "nbconvert_exporter": "python",
   "pygments_lexer": "ipython3",
   "version": "3.7.10"
  },
  "toc": {
   "base_numbering": 1,
   "nav_menu": {},
   "number_sections": true,
   "sideBar": true,
   "skip_h1_title": false,
   "title_cell": "Table of Contents",
   "title_sidebar": "Contents",
   "toc_cell": false,
   "toc_position": {},
   "toc_section_display": true,
   "toc_window_display": false
  }
 },
 "nbformat": 4,
 "nbformat_minor": 5
}
