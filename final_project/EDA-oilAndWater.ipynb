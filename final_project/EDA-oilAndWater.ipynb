{
 "cells": [
  {
   "cell_type": "markdown",
   "id": "3ee46201",
   "metadata": {},
   "source": [
    "# 유수분 밸런스 EDA\n"
   ]
  },
  {
   "cell_type": "code",
   "execution_count": 59,
   "id": "e145fc5f",
   "metadata": {},
   "outputs": [],
   "source": [
    "import matplotlib.pyplot as plt\n",
    "import numpy as np\n",
    "from glob import glob\n",
    "import pandas as pd\n",
    "import sys"
   ]
  },
  {
   "cell_type": "code",
   "execution_count": 60,
   "id": "2a7be437",
   "metadata": {},
   "outputs": [],
   "source": [
    "#시각화 패키지들\n",
    "import seaborn as sns\n",
    "import matplotlib.pyplot as plt\n",
    "from statsmodels.graphics.mosaicplot import mosaic\n",
    "%matplotlib inline\n",
    "\n",
    "plt.style.use(\"ggplot\")"
   ]
  },
  {
   "cell_type": "code",
   "execution_count": 61,
   "id": "362ab136",
   "metadata": {},
   "outputs": [],
   "source": [
    "#분석 관련\n",
    "from scipy.stats import chi2_contingency\n",
    "from scipy.stats import kstest\n",
    "from statsmodels.formula.api import ols"
   ]
  },
  {
   "cell_type": "code",
   "execution_count": 62,
   "id": "80ee7e1f",
   "metadata": {},
   "outputs": [],
   "source": [
    "from matplotlib import font_manager, rc\n",
    "font_path = \"C:/Windows/Fonts/NGULIM.TTF\"\n",
    "font = font_manager.FontProperties(fname=font_path).get_name()\n",
    "rc('font', family=font)"
   ]
  },
  {
   "cell_type": "code",
   "execution_count": 63,
   "id": "7b149a15",
   "metadata": {},
   "outputs": [],
   "source": [
    "import pickle\n",
    "\n",
    "# 파일 불러오기\n",
    "train = pd.read_pickle('./data/train_nona.pkl')\n",
    "#train = pd.read_excel('./data/train_nona.xlsx')\n",
    "#submission = pd.read_csv('./data/sample_submission.csv')"
   ]
  },
  {
   "cell_type": "code",
   "execution_count": 64,
   "id": "92d67582",
   "metadata": {},
   "outputs": [
    {
     "data": {
      "text/html": [
       "<div>\n",
       "<style scoped>\n",
       "    .dataframe tbody tr th:only-of-type {\n",
       "        vertical-align: middle;\n",
       "    }\n",
       "\n",
       "    .dataframe tbody tr th {\n",
       "        vertical-align: top;\n",
       "    }\n",
       "\n",
       "    .dataframe thead th {\n",
       "        text-align: right;\n",
       "    }\n",
       "</style>\n",
       "<table border=\"1\" class=\"dataframe\">\n",
       "  <thead>\n",
       "    <tr style=\"text-align: right;\">\n",
       "      <th></th>\n",
       "      <th>측정기기</th>\n",
       "      <th>시,도</th>\n",
       "      <th>년</th>\n",
       "      <th>월</th>\n",
       "      <th>일</th>\n",
       "      <th>시</th>\n",
       "      <th>시간대</th>\n",
       "      <th>연령</th>\n",
       "      <th>연령대</th>\n",
       "      <th>성별</th>\n",
       "      <th>피부타입</th>\n",
       "      <th>수분</th>\n",
       "      <th>유분</th>\n",
       "      <th>탄력</th>\n",
       "      <th>평균 기온</th>\n",
       "      <th>강수량</th>\n",
       "      <th>평균 풍속</th>\n",
       "      <th>평균 습도</th>\n",
       "      <th>일조합</th>\n",
       "      <th>미세먼지</th>\n",
       "    </tr>\n",
       "  </thead>\n",
       "  <tbody>\n",
       "    <tr>\n",
       "      <th>0</th>\n",
       "      <td>스킨터치1</td>\n",
       "      <td>광주광역시</td>\n",
       "      <td>2014</td>\n",
       "      <td>3</td>\n",
       "      <td>29</td>\n",
       "      <td>19</td>\n",
       "      <td>저녁</td>\n",
       "      <td>21.0</td>\n",
       "      <td>20.0</td>\n",
       "      <td>여자</td>\n",
       "      <td>4.0</td>\n",
       "      <td>99.0</td>\n",
       "      <td>32</td>\n",
       "      <td>92.0</td>\n",
       "      <td>8.6</td>\n",
       "      <td>101.7</td>\n",
       "      <td>2.0</td>\n",
       "      <td>61.0</td>\n",
       "      <td>213.4</td>\n",
       "      <td>49.0</td>\n",
       "    </tr>\n",
       "    <tr>\n",
       "      <th>1</th>\n",
       "      <td>스킨터치1</td>\n",
       "      <td>서울특별시</td>\n",
       "      <td>2012</td>\n",
       "      <td>12</td>\n",
       "      <td>29</td>\n",
       "      <td>20</td>\n",
       "      <td>저녁</td>\n",
       "      <td>22.0</td>\n",
       "      <td>20.0</td>\n",
       "      <td>여자</td>\n",
       "      <td>6.0</td>\n",
       "      <td>99.0</td>\n",
       "      <td>87</td>\n",
       "      <td>92.0</td>\n",
       "      <td>-4.1</td>\n",
       "      <td>41.4</td>\n",
       "      <td>2.7</td>\n",
       "      <td>57.0</td>\n",
       "      <td>193.6</td>\n",
       "      <td>41.0</td>\n",
       "    </tr>\n",
       "    <tr>\n",
       "      <th>2</th>\n",
       "      <td>스킨터치1</td>\n",
       "      <td>서울특별시</td>\n",
       "      <td>2013</td>\n",
       "      <td>12</td>\n",
       "      <td>18</td>\n",
       "      <td>20</td>\n",
       "      <td>저녁</td>\n",
       "      <td>22.0</td>\n",
       "      <td>20.0</td>\n",
       "      <td>여자</td>\n",
       "      <td>3.0</td>\n",
       "      <td>99.0</td>\n",
       "      <td>6</td>\n",
       "      <td>92.0</td>\n",
       "      <td>-0.2</td>\n",
       "      <td>24.7</td>\n",
       "      <td>2.4</td>\n",
       "      <td>60.0</td>\n",
       "      <td>184.4</td>\n",
       "      <td>55.0</td>\n",
       "    </tr>\n",
       "    <tr>\n",
       "      <th>3</th>\n",
       "      <td>스킨터치1</td>\n",
       "      <td>부산광역시</td>\n",
       "      <td>2013</td>\n",
       "      <td>8</td>\n",
       "      <td>31</td>\n",
       "      <td>15</td>\n",
       "      <td>오후</td>\n",
       "      <td>22.0</td>\n",
       "      <td>20.0</td>\n",
       "      <td>여자</td>\n",
       "      <td>4.0</td>\n",
       "      <td>99.0</td>\n",
       "      <td>40</td>\n",
       "      <td>92.0</td>\n",
       "      <td>28.0</td>\n",
       "      <td>144.5</td>\n",
       "      <td>3.3</td>\n",
       "      <td>67.0</td>\n",
       "      <td>286.5</td>\n",
       "      <td>47.0</td>\n",
       "    </tr>\n",
       "    <tr>\n",
       "      <th>4</th>\n",
       "      <td>스킨터치1</td>\n",
       "      <td>부산광역시</td>\n",
       "      <td>2012</td>\n",
       "      <td>7</td>\n",
       "      <td>29</td>\n",
       "      <td>18</td>\n",
       "      <td>저녁</td>\n",
       "      <td>23.0</td>\n",
       "      <td>20.0</td>\n",
       "      <td>여자</td>\n",
       "      <td>4.0</td>\n",
       "      <td>99.0</td>\n",
       "      <td>46</td>\n",
       "      <td>92.0</td>\n",
       "      <td>25.5</td>\n",
       "      <td>502.0</td>\n",
       "      <td>3.3</td>\n",
       "      <td>78.0</td>\n",
       "      <td>221.4</td>\n",
       "      <td>40.0</td>\n",
       "    </tr>\n",
       "  </tbody>\n",
       "</table>\n",
       "</div>"
      ],
      "text/plain": [
       "    측정기기    시,도     년   월   일   시 시간대    연령   연령대  성별  피부타입    수분  유분    탄력  \\\n",
       "0  스킨터치1  광주광역시  2014   3  29  19  저녁  21.0  20.0  여자   4.0  99.0  32  92.0   \n",
       "1  스킨터치1  서울특별시  2012  12  29  20  저녁  22.0  20.0  여자   6.0  99.0  87  92.0   \n",
       "2  스킨터치1  서울특별시  2013  12  18  20  저녁  22.0  20.0  여자   3.0  99.0   6  92.0   \n",
       "3  스킨터치1  부산광역시  2013   8  31  15  오후  22.0  20.0  여자   4.0  99.0  40  92.0   \n",
       "4  스킨터치1  부산광역시  2012   7  29  18  저녁  23.0  20.0  여자   4.0  99.0  46  92.0   \n",
       "\n",
       "   평균 기온    강수량  평균 풍속  평균 습도    일조합  미세먼지  \n",
       "0    8.6  101.7    2.0   61.0  213.4  49.0  \n",
       "1   -4.1   41.4    2.7   57.0  193.6  41.0  \n",
       "2   -0.2   24.7    2.4   60.0  184.4  55.0  \n",
       "3   28.0  144.5    3.3   67.0  286.5  47.0  \n",
       "4   25.5  502.0    3.3   78.0  221.4  40.0  "
      ]
     },
     "execution_count": 64,
     "metadata": {},
     "output_type": "execute_result"
    }
   ],
   "source": [
    "train.head()"
   ]
  },
  {
   "cell_type": "markdown",
   "id": "6276a2f9",
   "metadata": {},
   "source": [
    "# 수분 데이터 확인"
   ]
  },
  {
   "cell_type": "code",
   "execution_count": 65,
   "id": "e616ac0f",
   "metadata": {},
   "outputs": [
    {
     "data": {
      "text/plain": [
       "count    513528.000000\n",
       "mean         46.910665\n",
       "std          16.079374\n",
       "min           1.000000\n",
       "25%          38.000000\n",
       "50%          45.000000\n",
       "75%          54.000000\n",
       "max          99.000000\n",
       "Name: 수분, dtype: float64"
      ]
     },
     "execution_count": 65,
     "metadata": {},
     "output_type": "execute_result"
    }
   ],
   "source": [
    "train['수분'].describe()"
   ]
  },
  {
   "cell_type": "markdown",
   "id": "5c3338e6",
   "metadata": {},
   "source": [
    "최대 99, 최소 1로 유수분 비율을 구하는데는 문제 없다."
   ]
  },
  {
   "cell_type": "markdown",
   "id": "ac036484",
   "metadata": {},
   "source": [
    "# 유분 데이터 확인"
   ]
  },
  {
   "cell_type": "code",
   "execution_count": 66,
   "id": "0d46649f",
   "metadata": {},
   "outputs": [
    {
     "data": {
      "text/plain": [
       "count    513528.000000\n",
       "mean         41.941285\n",
       "std          32.161210\n",
       "min           0.000000\n",
       "25%          14.000000\n",
       "50%          36.000000\n",
       "75%          65.000000\n",
       "max          99.000000\n",
       "Name: 유분, dtype: float64"
      ]
     },
     "execution_count": 66,
     "metadata": {},
     "output_type": "execute_result"
    }
   ],
   "source": [
    "train['유분'].describe()"
   ]
  },
  {
   "cell_type": "markdown",
   "id": "322b0338",
   "metadata": {},
   "source": [
    "최소값 0으로, 유분만 분모에 들어가면 안된다.\n",
    "\n",
    "그래서, 수분+유분을 분모로"
   ]
  },
  {
   "cell_type": "markdown",
   "id": "0fd13388",
   "metadata": {},
   "source": [
    "# 유수분 밸런스 컬럼 제작"
   ]
  },
  {
   "cell_type": "code",
   "execution_count": 67,
   "id": "537f2f64",
   "metadata": {},
   "outputs": [
    {
     "data": {
      "text/html": [
       "<div>\n",
       "<style scoped>\n",
       "    .dataframe tbody tr th:only-of-type {\n",
       "        vertical-align: middle;\n",
       "    }\n",
       "\n",
       "    .dataframe tbody tr th {\n",
       "        vertical-align: top;\n",
       "    }\n",
       "\n",
       "    .dataframe thead th {\n",
       "        text-align: right;\n",
       "    }\n",
       "</style>\n",
       "<table border=\"1\" class=\"dataframe\">\n",
       "  <thead>\n",
       "    <tr style=\"text-align: right;\">\n",
       "      <th></th>\n",
       "      <th>측정기기</th>\n",
       "      <th>시,도</th>\n",
       "      <th>년</th>\n",
       "      <th>월</th>\n",
       "      <th>일</th>\n",
       "      <th>시</th>\n",
       "      <th>시간대</th>\n",
       "      <th>연령</th>\n",
       "      <th>연령대</th>\n",
       "      <th>성별</th>\n",
       "      <th>...</th>\n",
       "      <th>수분</th>\n",
       "      <th>유분</th>\n",
       "      <th>탄력</th>\n",
       "      <th>평균 기온</th>\n",
       "      <th>강수량</th>\n",
       "      <th>평균 풍속</th>\n",
       "      <th>평균 습도</th>\n",
       "      <th>일조합</th>\n",
       "      <th>미세먼지</th>\n",
       "      <th>유수분</th>\n",
       "    </tr>\n",
       "  </thead>\n",
       "  <tbody>\n",
       "    <tr>\n",
       "      <th>0</th>\n",
       "      <td>스킨터치1</td>\n",
       "      <td>광주광역시</td>\n",
       "      <td>2014</td>\n",
       "      <td>3</td>\n",
       "      <td>29</td>\n",
       "      <td>19</td>\n",
       "      <td>저녁</td>\n",
       "      <td>21.0</td>\n",
       "      <td>20.0</td>\n",
       "      <td>여자</td>\n",
       "      <td>...</td>\n",
       "      <td>99.0</td>\n",
       "      <td>32</td>\n",
       "      <td>92.0</td>\n",
       "      <td>8.6</td>\n",
       "      <td>101.7</td>\n",
       "      <td>2.0</td>\n",
       "      <td>61.0</td>\n",
       "      <td>213.4</td>\n",
       "      <td>49.0</td>\n",
       "      <td>0.244275</td>\n",
       "    </tr>\n",
       "    <tr>\n",
       "      <th>1</th>\n",
       "      <td>스킨터치1</td>\n",
       "      <td>서울특별시</td>\n",
       "      <td>2012</td>\n",
       "      <td>12</td>\n",
       "      <td>29</td>\n",
       "      <td>20</td>\n",
       "      <td>저녁</td>\n",
       "      <td>22.0</td>\n",
       "      <td>20.0</td>\n",
       "      <td>여자</td>\n",
       "      <td>...</td>\n",
       "      <td>99.0</td>\n",
       "      <td>87</td>\n",
       "      <td>92.0</td>\n",
       "      <td>-4.1</td>\n",
       "      <td>41.4</td>\n",
       "      <td>2.7</td>\n",
       "      <td>57.0</td>\n",
       "      <td>193.6</td>\n",
       "      <td>41.0</td>\n",
       "      <td>0.467742</td>\n",
       "    </tr>\n",
       "    <tr>\n",
       "      <th>2</th>\n",
       "      <td>스킨터치1</td>\n",
       "      <td>서울특별시</td>\n",
       "      <td>2013</td>\n",
       "      <td>12</td>\n",
       "      <td>18</td>\n",
       "      <td>20</td>\n",
       "      <td>저녁</td>\n",
       "      <td>22.0</td>\n",
       "      <td>20.0</td>\n",
       "      <td>여자</td>\n",
       "      <td>...</td>\n",
       "      <td>99.0</td>\n",
       "      <td>6</td>\n",
       "      <td>92.0</td>\n",
       "      <td>-0.2</td>\n",
       "      <td>24.7</td>\n",
       "      <td>2.4</td>\n",
       "      <td>60.0</td>\n",
       "      <td>184.4</td>\n",
       "      <td>55.0</td>\n",
       "      <td>0.057143</td>\n",
       "    </tr>\n",
       "    <tr>\n",
       "      <th>3</th>\n",
       "      <td>스킨터치1</td>\n",
       "      <td>부산광역시</td>\n",
       "      <td>2013</td>\n",
       "      <td>8</td>\n",
       "      <td>31</td>\n",
       "      <td>15</td>\n",
       "      <td>오후</td>\n",
       "      <td>22.0</td>\n",
       "      <td>20.0</td>\n",
       "      <td>여자</td>\n",
       "      <td>...</td>\n",
       "      <td>99.0</td>\n",
       "      <td>40</td>\n",
       "      <td>92.0</td>\n",
       "      <td>28.0</td>\n",
       "      <td>144.5</td>\n",
       "      <td>3.3</td>\n",
       "      <td>67.0</td>\n",
       "      <td>286.5</td>\n",
       "      <td>47.0</td>\n",
       "      <td>0.287770</td>\n",
       "    </tr>\n",
       "    <tr>\n",
       "      <th>4</th>\n",
       "      <td>스킨터치1</td>\n",
       "      <td>부산광역시</td>\n",
       "      <td>2012</td>\n",
       "      <td>7</td>\n",
       "      <td>29</td>\n",
       "      <td>18</td>\n",
       "      <td>저녁</td>\n",
       "      <td>23.0</td>\n",
       "      <td>20.0</td>\n",
       "      <td>여자</td>\n",
       "      <td>...</td>\n",
       "      <td>99.0</td>\n",
       "      <td>46</td>\n",
       "      <td>92.0</td>\n",
       "      <td>25.5</td>\n",
       "      <td>502.0</td>\n",
       "      <td>3.3</td>\n",
       "      <td>78.0</td>\n",
       "      <td>221.4</td>\n",
       "      <td>40.0</td>\n",
       "      <td>0.317241</td>\n",
       "    </tr>\n",
       "  </tbody>\n",
       "</table>\n",
       "<p>5 rows × 21 columns</p>\n",
       "</div>"
      ],
      "text/plain": [
       "    측정기기    시,도     년   월   일   시 시간대    연령   연령대  성별  ...    수분  유분    탄력  \\\n",
       "0  스킨터치1  광주광역시  2014   3  29  19  저녁  21.0  20.0  여자  ...  99.0  32  92.0   \n",
       "1  스킨터치1  서울특별시  2012  12  29  20  저녁  22.0  20.0  여자  ...  99.0  87  92.0   \n",
       "2  스킨터치1  서울특별시  2013  12  18  20  저녁  22.0  20.0  여자  ...  99.0   6  92.0   \n",
       "3  스킨터치1  부산광역시  2013   8  31  15  오후  22.0  20.0  여자  ...  99.0  40  92.0   \n",
       "4  스킨터치1  부산광역시  2012   7  29  18  저녁  23.0  20.0  여자  ...  99.0  46  92.0   \n",
       "\n",
       "   평균 기온    강수량  평균 풍속  평균 습도    일조합  미세먼지       유수분  \n",
       "0    8.6  101.7    2.0   61.0  213.4  49.0  0.244275  \n",
       "1   -4.1   41.4    2.7   57.0  193.6  41.0  0.467742  \n",
       "2   -0.2   24.7    2.4   60.0  184.4  55.0  0.057143  \n",
       "3   28.0  144.5    3.3   67.0  286.5  47.0  0.287770  \n",
       "4   25.5  502.0    3.3   78.0  221.4  40.0  0.317241  \n",
       "\n",
       "[5 rows x 21 columns]"
      ]
     },
     "execution_count": 67,
     "metadata": {},
     "output_type": "execute_result"
    }
   ],
   "source": [
    "train['유수분'] = train['유분']/(train['수분']+train['유분'])\n",
    "train.head()"
   ]
  },
  {
   "cell_type": "markdown",
   "id": "c8799b3c",
   "metadata": {},
   "source": [
    "# 탄력 시각화\n",
    "\n",
    "- 유수분, 탄력 시각화를 위해서 탄력이 범주화가 가능한지 확인"
   ]
  },
  {
   "cell_type": "code",
   "execution_count": 68,
   "id": "6b1150bb",
   "metadata": {},
   "outputs": [
    {
     "data": {
      "text/plain": [
       "<matplotlib.lines.Line2D at 0x270327cc108>"
      ]
     },
     "execution_count": 68,
     "metadata": {},
     "output_type": "execute_result"
    },
    {
     "data": {
      "image/png": "[encoded data removed]",
      "text/plain": [
       "<Figure size 432x288 with 1 Axes>"
      ]
     },
     "metadata": {},
     "output_type": "display_data"
    }
   ],
   "source": [
    "sns.histplot(train['탄력'])\n",
    "plt.axvline(x=42, color='r', linestyle='--', linewidth=2)\n",
    "plt.axvline(x=62, color='r', linestyle='--', linewidth=2)\n",
    "plt.axvline(x=78, color='r', linestyle='--', linewidth=2)\n"
   ]
  },
  {
   "cell_type": "markdown",
   "id": "7ac7589f",
   "metadata": {},
   "source": [
    "- 42 이하 D\n",
    "- 62 이하 C\n",
    "- 78 이하 B\n",
    "- 그 이상 A\n",
    "\n",
    "총 4개의 범주로 나눠서 시각화"
   ]
  },
  {
   "cell_type": "code",
   "execution_count": 69,
   "id": "58a370e7",
   "metadata": {},
   "outputs": [],
   "source": [
    "train['탄력_bin']=pd.cut(train['탄력'],bins=[0,42,62,78,100],labels=['D','C','B','A'])"
   ]
  },
  {
   "cell_type": "code",
   "execution_count": 70,
   "id": "a92be063",
   "metadata": {},
   "outputs": [
    {
     "data": {
      "text/plain": [
       "0         A\n",
       "1         A\n",
       "2         A\n",
       "3         A\n",
       "4         A\n",
       "         ..\n",
       "553043    D\n",
       "553044    D\n",
       "553045    D\n",
       "553046    D\n",
       "553047    D\n",
       "Name: 탄력_bin, Length: 513528, dtype: category\n",
       "Categories (4, object): ['D' < 'C' < 'B' < 'A']"
      ]
     },
     "execution_count": 70,
     "metadata": {},
     "output_type": "execute_result"
    }
   ],
   "source": [
    "train['탄력_bin']"
   ]
  },
  {
   "cell_type": "code",
   "execution_count": 71,
   "id": "0befa3c1",
   "metadata": {},
   "outputs": [
    {
     "data": {
      "text/plain": [
       "<AxesSubplot:xlabel='탄력_bin', ylabel='Count'>"
      ]
     },
     "execution_count": 71,
     "metadata": {},
     "output_type": "execute_result"
    },
    {
     "data": {
      "image/png": "[encoded data removed]",
      "text/plain": [
       "<Figure size 432x288 with 1 Axes>"
      ]
     },
     "metadata": {},
     "output_type": "display_data"
    }
   ],
   "source": [
    "sns.histplot(train['탄력_bin'])"
   ]
  },
  {
   "cell_type": "code",
   "execution_count": 72,
   "id": "6f060d9d",
   "metadata": {},
   "outputs": [
    {
     "data": {
      "text/html": [
       "<style type=\"text/css\">\n",
       "#T_b979d_row0_col0 {\n",
       "  background-color: #ffff66;\n",
       "  color: #000000;\n",
       "}\n",
       "#T_b979d_row1_col0 {\n",
       "  background-color: #7fbf66;\n",
       "  color: #000000;\n",
       "}\n",
       "#T_b979d_row2_col0 {\n",
       "  background-color: #5faf66;\n",
       "  color: #f1f1f1;\n",
       "}\n",
       "#T_b979d_row3_col0 {\n",
       "  background-color: #008066;\n",
       "  color: #f1f1f1;\n",
       "}\n",
       "</style>\n",
       "<table id=\"T_b979d_\">\n",
       "  <thead>\n",
       "    <tr>\n",
       "      <th class=\"blank level0\" >&nbsp;</th>\n",
       "      <th class=\"col_heading level0 col0\" >탄력_bin</th>\n",
       "    </tr>\n",
       "  </thead>\n",
       "  <tbody>\n",
       "    <tr>\n",
       "      <th id=\"T_b979d_level0_row0\" class=\"row_heading level0 row0\" >D</th>\n",
       "      <td id=\"T_b979d_row0_col0\" class=\"data row0 col0\" >208951</td>\n",
       "    </tr>\n",
       "    <tr>\n",
       "      <th id=\"T_b979d_level0_row1\" class=\"row_heading level0 row1\" >C</th>\n",
       "      <td id=\"T_b979d_row1_col0\" class=\"data row1 col0\" >132980</td>\n",
       "    </tr>\n",
       "    <tr>\n",
       "      <th id=\"T_b979d_level0_row2\" class=\"row_heading level0 row2\" >B</th>\n",
       "      <td id=\"T_b979d_row2_col0\" class=\"data row2 col0\" >114189</td>\n",
       "    </tr>\n",
       "    <tr>\n",
       "      <th id=\"T_b979d_level0_row3\" class=\"row_heading level0 row3\" >A</th>\n",
       "      <td id=\"T_b979d_row3_col0\" class=\"data row3 col0\" >57408</td>\n",
       "    </tr>\n",
       "  </tbody>\n",
       "</table>\n"
      ],
      "text/plain": [
       "<pandas.io.formats.style.Styler at 0x2702c853888>"
      ]
     },
     "execution_count": 72,
     "metadata": {},
     "output_type": "execute_result"
    }
   ],
   "source": [
    "train['탄력_bin'].value_counts().to_frame().style.background_gradient(cmap='summer')"
   ]
  },
  {
   "cell_type": "markdown",
   "id": "459db9bc",
   "metadata": {},
   "source": [
    "#  유수분, 탄력 시각화"
   ]
  },
  {
   "cell_type": "markdown",
   "id": "0c8154f0",
   "metadata": {},
   "source": [
    "## 유수분 일변량"
   ]
  },
  {
   "cell_type": "code",
   "execution_count": 73,
   "id": "58f424ec",
   "metadata": {},
   "outputs": [
    {
     "data": {
      "text/plain": [
       "<AxesSubplot:xlabel='유수분', ylabel='Count'>"
      ]
     },
     "execution_count": 73,
     "metadata": {},
     "output_type": "execute_result"
    },
    {
     "data": {
      "image/png": "[encoded data removed]",
      "text/plain": [
       "<Figure size 432x288 with 1 Axes>"
      ]
     },
     "metadata": {},
     "output_type": "display_data"
    }
   ],
   "source": [
    "sns.histplot(train['유수분'])"
   ]
  },
  {
   "cell_type": "code",
   "execution_count": 74,
   "id": "a25a97d6",
   "metadata": {},
   "outputs": [
    {
     "data": {
      "text/plain": [
       "count    513528.000000\n",
       "mean          0.407214\n",
       "std           0.214786\n",
       "min           0.000000\n",
       "25%           0.250000\n",
       "50%           0.442857\n",
       "75%           0.579832\n",
       "max           0.990000\n",
       "Name: 유수분, dtype: float64"
      ]
     },
     "execution_count": 74,
     "metadata": {},
     "output_type": "execute_result"
    }
   ],
   "source": [
    "train['유수분'].describe()"
   ]
  },
  {
   "cell_type": "markdown",
   "id": "ef025dc6",
   "metadata": {},
   "source": [
    "최대 비율 0.99, 최소 0\n",
    "\n",
    "최소 점에 위치한 경우가 제일 많다.(유분이 0 인 경우)\n",
    "\n",
    "0.3정도가 최적일것이라고 가설을 설정함."
   ]
  },
  {
   "cell_type": "markdown",
   "id": "10059779",
   "metadata": {},
   "source": [
    "## 유수분 이변량"
   ]
  },
  {
   "cell_type": "markdown",
   "id": "c7b59f05",
   "metadata": {},
   "source": [
    "### 탄력 범주를 통한 시각화"
   ]
  },
  {
   "cell_type": "code",
   "execution_count": 81,
   "id": "dae99a00",
   "metadata": {},
   "outputs": [
    {
     "data": {
      "text/plain": [
       "<AxesSubplot:xlabel='유수분', ylabel='Count'>"
      ]
     },
     "execution_count": 81,
     "metadata": {},
     "output_type": "execute_result"
    },
    {
     "data": {
      "image/png": "[encoded data removed]",
      "text/plain": [
       "<Figure size 432x288 with 1 Axes>"
      ]
     },
     "metadata": {},
     "output_type": "display_data"
    }
   ],
   "source": [
    "sns.histplot(x=train['유수분'],hue=train['탄력_bin'],multiple='stack')"
   ]
  },
  {
   "cell_type": "markdown",
   "id": "2bee51cb",
   "metadata": {},
   "source": [
    "예상과 달리 골고루 탄력이 분포한다..."
   ]
  },
  {
   "cell_type": "code",
   "execution_count": 84,
   "id": "d74e9525",
   "metadata": {},
   "outputs": [
    {
     "data": {
      "text/plain": [
       "<AxesSubplot:xlabel='유수분', ylabel='탄력_bin'>"
      ]
     },
     "execution_count": 84,
     "metadata": {},
     "output_type": "execute_result"
    },
    {
     "data": {
      "image/png": "[encoded data removed]",
      "text/plain": [
       "<Figure size 432x288 with 1 Axes>"
      ]
     },
     "metadata": {},
     "output_type": "display_data"
    }
   ],
   "source": [
    "sns.scatterplot(x=train['유수분'],y=train['탄력_bin'])"
   ]
  },
  {
   "cell_type": "code",
   "execution_count": 85,
   "id": "d9ab3a59",
   "metadata": {},
   "outputs": [
    {
     "data": {
      "text/html": [
       "<div>\n",
       "<style scoped>\n",
       "    .dataframe tbody tr th:only-of-type {\n",
       "        vertical-align: middle;\n",
       "    }\n",
       "\n",
       "    .dataframe tbody tr th {\n",
       "        vertical-align: top;\n",
       "    }\n",
       "\n",
       "    .dataframe thead th {\n",
       "        text-align: right;\n",
       "    }\n",
       "</style>\n",
       "<table border=\"1\" class=\"dataframe\">\n",
       "  <thead>\n",
       "    <tr style=\"text-align: right;\">\n",
       "      <th></th>\n",
       "      <th>유수분</th>\n",
       "      <th>유분</th>\n",
       "      <th>수분</th>\n",
       "      <th>탄력</th>\n",
       "    </tr>\n",
       "  </thead>\n",
       "  <tbody>\n",
       "    <tr>\n",
       "      <th>유수분</th>\n",
       "      <td>1.000000</td>\n",
       "      <td>0.863979</td>\n",
       "      <td>-0.060420</td>\n",
       "      <td>0.090076</td>\n",
       "    </tr>\n",
       "    <tr>\n",
       "      <th>유분</th>\n",
       "      <td>0.863979</td>\n",
       "      <td>1.000000</td>\n",
       "      <td>0.269872</td>\n",
       "      <td>0.072333</td>\n",
       "    </tr>\n",
       "    <tr>\n",
       "      <th>수분</th>\n",
       "      <td>-0.060420</td>\n",
       "      <td>0.269872</td>\n",
       "      <td>1.000000</td>\n",
       "      <td>-0.026374</td>\n",
       "    </tr>\n",
       "    <tr>\n",
       "      <th>탄력</th>\n",
       "      <td>0.090076</td>\n",
       "      <td>0.072333</td>\n",
       "      <td>-0.026374</td>\n",
       "      <td>1.000000</td>\n",
       "    </tr>\n",
       "  </tbody>\n",
       "</table>\n",
       "</div>"
      ],
      "text/plain": [
       "          유수분        유분        수분        탄력\n",
       "유수분  1.000000  0.863979 -0.060420  0.090076\n",
       "유분   0.863979  1.000000  0.269872  0.072333\n",
       "수분  -0.060420  0.269872  1.000000 -0.026374\n",
       "탄력   0.090076  0.072333 -0.026374  1.000000"
      ]
     },
     "execution_count": 85,
     "metadata": {},
     "output_type": "execute_result"
    }
   ],
   "source": [
    "train[['유수분','유분','수분','탄력']].corr()"
   ]
  },
  {
   "cell_type": "markdown",
   "id": "99638dc7",
   "metadata": {},
   "source": [
    "탄력과 유수분이 0.09 밖에 상관성이 없다.\n",
    "\n",
    "나머지 변수도 상관성이 없게 관측된다.\n",
    "\n",
    "피부의 건강도를 측정할 다른 변수가 필요한 것으로 생각된다."
   ]
  },
  {
   "cell_type": "markdown",
   "id": "bba91f09",
   "metadata": {},
   "source": [
    "# 결론\n",
    "\n",
    "- 유수분 밸런스가 탄력을 설명해주지는 못한다.\n",
    "- 탄력외의 다른 변수를 찾아야할지.\n",
    "- 또는 유수분 밸런스 공식을 새로 생각해봐야 할지."
   ]
  },
  {
   "cell_type": "code",
   "execution_count": null,
   "id": "53e3ab95",
   "metadata": {},
   "outputs": [],
   "source": []
  }
 ],
 "metadata": {
  "kernelspec": {
   "display_name": "Python 3 (ipykernel)",
   "language": "python",
   "name": "python3"
  },
  "language_info": {
   "codemirror_mode": {
    "name": "ipython",
    "version": 3
   },
   "file_extension": ".py",
   "mimetype": "text/x-python",
   "name": "python",
   "nbconvert_exporter": "python",
   "pygments_lexer": "ipython3",
   "version": "3.7.10"
  },
  "toc": {
   "base_numbering": 1,
   "nav_menu": {},
   "number_sections": true,
   "sideBar": true,
   "skip_h1_title": false,
   "title_cell": "Table of Contents",
   "title_sidebar": "Contents",
   "toc_cell": false,
   "toc_position": {},
   "toc_section_display": true,
   "toc_window_display": false
  }
 },
 "nbformat": 4,
 "nbformat_minor": 5
}
