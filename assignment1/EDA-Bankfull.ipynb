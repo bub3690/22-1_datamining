{
 "cells": [
  {
   "cell_type": "markdown",
   "id": "ce1baccd",
   "metadata": {},
   "source": [
    "# 데이터마이닝 과제1\n",
    "\n",
    "- 이종법 12171676 컴퓨터공학과\n",
    "\n"
   ]
  },
  {
   "cell_type": "markdown",
   "id": "e4a88c93",
   "metadata": {},
   "source": [
    "# 포르투칼 소매은행 정기예금 텔레마케팅 결과 \n",
    "\n",
    "다른 변수들이 정기예금 가입 여부에 어떤 영향을 주는지 EDA릍 통하여 분석하라."
   ]
  },
  {
   "cell_type": "markdown",
   "id": "80392d83",
   "metadata": {},
   "source": [
    "# 변수 설명\n",
    "\n",
    "```\n",
    "   1 - age : 나이 (numeric)\n",
    "   2 - job : 직업종류 (categorical) \n",
    "admin., blue-collar, entrepreneur, housemaid, management, retired, self-employed, services, student, technician, unemployed, unknown.\n",
    "   3 - marital : 결혼 상태 (categorical)\n",
    "divorced, married, single, unknown.\n",
    "note: divorced means divorced or widowed\n",
    "   4 - education : 교육 정도 (categorical)\n",
    "basic.4y, basic.6y, basic.9y, high.school, illiterate, professional.course, university.degree, unknown.\n",
    "   5 - default: 신용불량 여부 (categorical)\n",
    "no, yes, unknown.\n",
    "   6 - housing: 주택대출 여부 (categorical)\n",
    "no, yes, unknown.\n",
    "   7 - loan: 개인대출 여부 (categorical)\n",
    "no, yes, unknown.\n",
    "\n",
    "   # related with the last contact of the current campaign:\n",
    "   8 - contact: 접촉 유형 (categorical)\n",
    "cellular, telephone\n",
    "   9 - month: 마직막 접촉 월 (categorical)\n",
    "jan,  feb,  mar,  ...,  nov,  dec.\n",
    "  10 - day_of_week: 마지막 접촉 요일 (categorical)\n",
    "mon, tue, wed, thu, fri.\n",
    "  11 - duration: 마지막 접촉 통화시간 (단위:초) (numeric)\n",
    "\n",
    "   # other attributes:\n",
    "  12 - campaign: 이 캠페인에서 해당 클라이언트에 대한 접촉 횟수 (numeric)  \n",
    "includes last contact\n",
    "  13 - pdays: 이전 캠페인에서 클라이언트에 마지막으로 연락한 후 경과한 일 수 (numeric)\n",
    "999 클라이언트에 이전에 연결되지 않음을 의미함\n",
    "  14 - previous: 지난 캠페인에서 해당 클라이언트에 대한 접촉 횟수 (numeric)\n",
    "  15 - poutcome: 이전 마케팅 캠페인의 결과 (categorical)\n",
    "failure, nonexistent, success\n",
    "\n",
    "   # social and economic context attributes\n",
    "  16 - emp.var.rate: 고용 변동률 - 분기별 지표 (numeric)\n",
    "  17 - cons.price.idx: 소비자물가지수 - 월간지표 (numeric)     \n",
    "  18 - cons.conf.idx: 소비자 신뢰 지수 - 월간 지표 (numeric)\n",
    "  19 - euribor3m: 3개월 만기 유로예금 이자율 - 일별 지표 (numeric)\n",
    "  20 - nr.employed: 고용자 수 - 분기별 지표 (numeric)\n",
    "\n",
    "  Target\n",
    "  21 - y – 정기예금 가입 여부 (binary)\n",
    "yes, no\n",
    "\n",
    "```\n",
    "\n",
    "category: 10, numeric : 10\n",
    "\n",
    "- 이를 통해 생각해본 가설 및 변수 해석들\n",
    "    - age에 따라 그룹이 구별될 것 같다. 가중치가 있는 그룹에 더미변수를 추가할것. (변수 가공)\n",
    "    - (month, day_of_week)는 현재 조사시점이 언제인지와 관련이 있어보인다.pdays와 다중공선성이 있을것이라 생각됨. 분포 확인 후 제거. (변수가공)\n",
    "    - unknown이 있는 컬럼들은 one-hot-encoding이 되야한다.\n",
    "    - pdays는 실제 통화후 시간, previous는 실제 통화를 안해도 연락한 횟수를 말한다.\n",
    "    - 16~20는 주변 상황을 의미하는 변수로, 선형 변환으로 하나로 그룹 되지 않을까? (변수 가공)\n",
    "    - default 신용불량 여부 unknown은, 신용불량자가 답하지 않을 것으로 생각. 정기예금을 가입하지 않을 확률이 높다 생각한다. unknonwn은 yes로 바꿔줄 수 있지 않을까?"
   ]
  },
  {
   "cell_type": "code",
   "execution_count": 2,
   "id": "87a6f3f9",
   "metadata": {},
   "outputs": [],
   "source": [
    "import matplotlib.pyplot as plt\n",
    "import numpy as np\n",
    "from glob import glob\n",
    "import pandas as pd\n",
    "import sys"
   ]
  },
  {
   "cell_type": "code",
   "execution_count": 3,
   "id": "255a9161",
   "metadata": {},
   "outputs": [],
   "source": [
    "#시각화 패키지들\n",
    "import seaborn as sns\n",
    "import matplotlib.pyplot as plt\n",
    "from statsmodels.graphics.mosaicplot import mosaic\n",
    "%matplotlib inline\n",
    "\n",
    "plt.style.use(\"ggplot\")"
   ]
  },
  {
   "cell_type": "code",
   "execution_count": 4,
   "id": "148dd9c8",
   "metadata": {},
   "outputs": [],
   "source": [
    "#분석 관련\n",
    "from scipy.stats import chi2_contingency\n",
    "from scipy.stats import kstest\n",
    "from statsmodels.formula.api import ols"
   ]
  },
  {
   "cell_type": "markdown",
   "id": "0f6a249f",
   "metadata": {},
   "source": [
    "# 데이터 확인"
   ]
  },
  {
   "cell_type": "code",
   "execution_count": 5,
   "id": "0e294efa",
   "metadata": {},
   "outputs": [],
   "source": [
    "# 파일 불러오기\n",
    "train = pd.read_csv('./data/bank-full2.csv')\n",
    "#submission = pd.read_csv('./data/sample_submission.csv')"
   ]
  },
  {
   "cell_type": "markdown",
   "id": "1056aedc",
   "metadata": {},
   "source": [
    "더 자세하게 확인하려면, train과 test를 나눠야겠지만 과제이기 때문에 train으로 분석"
   ]
  },
  {
   "cell_type": "code",
   "execution_count": 6,
   "id": "2c5fc113",
   "metadata": {},
   "outputs": [
    {
     "data": {
      "text/html": [
       "<div>\n",
       "<style scoped>\n",
       "    .dataframe tbody tr th:only-of-type {\n",
       "        vertical-align: middle;\n",
       "    }\n",
       "\n",
       "    .dataframe tbody tr th {\n",
       "        vertical-align: top;\n",
       "    }\n",
       "\n",
       "    .dataframe thead th {\n",
       "        text-align: right;\n",
       "    }\n",
       "</style>\n",
       "<table border=\"1\" class=\"dataframe\">\n",
       "  <thead>\n",
       "    <tr style=\"text-align: right;\">\n",
       "      <th></th>\n",
       "      <th>age</th>\n",
       "      <th>job</th>\n",
       "      <th>marital</th>\n",
       "      <th>education</th>\n",
       "      <th>default</th>\n",
       "      <th>housing</th>\n",
       "      <th>loan</th>\n",
       "      <th>contact</th>\n",
       "      <th>month</th>\n",
       "      <th>day_of_week</th>\n",
       "      <th>...</th>\n",
       "      <th>campaign</th>\n",
       "      <th>pdays</th>\n",
       "      <th>previous</th>\n",
       "      <th>poutcome</th>\n",
       "      <th>emp.var.rate</th>\n",
       "      <th>cons.price.idx</th>\n",
       "      <th>cons.conf.idx</th>\n",
       "      <th>euribor3m</th>\n",
       "      <th>nr.employed</th>\n",
       "      <th>y</th>\n",
       "    </tr>\n",
       "  </thead>\n",
       "  <tbody>\n",
       "    <tr>\n",
       "      <th>0</th>\n",
       "      <td>56</td>\n",
       "      <td>housemaid</td>\n",
       "      <td>married</td>\n",
       "      <td>basic.4y</td>\n",
       "      <td>no</td>\n",
       "      <td>no</td>\n",
       "      <td>no</td>\n",
       "      <td>telephone</td>\n",
       "      <td>may</td>\n",
       "      <td>mon</td>\n",
       "      <td>...</td>\n",
       "      <td>1</td>\n",
       "      <td>999</td>\n",
       "      <td>0</td>\n",
       "      <td>nonexistent</td>\n",
       "      <td>1.1</td>\n",
       "      <td>93.994</td>\n",
       "      <td>-36.4</td>\n",
       "      <td>4.857</td>\n",
       "      <td>5191.0</td>\n",
       "      <td>no</td>\n",
       "    </tr>\n",
       "    <tr>\n",
       "      <th>1</th>\n",
       "      <td>57</td>\n",
       "      <td>services</td>\n",
       "      <td>married</td>\n",
       "      <td>high.school</td>\n",
       "      <td>unknown</td>\n",
       "      <td>no</td>\n",
       "      <td>no</td>\n",
       "      <td>telephone</td>\n",
       "      <td>may</td>\n",
       "      <td>mon</td>\n",
       "      <td>...</td>\n",
       "      <td>1</td>\n",
       "      <td>999</td>\n",
       "      <td>0</td>\n",
       "      <td>nonexistent</td>\n",
       "      <td>1.1</td>\n",
       "      <td>93.994</td>\n",
       "      <td>-36.4</td>\n",
       "      <td>4.857</td>\n",
       "      <td>5191.0</td>\n",
       "      <td>no</td>\n",
       "    </tr>\n",
       "    <tr>\n",
       "      <th>2</th>\n",
       "      <td>37</td>\n",
       "      <td>services</td>\n",
       "      <td>married</td>\n",
       "      <td>high.school</td>\n",
       "      <td>no</td>\n",
       "      <td>yes</td>\n",
       "      <td>no</td>\n",
       "      <td>telephone</td>\n",
       "      <td>may</td>\n",
       "      <td>mon</td>\n",
       "      <td>...</td>\n",
       "      <td>1</td>\n",
       "      <td>999</td>\n",
       "      <td>0</td>\n",
       "      <td>nonexistent</td>\n",
       "      <td>1.1</td>\n",
       "      <td>93.994</td>\n",
       "      <td>-36.4</td>\n",
       "      <td>4.857</td>\n",
       "      <td>5191.0</td>\n",
       "      <td>no</td>\n",
       "    </tr>\n",
       "    <tr>\n",
       "      <th>3</th>\n",
       "      <td>40</td>\n",
       "      <td>admin.</td>\n",
       "      <td>married</td>\n",
       "      <td>basic.6y</td>\n",
       "      <td>no</td>\n",
       "      <td>no</td>\n",
       "      <td>no</td>\n",
       "      <td>telephone</td>\n",
       "      <td>may</td>\n",
       "      <td>mon</td>\n",
       "      <td>...</td>\n",
       "      <td>1</td>\n",
       "      <td>999</td>\n",
       "      <td>0</td>\n",
       "      <td>nonexistent</td>\n",
       "      <td>1.1</td>\n",
       "      <td>93.994</td>\n",
       "      <td>-36.4</td>\n",
       "      <td>4.857</td>\n",
       "      <td>5191.0</td>\n",
       "      <td>no</td>\n",
       "    </tr>\n",
       "    <tr>\n",
       "      <th>4</th>\n",
       "      <td>56</td>\n",
       "      <td>services</td>\n",
       "      <td>married</td>\n",
       "      <td>high.school</td>\n",
       "      <td>no</td>\n",
       "      <td>no</td>\n",
       "      <td>yes</td>\n",
       "      <td>telephone</td>\n",
       "      <td>may</td>\n",
       "      <td>mon</td>\n",
       "      <td>...</td>\n",
       "      <td>1</td>\n",
       "      <td>999</td>\n",
       "      <td>0</td>\n",
       "      <td>nonexistent</td>\n",
       "      <td>1.1</td>\n",
       "      <td>93.994</td>\n",
       "      <td>-36.4</td>\n",
       "      <td>4.857</td>\n",
       "      <td>5191.0</td>\n",
       "      <td>no</td>\n",
       "    </tr>\n",
       "    <tr>\n",
       "      <th>...</th>\n",
       "      <td>...</td>\n",
       "      <td>...</td>\n",
       "      <td>...</td>\n",
       "      <td>...</td>\n",
       "      <td>...</td>\n",
       "      <td>...</td>\n",
       "      <td>...</td>\n",
       "      <td>...</td>\n",
       "      <td>...</td>\n",
       "      <td>...</td>\n",
       "      <td>...</td>\n",
       "      <td>...</td>\n",
       "      <td>...</td>\n",
       "      <td>...</td>\n",
       "      <td>...</td>\n",
       "      <td>...</td>\n",
       "      <td>...</td>\n",
       "      <td>...</td>\n",
       "      <td>...</td>\n",
       "      <td>...</td>\n",
       "      <td>...</td>\n",
       "    </tr>\n",
       "    <tr>\n",
       "      <th>41183</th>\n",
       "      <td>73</td>\n",
       "      <td>retired</td>\n",
       "      <td>married</td>\n",
       "      <td>professional.course</td>\n",
       "      <td>no</td>\n",
       "      <td>yes</td>\n",
       "      <td>no</td>\n",
       "      <td>cellular</td>\n",
       "      <td>nov</td>\n",
       "      <td>fri</td>\n",
       "      <td>...</td>\n",
       "      <td>1</td>\n",
       "      <td>999</td>\n",
       "      <td>0</td>\n",
       "      <td>nonexistent</td>\n",
       "      <td>-1.1</td>\n",
       "      <td>94.767</td>\n",
       "      <td>-50.8</td>\n",
       "      <td>1.028</td>\n",
       "      <td>4963.6</td>\n",
       "      <td>yes</td>\n",
       "    </tr>\n",
       "    <tr>\n",
       "      <th>41184</th>\n",
       "      <td>46</td>\n",
       "      <td>blue-collar</td>\n",
       "      <td>married</td>\n",
       "      <td>professional.course</td>\n",
       "      <td>no</td>\n",
       "      <td>no</td>\n",
       "      <td>no</td>\n",
       "      <td>cellular</td>\n",
       "      <td>nov</td>\n",
       "      <td>fri</td>\n",
       "      <td>...</td>\n",
       "      <td>1</td>\n",
       "      <td>999</td>\n",
       "      <td>0</td>\n",
       "      <td>nonexistent</td>\n",
       "      <td>-1.1</td>\n",
       "      <td>94.767</td>\n",
       "      <td>-50.8</td>\n",
       "      <td>1.028</td>\n",
       "      <td>4963.6</td>\n",
       "      <td>no</td>\n",
       "    </tr>\n",
       "    <tr>\n",
       "      <th>41185</th>\n",
       "      <td>56</td>\n",
       "      <td>retired</td>\n",
       "      <td>married</td>\n",
       "      <td>university.degree</td>\n",
       "      <td>no</td>\n",
       "      <td>yes</td>\n",
       "      <td>no</td>\n",
       "      <td>cellular</td>\n",
       "      <td>nov</td>\n",
       "      <td>fri</td>\n",
       "      <td>...</td>\n",
       "      <td>2</td>\n",
       "      <td>999</td>\n",
       "      <td>0</td>\n",
       "      <td>nonexistent</td>\n",
       "      <td>-1.1</td>\n",
       "      <td>94.767</td>\n",
       "      <td>-50.8</td>\n",
       "      <td>1.028</td>\n",
       "      <td>4963.6</td>\n",
       "      <td>no</td>\n",
       "    </tr>\n",
       "    <tr>\n",
       "      <th>41186</th>\n",
       "      <td>44</td>\n",
       "      <td>technician</td>\n",
       "      <td>married</td>\n",
       "      <td>professional.course</td>\n",
       "      <td>no</td>\n",
       "      <td>no</td>\n",
       "      <td>no</td>\n",
       "      <td>cellular</td>\n",
       "      <td>nov</td>\n",
       "      <td>fri</td>\n",
       "      <td>...</td>\n",
       "      <td>1</td>\n",
       "      <td>999</td>\n",
       "      <td>0</td>\n",
       "      <td>nonexistent</td>\n",
       "      <td>-1.1</td>\n",
       "      <td>94.767</td>\n",
       "      <td>-50.8</td>\n",
       "      <td>1.028</td>\n",
       "      <td>4963.6</td>\n",
       "      <td>yes</td>\n",
       "    </tr>\n",
       "    <tr>\n",
       "      <th>41187</th>\n",
       "      <td>74</td>\n",
       "      <td>retired</td>\n",
       "      <td>married</td>\n",
       "      <td>professional.course</td>\n",
       "      <td>no</td>\n",
       "      <td>yes</td>\n",
       "      <td>no</td>\n",
       "      <td>cellular</td>\n",
       "      <td>nov</td>\n",
       "      <td>fri</td>\n",
       "      <td>...</td>\n",
       "      <td>3</td>\n",
       "      <td>999</td>\n",
       "      <td>1</td>\n",
       "      <td>failure</td>\n",
       "      <td>-1.1</td>\n",
       "      <td>94.767</td>\n",
       "      <td>-50.8</td>\n",
       "      <td>1.028</td>\n",
       "      <td>4963.6</td>\n",
       "      <td>no</td>\n",
       "    </tr>\n",
       "  </tbody>\n",
       "</table>\n",
       "<p>41188 rows × 21 columns</p>\n",
       "</div>"
      ],
      "text/plain": [
       "       age          job  marital            education  default housing loan  \\\n",
       "0       56    housemaid  married             basic.4y       no      no   no   \n",
       "1       57     services  married          high.school  unknown      no   no   \n",
       "2       37     services  married          high.school       no     yes   no   \n",
       "3       40       admin.  married             basic.6y       no      no   no   \n",
       "4       56     services  married          high.school       no      no  yes   \n",
       "...    ...          ...      ...                  ...      ...     ...  ...   \n",
       "41183   73      retired  married  professional.course       no     yes   no   \n",
       "41184   46  blue-collar  married  professional.course       no      no   no   \n",
       "41185   56      retired  married    university.degree       no     yes   no   \n",
       "41186   44   technician  married  professional.course       no      no   no   \n",
       "41187   74      retired  married  professional.course       no     yes   no   \n",
       "\n",
       "         contact month day_of_week  ...  campaign  pdays  previous  \\\n",
       "0      telephone   may         mon  ...         1    999         0   \n",
       "1      telephone   may         mon  ...         1    999         0   \n",
       "2      telephone   may         mon  ...         1    999         0   \n",
       "3      telephone   may         mon  ...         1    999         0   \n",
       "4      telephone   may         mon  ...         1    999         0   \n",
       "...          ...   ...         ...  ...       ...    ...       ...   \n",
       "41183   cellular   nov         fri  ...         1    999         0   \n",
       "41184   cellular   nov         fri  ...         1    999         0   \n",
       "41185   cellular   nov         fri  ...         2    999         0   \n",
       "41186   cellular   nov         fri  ...         1    999         0   \n",
       "41187   cellular   nov         fri  ...         3    999         1   \n",
       "\n",
       "          poutcome emp.var.rate  cons.price.idx  cons.conf.idx  euribor3m  \\\n",
       "0      nonexistent          1.1          93.994          -36.4      4.857   \n",
       "1      nonexistent          1.1          93.994          -36.4      4.857   \n",
       "2      nonexistent          1.1          93.994          -36.4      4.857   \n",
       "3      nonexistent          1.1          93.994          -36.4      4.857   \n",
       "4      nonexistent          1.1          93.994          -36.4      4.857   \n",
       "...            ...          ...             ...            ...        ...   \n",
       "41183  nonexistent         -1.1          94.767          -50.8      1.028   \n",
       "41184  nonexistent         -1.1          94.767          -50.8      1.028   \n",
       "41185  nonexistent         -1.1          94.767          -50.8      1.028   \n",
       "41186  nonexistent         -1.1          94.767          -50.8      1.028   \n",
       "41187      failure         -1.1          94.767          -50.8      1.028   \n",
       "\n",
       "       nr.employed    y  \n",
       "0           5191.0   no  \n",
       "1           5191.0   no  \n",
       "2           5191.0   no  \n",
       "3           5191.0   no  \n",
       "4           5191.0   no  \n",
       "...            ...  ...  \n",
       "41183       4963.6  yes  \n",
       "41184       4963.6   no  \n",
       "41185       4963.6   no  \n",
       "41186       4963.6  yes  \n",
       "41187       4963.6   no  \n",
       "\n",
       "[41188 rows x 21 columns]"
      ]
     },
     "execution_count": 6,
     "metadata": {},
     "output_type": "execute_result"
    }
   ],
   "source": [
    "train"
   ]
  },
  {
   "cell_type": "markdown",
   "id": "e80a4aa5",
   "metadata": {},
   "source": [
    "pdays가 999인데, prev"
   ]
  },
  {
   "cell_type": "code",
   "execution_count": 10,
   "id": "37819f1a",
   "metadata": {},
   "outputs": [
    {
     "name": "stdout",
     "output_type": "stream",
     "text": [
      "all data:  (41188, 21)\n"
     ]
    }
   ],
   "source": [
    "#차원 확인\n",
    "print(\"all data: \",train.shape)"
   ]
  },
  {
   "cell_type": "code",
   "execution_count": 15,
   "id": "14f5b175",
   "metadata": {},
   "outputs": [
    {
     "name": "stdout",
     "output_type": "stream",
     "text": [
      "yes :  4640\n",
      "no :  36548\n"
     ]
    }
   ],
   "source": [
    "print(\"yes : \",sum(train['y']=='yes'))\n",
    "print(\"no : \",sum(train['y']=='no'))"
   ]
  },
  {
   "cell_type": "markdown",
   "id": "429fdff7",
   "metadata": {},
   "source": [
    "라벨에 불균형이 있음을 볼 수 있다."
   ]
  },
  {
   "cell_type": "markdown",
   "id": "6b85bbe8",
   "metadata": {},
   "source": [
    "## 데이터 타입 확인"
   ]
  },
  {
   "cell_type": "code",
   "execution_count": 6,
   "id": "12a69821",
   "metadata": {},
   "outputs": [
    {
     "name": "stdout",
     "output_type": "stream",
     "text": [
      "<class 'pandas.core.frame.DataFrame'>\n",
      "RangeIndex: 41188 entries, 0 to 41187\n",
      "Data columns (total 21 columns):\n",
      " #   Column          Non-Null Count  Dtype  \n",
      "---  ------          --------------  -----  \n",
      " 0   age             41188 non-null  int64  \n",
      " 1   job             41188 non-null  object \n",
      " 2   marital         41188 non-null  object \n",
      " 3   education       41188 non-null  object \n",
      " 4   default         41188 non-null  object \n",
      " 5   housing         41188 non-null  object \n",
      " 6   loan            41188 non-null  object \n",
      " 7   contact         41188 non-null  object \n",
      " 8   month           41188 non-null  object \n",
      " 9   day_of_week     41188 non-null  object \n",
      " 10  duration        41188 non-null  int64  \n",
      " 11  campaign        41188 non-null  int64  \n",
      " 12  pdays           41188 non-null  int64  \n",
      " 13  previous        41188 non-null  int64  \n",
      " 14  poutcome        41188 non-null  object \n",
      " 15  emp.var.rate    41188 non-null  float64\n",
      " 16  cons.price.idx  41188 non-null  float64\n",
      " 17  cons.conf.idx   41188 non-null  float64\n",
      " 18  euribor3m       41188 non-null  float64\n",
      " 19  nr.employed     41188 non-null  float64\n",
      " 20  y               41188 non-null  object \n",
      "dtypes: float64(5), int64(5), object(11)\n",
      "memory usage: 6.6+ MB\n"
     ]
    }
   ],
   "source": [
    "train.info()"
   ]
  },
  {
   "cell_type": "markdown",
   "id": "91e4639c",
   "metadata": {},
   "source": [
    "- na는 없어 보인다. 하지만 내부에 unknown이 존재."
   ]
  },
  {
   "cell_type": "code",
   "execution_count": 7,
   "id": "81f27a94",
   "metadata": {},
   "outputs": [
    {
     "name": "stderr",
     "output_type": "stream",
     "text": [
      "C:\\Users\\dlwhd\\miniconda3\\envs\\localtorch\\lib\\site-packages\\ipykernel_launcher.py:3: FutureWarning: The default value of regex will change from True to False in a future version. In addition, single character regular expressions will *not* be treated as literal strings when regex=True.\n",
      "  This is separate from the ipykernel package so we can avoid doing imports until\n"
     ]
    }
   ],
   "source": [
    "#컬럼명 변경\n",
    "# . 이 있으면 분석시 오류가 생겨서.\n",
    "train.columns = train.columns.str.replace('.','_')"
   ]
  },
  {
   "cell_type": "code",
   "execution_count": 19,
   "id": "cfe0c6a3",
   "metadata": {},
   "outputs": [
    {
     "data": {
      "text/plain": [
       "age               0\n",
       "job               0\n",
       "marital           0\n",
       "education         0\n",
       "default           0\n",
       "housing           0\n",
       "loan              0\n",
       "contact           0\n",
       "month             0\n",
       "day_of_week       0\n",
       "duration          0\n",
       "campaign          0\n",
       "pdays             0\n",
       "previous          0\n",
       "poutcome          0\n",
       "emp_var_rate      0\n",
       "cons_price_idx    0\n",
       "cons_conf_idx     0\n",
       "euribor3m         0\n",
       "nr_employed       0\n",
       "y                 0\n",
       "dtype: int64"
      ]
     },
     "execution_count": 19,
     "metadata": {},
     "output_type": "execute_result"
    }
   ],
   "source": [
    "train.isna().sum()"
   ]
  },
  {
   "cell_type": "code",
   "execution_count": 22,
   "id": "28e79075",
   "metadata": {
    "scrolled": false
   },
   "outputs": [
    {
     "data": {
      "text/plain": [
       "age                  0\n",
       "job                330\n",
       "marital             80\n",
       "education         1731\n",
       "default           8597\n",
       "housing            990\n",
       "loan               990\n",
       "contact              0\n",
       "month                0\n",
       "day_of_week          0\n",
       "duration             0\n",
       "campaign             0\n",
       "pdays                0\n",
       "previous             0\n",
       "poutcome             0\n",
       "emp_var_rate         0\n",
       "cons_price_idx       0\n",
       "cons_conf_idx        0\n",
       "euribor3m            0\n",
       "nr_employed          0\n",
       "y                    0\n",
       "dtype: int64"
      ]
     },
     "execution_count": 22,
     "metadata": {},
     "output_type": "execute_result"
    }
   ],
   "source": [
    "(train=='unknown').sum()"
   ]
  },
  {
   "cell_type": "markdown",
   "id": "97a76a64",
   "metadata": {},
   "source": [
    "na가 많은 편으로 볼 수 있다.\n",
    "\n",
    "특이하게, housing과 loan이 같은수의 na를 가진다. 이는, 주택대출 한사람이 개인대출도 했을 가능성이 높다고 보인다. 둘다 unknown을 yes로 바꿔줄 수 있지 않을까.\n",
    "\n",
    "default는 신용불량자를 뜻하는데 target에 따른 분포를 확인해서, yes로 바꿔줄 수 있다고 생각함.\n"
   ]
  },
  {
   "cell_type": "markdown",
   "id": "31903985",
   "metadata": {},
   "source": [
    "# 범주형 레벨 확인"
   ]
  },
  {
   "cell_type": "code",
   "execution_count": 23,
   "id": "bd336a93",
   "metadata": {},
   "outputs": [
    {
     "name": "stdout",
     "output_type": "stream",
     "text": [
      "Index(['age', 'job', 'marital', 'education', 'default', 'housing', 'loan',\n",
      "       'contact', 'month', 'day_of_week', 'duration', 'campaign', 'pdays',\n",
      "       'previous', 'poutcome', 'emp_var_rate', 'cons_price_idx',\n",
      "       'cons_conf_idx', 'euribor3m', 'nr_employed', 'y'],\n",
      "      dtype='object')\n"
     ]
    }
   ],
   "source": [
    "print(train.columns)"
   ]
  },
  {
   "cell_type": "code",
   "execution_count": 24,
   "id": "f01e84d4",
   "metadata": {
    "scrolled": false
   },
   "outputs": [
    {
     "name": "stdout",
     "output_type": "stream",
     "text": [
      "job \n",
      " ['housemaid' 'services' 'admin.' 'blue-collar' 'technician' 'retired'\n",
      " 'management' 'unemployed' 'self-employed' 'unknown' 'entrepreneur'\n",
      " 'student']\n",
      "marital \n",
      " ['married' 'single' 'divorced' 'unknown']\n",
      "education \n",
      " ['basic.4y' 'high.school' 'basic.6y' 'basic.9y' 'professional.course'\n",
      " 'unknown' 'university.degree' 'illiterate']\n",
      "default \n",
      " ['no' 'unknown' 'yes']\n",
      "housing \n",
      " ['no' 'yes' 'unknown']\n",
      "loan \n",
      " ['no' 'yes' 'unknown']\n",
      "contact \n",
      " ['telephone' 'cellular']\n",
      "month \n",
      " ['may' 'jun' 'jul' 'aug' 'oct' 'nov' 'dec' 'mar' 'apr' 'sep']\n",
      "day_of_week \n",
      " ['mon' 'tue' 'wed' 'thu' 'fri']\n",
      "poutcome \n",
      " ['nonexistent' 'failure' 'success']\n"
     ]
    }
   ],
   "source": [
    "print('job \\n',train['job'].unique())\n",
    "print('marital \\n',train['marital'].unique())\n",
    "print('education \\n',train['education'].unique())\n",
    "print('default \\n',train['default'].unique())\n",
    "print('housing \\n',train['housing'].unique())\n",
    "print('loan \\n',train['loan'].unique())\n",
    "print('contact \\n',train['contact'].unique())\n",
    "print('month \\n',train['month'].unique())\n",
    "print('day_of_week \\n',train['day_of_week'].unique())\n",
    "print('poutcome \\n',train['poutcome'].unique())\n"
   ]
  },
  {
   "cell_type": "markdown",
   "id": "d8d1b712",
   "metadata": {},
   "source": [
    "오타가 있는 범주는 없다."
   ]
  },
  {
   "cell_type": "markdown",
   "id": "60640cac",
   "metadata": {},
   "source": [
    "# 범주형 데이터 분석"
   ]
  },
  {
   "cell_type": "markdown",
   "id": "89dab863",
   "metadata": {},
   "source": [
    "## job\n",
    "\n",
    "- unknow값도 존재해서, group에 포함시킬 수도 있는지 확인해본다.\n",
    "\n",
    "target vs job"
   ]
  },
  {
   "cell_type": "code",
   "execution_count": 36,
   "id": "51317d69",
   "metadata": {},
   "outputs": [],
   "source": [
    "job_crosstab=pd.crosstab(train['job'],train['y'])\n",
    "job_crossgtab_res=chi2_contingency(job_crosstab)"
   ]
  },
  {
   "cell_type": "code",
   "execution_count": 37,
   "id": "66b23567",
   "metadata": {},
   "outputs": [
    {
     "data": {
      "text/html": [
       "<div>\n",
       "<style scoped>\n",
       "    .dataframe tbody tr th:only-of-type {\n",
       "        vertical-align: middle;\n",
       "    }\n",
       "\n",
       "    .dataframe tbody tr th {\n",
       "        vertical-align: top;\n",
       "    }\n",
       "\n",
       "    .dataframe thead th {\n",
       "        text-align: right;\n",
       "    }\n",
       "</style>\n",
       "<table border=\"1\" class=\"dataframe\">\n",
       "  <thead>\n",
       "    <tr style=\"text-align: right;\">\n",
       "      <th>y</th>\n",
       "      <th>no</th>\n",
       "      <th>yes</th>\n",
       "    </tr>\n",
       "    <tr>\n",
       "      <th>job</th>\n",
       "      <th></th>\n",
       "      <th></th>\n",
       "    </tr>\n",
       "  </thead>\n",
       "  <tbody>\n",
       "    <tr>\n",
       "      <th>admin.</th>\n",
       "      <td>9070</td>\n",
       "      <td>1352</td>\n",
       "    </tr>\n",
       "    <tr>\n",
       "      <th>blue-collar</th>\n",
       "      <td>8616</td>\n",
       "      <td>638</td>\n",
       "    </tr>\n",
       "    <tr>\n",
       "      <th>entrepreneur</th>\n",
       "      <td>1332</td>\n",
       "      <td>124</td>\n",
       "    </tr>\n",
       "    <tr>\n",
       "      <th>housemaid</th>\n",
       "      <td>954</td>\n",
       "      <td>106</td>\n",
       "    </tr>\n",
       "    <tr>\n",
       "      <th>management</th>\n",
       "      <td>2596</td>\n",
       "      <td>328</td>\n",
       "    </tr>\n",
       "    <tr>\n",
       "      <th>retired</th>\n",
       "      <td>1286</td>\n",
       "      <td>434</td>\n",
       "    </tr>\n",
       "    <tr>\n",
       "      <th>self-employed</th>\n",
       "      <td>1272</td>\n",
       "      <td>149</td>\n",
       "    </tr>\n",
       "    <tr>\n",
       "      <th>services</th>\n",
       "      <td>3646</td>\n",
       "      <td>323</td>\n",
       "    </tr>\n",
       "    <tr>\n",
       "      <th>student</th>\n",
       "      <td>600</td>\n",
       "      <td>275</td>\n",
       "    </tr>\n",
       "    <tr>\n",
       "      <th>technician</th>\n",
       "      <td>6013</td>\n",
       "      <td>730</td>\n",
       "    </tr>\n",
       "    <tr>\n",
       "      <th>unemployed</th>\n",
       "      <td>870</td>\n",
       "      <td>144</td>\n",
       "    </tr>\n",
       "    <tr>\n",
       "      <th>unknown</th>\n",
       "      <td>293</td>\n",
       "      <td>37</td>\n",
       "    </tr>\n",
       "  </tbody>\n",
       "</table>\n",
       "</div>"
      ],
      "text/plain": [
       "y                no   yes\n",
       "job                      \n",
       "admin.         9070  1352\n",
       "blue-collar    8616   638\n",
       "entrepreneur   1332   124\n",
       "housemaid       954   106\n",
       "management     2596   328\n",
       "retired        1286   434\n",
       "self-employed  1272   149\n",
       "services       3646   323\n",
       "student         600   275\n",
       "technician     6013   730\n",
       "unemployed      870   144\n",
       "unknown         293    37"
      ]
     },
     "execution_count": 37,
     "metadata": {},
     "output_type": "execute_result"
    }
   ],
   "source": [
    "job_crosstab"
   ]
  },
  {
   "cell_type": "code",
   "execution_count": 38,
   "id": "213208ca",
   "metadata": {},
   "outputs": [
    {
     "data": {
      "image/png": "[encoded data removed]",
      "text/plain": [
       "<Figure size 720x720 with 3 Axes>"
      ]
     },
     "metadata": {},
     "output_type": "display_data"
    }
   ],
   "source": [
    "plt.rcParams[\"figure.figsize\"]=(10,10)\n",
    "\n",
    "mosaic(train, ['job', 'y'],gap=0.01,label_rotation=True)\n",
    "\n",
    "\n",
    "plt.title('Mosaic Chart of job', fontsize=20)\n",
    "\n",
    "plt.show()\n",
    "plt.rcParams[\"figure.figsize\"]=(6.0,4.0)"
   ]
  },
  {
   "cell_type": "markdown",
   "id": "8e411e9e",
   "metadata": {},
   "source": [
    "도수만 다를 뿐, student, retired을 제외하고는 다들 비슷한 분포를 가진다."
   ]
  },
  {
   "cell_type": "code",
   "execution_count": 50,
   "id": "66b646b2",
   "metadata": {},
   "outputs": [
    {
     "data": {
      "text/plain": [
       "<AxesSubplot:xlabel='job'>"
      ]
     },
     "execution_count": 50,
     "metadata": {},
     "output_type": "execute_result"
    },
    {
     "data": {
      "image/png": "[encoded data removed]",
      "text/plain": [
       "<Figure size 432x288 with 1 Axes>"
      ]
     },
     "metadata": {},
     "output_type": "display_data"
    }
   ],
   "source": [
    "#ratio plot 제작\n",
    "def ratio_table(cross_tab):\n",
    "    return cross_tab.div(cross_tab.sum(axis=1),axis='index')\n",
    "\n",
    "job_ratio=ratio_table(job_crosstab)\n",
    "job_ratio=job_ratio.sort_values(by='no',ascending=False)\n",
    "\n",
    "job_ratio.plot(kind='bar',stacked=True)"
   ]
  },
  {
   "cell_type": "code",
   "execution_count": 51,
   "id": "4fcfb391",
   "metadata": {
    "scrolled": false
   },
   "outputs": [
    {
     "data": {
      "text/html": [
       "<div>\n",
       "<style scoped>\n",
       "    .dataframe tbody tr th:only-of-type {\n",
       "        vertical-align: middle;\n",
       "    }\n",
       "\n",
       "    .dataframe tbody tr th {\n",
       "        vertical-align: top;\n",
       "    }\n",
       "\n",
       "    .dataframe thead th {\n",
       "        text-align: right;\n",
       "    }\n",
       "</style>\n",
       "<table border=\"1\" class=\"dataframe\">\n",
       "  <thead>\n",
       "    <tr style=\"text-align: right;\">\n",
       "      <th>y</th>\n",
       "      <th>no</th>\n",
       "      <th>yes</th>\n",
       "    </tr>\n",
       "    <tr>\n",
       "      <th>job</th>\n",
       "      <th></th>\n",
       "      <th></th>\n",
       "    </tr>\n",
       "  </thead>\n",
       "  <tbody>\n",
       "    <tr>\n",
       "      <th>blue-collar</th>\n",
       "      <td>0.931057</td>\n",
       "      <td>0.068943</td>\n",
       "    </tr>\n",
       "    <tr>\n",
       "      <th>services</th>\n",
       "      <td>0.918619</td>\n",
       "      <td>0.081381</td>\n",
       "    </tr>\n",
       "    <tr>\n",
       "      <th>entrepreneur</th>\n",
       "      <td>0.914835</td>\n",
       "      <td>0.085165</td>\n",
       "    </tr>\n",
       "    <tr>\n",
       "      <th>housemaid</th>\n",
       "      <td>0.900000</td>\n",
       "      <td>0.100000</td>\n",
       "    </tr>\n",
       "    <tr>\n",
       "      <th>self-employed</th>\n",
       "      <td>0.895144</td>\n",
       "      <td>0.104856</td>\n",
       "    </tr>\n",
       "    <tr>\n",
       "      <th>technician</th>\n",
       "      <td>0.891740</td>\n",
       "      <td>0.108260</td>\n",
       "    </tr>\n",
       "    <tr>\n",
       "      <th>unknown</th>\n",
       "      <td>0.887879</td>\n",
       "      <td>0.112121</td>\n",
       "    </tr>\n",
       "    <tr>\n",
       "      <th>management</th>\n",
       "      <td>0.887825</td>\n",
       "      <td>0.112175</td>\n",
       "    </tr>\n",
       "    <tr>\n",
       "      <th>admin.</th>\n",
       "      <td>0.870274</td>\n",
       "      <td>0.129726</td>\n",
       "    </tr>\n",
       "    <tr>\n",
       "      <th>unemployed</th>\n",
       "      <td>0.857988</td>\n",
       "      <td>0.142012</td>\n",
       "    </tr>\n",
       "    <tr>\n",
       "      <th>retired</th>\n",
       "      <td>0.747674</td>\n",
       "      <td>0.252326</td>\n",
       "    </tr>\n",
       "    <tr>\n",
       "      <th>student</th>\n",
       "      <td>0.685714</td>\n",
       "      <td>0.314286</td>\n",
       "    </tr>\n",
       "  </tbody>\n",
       "</table>\n",
       "</div>"
      ],
      "text/plain": [
       "y                    no       yes\n",
       "job                              \n",
       "blue-collar    0.931057  0.068943\n",
       "services       0.918619  0.081381\n",
       "entrepreneur   0.914835  0.085165\n",
       "housemaid      0.900000  0.100000\n",
       "self-employed  0.895144  0.104856\n",
       "technician     0.891740  0.108260\n",
       "unknown        0.887879  0.112121\n",
       "management     0.887825  0.112175\n",
       "admin.         0.870274  0.129726\n",
       "unemployed     0.857988  0.142012\n",
       "retired        0.747674  0.252326\n",
       "student        0.685714  0.314286"
      ]
     },
     "execution_count": 51,
     "metadata": {},
     "output_type": "execute_result"
    }
   ],
   "source": [
    "job_ratio"
   ]
  },
  {
   "cell_type": "code",
   "execution_count": 28,
   "id": "3ed7e06e",
   "metadata": {},
   "outputs": [
    {
     "name": "stdout",
     "output_type": "stream",
     "text": [
      "Chi2 Statistic: 961.2424403289555, p-value: 4.189763287563623e-199\n",
      "기각\n"
     ]
    }
   ],
   "source": [
    "print('Chi2 Statistic: {}, p-value: {}'.format(job_crossgtab_res[0], job_crossgtab_res[1]))\n",
    "print('기각')"
   ]
  },
  {
   "cell_type": "markdown",
   "id": "09ae4843",
   "metadata": {},
   "source": [
    "검정 결과 job과 target은 독립이 아님을 알 수 있다.\n",
    "\n",
    "또한, management와 unknown이 상당히 비슷해 보임을 알 수 있다."
   ]
  },
  {
   "cell_type": "markdown",
   "id": "552e13f0",
   "metadata": {},
   "source": [
    "(retired) vs (student) vs (그 외)로 grouping을 진행"
   ]
  },
  {
   "cell_type": "code",
   "execution_count": 53,
   "id": "b18b5647",
   "metadata": {},
   "outputs": [
    {
     "data": {
      "text/plain": [
       "array(['job1', 'retired', 'student'], dtype=object)"
      ]
     },
     "execution_count": 53,
     "metadata": {},
     "output_type": "execute_result"
    }
   ],
   "source": [
    "train_jobs = train.copy()\n",
    "train_jobs['job']=train_jobs['job'].replace(['blue-collar','services','entrepreneur','housemaid','self-employed','technician',\n",
    "                           'unknown','management','admin.','unemployed'],'job1')\n",
    "train_jobs['job'].unique()"
   ]
  },
  {
   "cell_type": "code",
   "execution_count": 56,
   "id": "77a552b4",
   "metadata": {},
   "outputs": [],
   "source": [
    "job_crosstab=pd.crosstab(train_jobs['job'],train['y'])\n",
    "job_crossgtab_res=chi2_contingency(job_crosstab)\n"
   ]
  },
  {
   "cell_type": "code",
   "execution_count": 57,
   "id": "f1296327",
   "metadata": {},
   "outputs": [
    {
     "name": "stdout",
     "output_type": "stream",
     "text": [
      "Chi2 Statistic: 736.5282532641304, p-value: 1.1612398226593737e-160\n",
      "기각\n"
     ]
    }
   ],
   "source": [
    "print('Chi2 Statistic: {}, p-value: {}'.format(job_crossgtab_res[0], job_crossgtab_res[1]))\n",
    "print('기각')"
   ]
  },
  {
   "cell_type": "markdown",
   "id": "e4fca1fc",
   "metadata": {},
   "source": [
    "기각하긴 하지만, pvalue가 증가하게 되었다."
   ]
  },
  {
   "cell_type": "code",
   "execution_count": 60,
   "id": "aa95cf89",
   "metadata": {},
   "outputs": [
    {
     "data": {
      "image/png": "[encoded data removed]",
      "text/plain": [
       "<Figure size 720x720 with 3 Axes>"
      ]
     },
     "metadata": {},
     "output_type": "display_data"
    }
   ],
   "source": [
    "plt.rcParams[\"figure.figsize\"]=(10,10)\n",
    "\n",
    "mosaic(train_jobs, ['job', 'y'],gap=0.01,label_rotation=True)\n",
    "\n",
    "\n",
    "plt.title('Mosaic Chart of job changed', fontsize=20)\n",
    "\n",
    "plt.show()\n",
    "plt.rcParams[\"figure.figsize\"]=(6.0,4.0)"
   ]
  },
  {
   "cell_type": "markdown",
   "id": "7bd09e49",
   "metadata": {},
   "source": [
    "## marital"
   ]
  },
  {
   "cell_type": "code",
   "execution_count": 67,
   "id": "60be368b",
   "metadata": {},
   "outputs": [],
   "source": [
    "marital_crosstab=pd.crosstab(train['marital'],train['y'])\n",
    "marital_crosstab_res=chi2_contingency(marital_crosstab)"
   ]
  },
  {
   "cell_type": "code",
   "execution_count": 68,
   "id": "64f4a75f",
   "metadata": {},
   "outputs": [
    {
     "data": {
      "text/html": [
       "<div>\n",
       "<style scoped>\n",
       "    .dataframe tbody tr th:only-of-type {\n",
       "        vertical-align: middle;\n",
       "    }\n",
       "\n",
       "    .dataframe tbody tr th {\n",
       "        vertical-align: top;\n",
       "    }\n",
       "\n",
       "    .dataframe thead th {\n",
       "        text-align: right;\n",
       "    }\n",
       "</style>\n",
       "<table border=\"1\" class=\"dataframe\">\n",
       "  <thead>\n",
       "    <tr style=\"text-align: right;\">\n",
       "      <th>y</th>\n",
       "      <th>no</th>\n",
       "      <th>yes</th>\n",
       "    </tr>\n",
       "    <tr>\n",
       "      <th>marital</th>\n",
       "      <th></th>\n",
       "      <th></th>\n",
       "    </tr>\n",
       "  </thead>\n",
       "  <tbody>\n",
       "    <tr>\n",
       "      <th>divorced</th>\n",
       "      <td>4136</td>\n",
       "      <td>476</td>\n",
       "    </tr>\n",
       "    <tr>\n",
       "      <th>married</th>\n",
       "      <td>22396</td>\n",
       "      <td>2532</td>\n",
       "    </tr>\n",
       "    <tr>\n",
       "      <th>single</th>\n",
       "      <td>9948</td>\n",
       "      <td>1620</td>\n",
       "    </tr>\n",
       "    <tr>\n",
       "      <th>unknown</th>\n",
       "      <td>68</td>\n",
       "      <td>12</td>\n",
       "    </tr>\n",
       "  </tbody>\n",
       "</table>\n",
       "</div>"
      ],
      "text/plain": [
       "y            no   yes\n",
       "marital              \n",
       "divorced   4136   476\n",
       "married   22396  2532\n",
       "single     9948  1620\n",
       "unknown      68    12"
      ]
     },
     "execution_count": 68,
     "metadata": {},
     "output_type": "execute_result"
    }
   ],
   "source": [
    "marital_crosstab"
   ]
  },
  {
   "cell_type": "code",
   "execution_count": 69,
   "id": "957ce223",
   "metadata": {},
   "outputs": [
    {
     "data": {
      "image/png": "[encoded data removed]",
      "text/plain": [
       "<Figure size 432x288 with 3 Axes>"
      ]
     },
     "metadata": {},
     "output_type": "display_data"
    }
   ],
   "source": [
    "mosaic(train, ['marital', 'y'],gap=0.01,label_rotation=True)\n",
    "\n",
    "\n",
    "plt.title('Mosaic Chart of marital', fontsize=20)\n",
    "\n",
    "plt.show()"
   ]
  },
  {
   "cell_type": "markdown",
   "id": "d0ce2151",
   "metadata": {},
   "source": [
    "욱안으로는 결혼 여부는 큰 영향을 안주는 것으로 관측된다."
   ]
  },
  {
   "cell_type": "code",
   "execution_count": 71,
   "id": "05f2fae5",
   "metadata": {},
   "outputs": [
    {
     "data": {
      "text/html": [
       "<div>\n",
       "<style scoped>\n",
       "    .dataframe tbody tr th:only-of-type {\n",
       "        vertical-align: middle;\n",
       "    }\n",
       "\n",
       "    .dataframe tbody tr th {\n",
       "        vertical-align: top;\n",
       "    }\n",
       "\n",
       "    .dataframe thead th {\n",
       "        text-align: right;\n",
       "    }\n",
       "</style>\n",
       "<table border=\"1\" class=\"dataframe\">\n",
       "  <thead>\n",
       "    <tr style=\"text-align: right;\">\n",
       "      <th>y</th>\n",
       "      <th>no</th>\n",
       "      <th>yes</th>\n",
       "    </tr>\n",
       "    <tr>\n",
       "      <th>marital</th>\n",
       "      <th></th>\n",
       "      <th></th>\n",
       "    </tr>\n",
       "  </thead>\n",
       "  <tbody>\n",
       "    <tr>\n",
       "      <th>divorced</th>\n",
       "      <td>4136</td>\n",
       "      <td>476</td>\n",
       "    </tr>\n",
       "    <tr>\n",
       "      <th>married</th>\n",
       "      <td>22396</td>\n",
       "      <td>2532</td>\n",
       "    </tr>\n",
       "    <tr>\n",
       "      <th>single</th>\n",
       "      <td>9948</td>\n",
       "      <td>1620</td>\n",
       "    </tr>\n",
       "    <tr>\n",
       "      <th>unknown</th>\n",
       "      <td>68</td>\n",
       "      <td>12</td>\n",
       "    </tr>\n",
       "  </tbody>\n",
       "</table>\n",
       "</div>"
      ],
      "text/plain": [
       "y            no   yes\n",
       "marital              \n",
       "divorced   4136   476\n",
       "married   22396  2532\n",
       "single     9948  1620\n",
       "unknown      68    12"
      ]
     },
     "execution_count": 71,
     "metadata": {},
     "output_type": "execute_result"
    }
   ],
   "source": [
    "marital_crosstab"
   ]
  },
  {
   "cell_type": "code",
   "execution_count": 72,
   "id": "81798b7d",
   "metadata": {},
   "outputs": [
    {
     "name": "stdout",
     "output_type": "stream",
     "text": [
      "Chi2 Statistic: 122.65515182252989, p-value: 2.068014648442211e-26\n",
      "기각\n"
     ]
    }
   ],
   "source": [
    "print('Chi2 Statistic: {}, p-value: {}'.format(marital_crosstab_res[0], marital_crosstab_res[1]))\n",
    "print('기각')"
   ]
  },
  {
   "cell_type": "markdown",
   "id": "0a54d426",
   "metadata": {},
   "source": [
    "그래도 카이제곱 검정은 기각을 한다. 결혼여부에 따라 다르다고 할 수 있다."
   ]
  },
  {
   "cell_type": "code",
   "execution_count": 73,
   "id": "8ebc802e",
   "metadata": {},
   "outputs": [
    {
     "data": {
      "text/plain": [
       "<AxesSubplot:xlabel='marital'>"
      ]
     },
     "execution_count": 73,
     "metadata": {},
     "output_type": "execute_result"
    },
    {
     "data": {
      "image/png": "[encoded data removed]",
      "text/plain": [
       "<Figure size 432x288 with 1 Axes>"
      ]
     },
     "metadata": {},
     "output_type": "display_data"
    }
   ],
   "source": [
    "marital_ratio=ratio_table(marital_crosstab)\n",
    "marital_ratio=marital_ratio.sort_values(by='no',ascending=False)\n",
    "\n",
    "marital_ratio.plot(kind='bar',stacked=True)"
   ]
  },
  {
   "cell_type": "code",
   "execution_count": 74,
   "id": "34bc7251",
   "metadata": {},
   "outputs": [
    {
     "data": {
      "text/html": [
       "<div>\n",
       "<style scoped>\n",
       "    .dataframe tbody tr th:only-of-type {\n",
       "        vertical-align: middle;\n",
       "    }\n",
       "\n",
       "    .dataframe tbody tr th {\n",
       "        vertical-align: top;\n",
       "    }\n",
       "\n",
       "    .dataframe thead th {\n",
       "        text-align: right;\n",
       "    }\n",
       "</style>\n",
       "<table border=\"1\" class=\"dataframe\">\n",
       "  <thead>\n",
       "    <tr style=\"text-align: right;\">\n",
       "      <th>y</th>\n",
       "      <th>no</th>\n",
       "      <th>yes</th>\n",
       "    </tr>\n",
       "    <tr>\n",
       "      <th>marital</th>\n",
       "      <th></th>\n",
       "      <th></th>\n",
       "    </tr>\n",
       "  </thead>\n",
       "  <tbody>\n",
       "    <tr>\n",
       "      <th>married</th>\n",
       "      <td>0.898427</td>\n",
       "      <td>0.101573</td>\n",
       "    </tr>\n",
       "    <tr>\n",
       "      <th>divorced</th>\n",
       "      <td>0.896791</td>\n",
       "      <td>0.103209</td>\n",
       "    </tr>\n",
       "    <tr>\n",
       "      <th>single</th>\n",
       "      <td>0.859959</td>\n",
       "      <td>0.140041</td>\n",
       "    </tr>\n",
       "    <tr>\n",
       "      <th>unknown</th>\n",
       "      <td>0.850000</td>\n",
       "      <td>0.150000</td>\n",
       "    </tr>\n",
       "  </tbody>\n",
       "</table>\n",
       "</div>"
      ],
      "text/plain": [
       "y               no       yes\n",
       "marital                     \n",
       "married   0.898427  0.101573\n",
       "divorced  0.896791  0.103209\n",
       "single    0.859959  0.140041\n",
       "unknown   0.850000  0.150000"
      ]
     },
     "execution_count": 74,
     "metadata": {},
     "output_type": "execute_result"
    }
   ],
   "source": [
    "marital_ratio"
   ]
  },
  {
   "cell_type": "markdown",
   "id": "c6c4a592",
   "metadata": {},
   "source": [
    "married와 divorced는 거의 같다고 할 수 있어서, 둘을 합쳐준다.\n",
    "\n",
    "unknown과 single도 매우 유사하다."
   ]
  },
  {
   "cell_type": "code",
   "execution_count": 79,
   "id": "2bbebcff",
   "metadata": {},
   "outputs": [
    {
     "data": {
      "text/plain": [
       "array(['marital1', 'marital2'], dtype=object)"
      ]
     },
     "execution_count": 79,
     "metadata": {},
     "output_type": "execute_result"
    }
   ],
   "source": [
    "train_marital = train.copy()\n",
    "train_marital['marital']=train_marital['marital'].replace(['married','divorced'],'marital1')\n",
    "train_marital['marital']=train_marital['marital'].replace(['single','unknown'],'marital2')\n",
    "train_marital['marital'].unique()"
   ]
  },
  {
   "cell_type": "code",
   "execution_count": 80,
   "id": "8209d7b9",
   "metadata": {},
   "outputs": [
    {
     "name": "stdout",
     "output_type": "stream",
     "text": [
      "Chi2 Statistic: 122.08940156886162, p-value: 2.206669293572927e-28\n",
      "기각\n"
     ]
    }
   ],
   "source": [
    "marital_crosstab=pd.crosstab(train_marital['marital'],train['y'])\n",
    "marital_crosstab_res=chi2_contingency(marital_crosstab)\n",
    "print('Chi2 Statistic: {}, p-value: {}'.format(marital_crosstab_res[0], marital_crosstab_res[1]))\n",
    "print('기각')"
   ]
  },
  {
   "cell_type": "markdown",
   "id": "ea4f63a1",
   "metadata": {},
   "source": [
    "grouping 후에 오히려, p-value가 감소했다."
   ]
  },
  {
   "cell_type": "code",
   "execution_count": 81,
   "id": "954b2d6c",
   "metadata": {},
   "outputs": [
    {
     "data": {
      "image/png": "[encoded data removed]",
      "text/plain": [
       "<Figure size 432x288 with 3 Axes>"
      ]
     },
     "metadata": {},
     "output_type": "display_data"
    }
   ],
   "source": [
    "mosaic(train_marital, ['marital', 'y'],gap=0.01,label_rotation=True)\n",
    "\n",
    "\n",
    "plt.title('Mosaic Chart of marital', fontsize=20)\n",
    "\n",
    "plt.show()"
   ]
  },
  {
   "cell_type": "markdown",
   "id": "9cc83cf9",
   "metadata": {},
   "source": [
    "## education"
   ]
  },
  {
   "cell_type": "code",
   "execution_count": 107,
   "id": "be52bf12",
   "metadata": {},
   "outputs": [],
   "source": [
    "education_crosstab=pd.crosstab(train['education'],train['y'])\n",
    "education_crosstab_res=chi2_contingency(education_crosstab)"
   ]
  },
  {
   "cell_type": "code",
   "execution_count": 108,
   "id": "9aeb1ba5",
   "metadata": {},
   "outputs": [
    {
     "data": {
      "text/html": [
       "<div>\n",
       "<style scoped>\n",
       "    .dataframe tbody tr th:only-of-type {\n",
       "        vertical-align: middle;\n",
       "    }\n",
       "\n",
       "    .dataframe tbody tr th {\n",
       "        vertical-align: top;\n",
       "    }\n",
       "\n",
       "    .dataframe thead th {\n",
       "        text-align: right;\n",
       "    }\n",
       "</style>\n",
       "<table border=\"1\" class=\"dataframe\">\n",
       "  <thead>\n",
       "    <tr style=\"text-align: right;\">\n",
       "      <th>y</th>\n",
       "      <th>no</th>\n",
       "      <th>yes</th>\n",
       "    </tr>\n",
       "    <tr>\n",
       "      <th>education</th>\n",
       "      <th></th>\n",
       "      <th></th>\n",
       "    </tr>\n",
       "  </thead>\n",
       "  <tbody>\n",
       "    <tr>\n",
       "      <th>basic.4y</th>\n",
       "      <td>3748</td>\n",
       "      <td>428</td>\n",
       "    </tr>\n",
       "    <tr>\n",
       "      <th>basic.6y</th>\n",
       "      <td>2104</td>\n",
       "      <td>188</td>\n",
       "    </tr>\n",
       "    <tr>\n",
       "      <th>basic.9y</th>\n",
       "      <td>5572</td>\n",
       "      <td>473</td>\n",
       "    </tr>\n",
       "    <tr>\n",
       "      <th>high.school</th>\n",
       "      <td>8484</td>\n",
       "      <td>1031</td>\n",
       "    </tr>\n",
       "    <tr>\n",
       "      <th>illiterate</th>\n",
       "      <td>14</td>\n",
       "      <td>4</td>\n",
       "    </tr>\n",
       "    <tr>\n",
       "      <th>professional.course</th>\n",
       "      <td>4648</td>\n",
       "      <td>595</td>\n",
       "    </tr>\n",
       "    <tr>\n",
       "      <th>university.degree</th>\n",
       "      <td>10498</td>\n",
       "      <td>1670</td>\n",
       "    </tr>\n",
       "    <tr>\n",
       "      <th>unknown</th>\n",
       "      <td>1480</td>\n",
       "      <td>251</td>\n",
       "    </tr>\n",
       "  </tbody>\n",
       "</table>\n",
       "</div>"
      ],
      "text/plain": [
       "y                       no   yes\n",
       "education                       \n",
       "basic.4y              3748   428\n",
       "basic.6y              2104   188\n",
       "basic.9y              5572   473\n",
       "high.school           8484  1031\n",
       "illiterate              14     4\n",
       "professional.course   4648   595\n",
       "university.degree    10498  1670\n",
       "unknown               1480   251"
      ]
     },
     "execution_count": 108,
     "metadata": {},
     "output_type": "execute_result"
    }
   ],
   "source": [
    "education_crosstab"
   ]
  },
  {
   "cell_type": "code",
   "execution_count": 109,
   "id": "f18d6f3f",
   "metadata": {},
   "outputs": [
    {
     "data": {
      "image/png": "[encoded data removed]",
      "text/plain": [
       "<Figure size 720x576 with 3 Axes>"
      ]
     },
     "metadata": {},
     "output_type": "display_data"
    }
   ],
   "source": [
    "plt.rcParams[\"figure.figsize\"]=(10,8)\n",
    "mosaic(train, ['education', 'y'],gap=0.01,label_rotation=True)\n",
    "plt.title('Mosaic Chart of education', fontsize=20)\n",
    "\n",
    "plt.show()\n",
    "plt.rcParams[\"figure.figsize\"]=(6.0,4.0)"
   ]
  },
  {
   "cell_type": "code",
   "execution_count": 110,
   "id": "1005a28e",
   "metadata": {},
   "outputs": [
    {
     "data": {
      "text/plain": [
       "<AxesSubplot:xlabel='education'>"
      ]
     },
     "execution_count": 110,
     "metadata": {},
     "output_type": "execute_result"
    },
    {
     "data": {
      "image/png": "[encoded data removed]",
      "text/plain": [
       "<Figure size 432x288 with 1 Axes>"
      ]
     },
     "metadata": {},
     "output_type": "display_data"
    }
   ],
   "source": [
    "#ratio plot 제작\n",
    "education_ratio=ratio_table(education_crosstab)\n",
    "education_ratio=education_ratio.sort_values(by='no',ascending=False)\n",
    "\n",
    "education_ratio.plot(kind='bar',stacked=True)"
   ]
  },
  {
   "cell_type": "code",
   "execution_count": 111,
   "id": "a26d4321",
   "metadata": {},
   "outputs": [
    {
     "name": "stdout",
     "output_type": "stream",
     "text": [
      "Chi2 Statistic: 193.10590454149565, p-value: 3.3051890144025054e-38\n",
      "기각\n"
     ]
    }
   ],
   "source": [
    "print('Chi2 Statistic: {}, p-value: {}'.format(education_crosstab_res[0], education_crosstab_res[1]))\n",
    "print('기각')"
   ]
  },
  {
   "cell_type": "code",
   "execution_count": 112,
   "id": "5e6cdc88",
   "metadata": {},
   "outputs": [
    {
     "data": {
      "text/html": [
       "<div>\n",
       "<style scoped>\n",
       "    .dataframe tbody tr th:only-of-type {\n",
       "        vertical-align: middle;\n",
       "    }\n",
       "\n",
       "    .dataframe tbody tr th {\n",
       "        vertical-align: top;\n",
       "    }\n",
       "\n",
       "    .dataframe thead th {\n",
       "        text-align: right;\n",
       "    }\n",
       "</style>\n",
       "<table border=\"1\" class=\"dataframe\">\n",
       "  <thead>\n",
       "    <tr style=\"text-align: right;\">\n",
       "      <th>y</th>\n",
       "      <th>no</th>\n",
       "      <th>yes</th>\n",
       "    </tr>\n",
       "    <tr>\n",
       "      <th>education</th>\n",
       "      <th></th>\n",
       "      <th></th>\n",
       "    </tr>\n",
       "  </thead>\n",
       "  <tbody>\n",
       "    <tr>\n",
       "      <th>basic.9y</th>\n",
       "      <td>0.921754</td>\n",
       "      <td>0.078246</td>\n",
       "    </tr>\n",
       "    <tr>\n",
       "      <th>basic.6y</th>\n",
       "      <td>0.917976</td>\n",
       "      <td>0.082024</td>\n",
       "    </tr>\n",
       "    <tr>\n",
       "      <th>basic.4y</th>\n",
       "      <td>0.897510</td>\n",
       "      <td>0.102490</td>\n",
       "    </tr>\n",
       "    <tr>\n",
       "      <th>high.school</th>\n",
       "      <td>0.891645</td>\n",
       "      <td>0.108355</td>\n",
       "    </tr>\n",
       "    <tr>\n",
       "      <th>professional.course</th>\n",
       "      <td>0.886515</td>\n",
       "      <td>0.113485</td>\n",
       "    </tr>\n",
       "    <tr>\n",
       "      <th>university.degree</th>\n",
       "      <td>0.862755</td>\n",
       "      <td>0.137245</td>\n",
       "    </tr>\n",
       "    <tr>\n",
       "      <th>unknown</th>\n",
       "      <td>0.854997</td>\n",
       "      <td>0.145003</td>\n",
       "    </tr>\n",
       "    <tr>\n",
       "      <th>illiterate</th>\n",
       "      <td>0.777778</td>\n",
       "      <td>0.222222</td>\n",
       "    </tr>\n",
       "  </tbody>\n",
       "</table>\n",
       "</div>"
      ],
      "text/plain": [
       "y                          no       yes\n",
       "education                              \n",
       "basic.9y             0.921754  0.078246\n",
       "basic.6y             0.917976  0.082024\n",
       "basic.4y             0.897510  0.102490\n",
       "high.school          0.891645  0.108355\n",
       "professional.course  0.886515  0.113485\n",
       "university.degree    0.862755  0.137245\n",
       "unknown              0.854997  0.145003\n",
       "illiterate           0.777778  0.222222"
      ]
     },
     "execution_count": 112,
     "metadata": {},
     "output_type": "execute_result"
    }
   ],
   "source": [
    "education_ratio"
   ]
  },
  {
   "cell_type": "markdown",
   "id": "213a5b71",
   "metadata": {},
   "source": [
    "basic과 highschool / profess / university, unknown / illiterate로 나눠보자"
   ]
  },
  {
   "cell_type": "code",
   "execution_count": 113,
   "id": "813d6fa7",
   "metadata": {},
   "outputs": [
    {
     "data": {
      "text/plain": [
       "array(['education1', 'professional.course', 'university.degree',\n",
       "       'illiterate'], dtype=object)"
      ]
     },
     "execution_count": 113,
     "metadata": {},
     "output_type": "execute_result"
    }
   ],
   "source": [
    "train_education = train.copy()\n",
    "train_education['education']=train_education['education'].replace(['basic.9y','basic.6y','basic.4y','high.school'],'education1')\n",
    "train_education['education']=train_education['education'].replace(['university.degree','unknown'],'university.degree')\n",
    "train_education['education'].unique()"
   ]
  },
  {
   "cell_type": "code",
   "execution_count": 114,
   "id": "10f2de97",
   "metadata": {},
   "outputs": [],
   "source": [
    "education_crosstab=pd.crosstab(train_education['education'],train['y'])\n",
    "education_crosstab_res=chi2_contingency(education_crosstab)"
   ]
  },
  {
   "cell_type": "code",
   "execution_count": 115,
   "id": "99085d93",
   "metadata": {},
   "outputs": [
    {
     "data": {
      "text/html": [
       "<div>\n",
       "<style scoped>\n",
       "    .dataframe tbody tr th:only-of-type {\n",
       "        vertical-align: middle;\n",
       "    }\n",
       "\n",
       "    .dataframe tbody tr th {\n",
       "        vertical-align: top;\n",
       "    }\n",
       "\n",
       "    .dataframe thead th {\n",
       "        text-align: right;\n",
       "    }\n",
       "</style>\n",
       "<table border=\"1\" class=\"dataframe\">\n",
       "  <thead>\n",
       "    <tr style=\"text-align: right;\">\n",
       "      <th>y</th>\n",
       "      <th>no</th>\n",
       "      <th>yes</th>\n",
       "    </tr>\n",
       "    <tr>\n",
       "      <th>education</th>\n",
       "      <th></th>\n",
       "      <th></th>\n",
       "    </tr>\n",
       "  </thead>\n",
       "  <tbody>\n",
       "    <tr>\n",
       "      <th>education1</th>\n",
       "      <td>19908</td>\n",
       "      <td>2120</td>\n",
       "    </tr>\n",
       "    <tr>\n",
       "      <th>illiterate</th>\n",
       "      <td>14</td>\n",
       "      <td>4</td>\n",
       "    </tr>\n",
       "    <tr>\n",
       "      <th>professional.course</th>\n",
       "      <td>4648</td>\n",
       "      <td>595</td>\n",
       "    </tr>\n",
       "    <tr>\n",
       "      <th>university.degree</th>\n",
       "      <td>11978</td>\n",
       "      <td>1921</td>\n",
       "    </tr>\n",
       "  </tbody>\n",
       "</table>\n",
       "</div>"
      ],
      "text/plain": [
       "y                       no   yes\n",
       "education                       \n",
       "education1           19908  2120\n",
       "illiterate              14     4\n",
       "professional.course   4648   595\n",
       "university.degree    11978  1921"
      ]
     },
     "execution_count": 115,
     "metadata": {},
     "output_type": "execute_result"
    }
   ],
   "source": [
    "education_crosstab"
   ]
  },
  {
   "cell_type": "code",
   "execution_count": 116,
   "id": "76d14734",
   "metadata": {},
   "outputs": [
    {
     "data": {
      "image/png": "[encoded data removed]",
      "text/plain": [
       "<Figure size 720x576 with 3 Axes>"
      ]
     },
     "metadata": {},
     "output_type": "display_data"
    }
   ],
   "source": [
    "plt.rcParams[\"figure.figsize\"]=(10,8)\n",
    "mosaic(train_education, ['education', 'y'],gap=0.01,label_rotation=True)\n",
    "plt.title('Mosaic Chart of education', fontsize=20)\n",
    "\n",
    "plt.show()\n",
    "plt.rcParams[\"figure.figsize\"]=(6.0,4.0)"
   ]
  },
  {
   "cell_type": "code",
   "execution_count": 106,
   "id": "d1e5ef37",
   "metadata": {},
   "outputs": [
    {
     "name": "stdout",
     "output_type": "stream",
     "text": [
      "Chi2 Statistic: 152.37803568673755, p-value: 8.086373337274164e-33\n",
      "기각\n"
     ]
    }
   ],
   "source": [
    "print('Chi2 Statistic: {}, p-value: {}'.format(education_crosstab_res[0], education_crosstab_res[1]))\n",
    "print('기각')"
   ]
  },
  {
   "cell_type": "markdown",
   "id": "ebc1981c",
   "metadata": {},
   "source": [
    "잘 구분되었음을 볼 수 있다."
   ]
  },
  {
   "cell_type": "markdown",
   "id": "917a3e63",
   "metadata": {},
   "source": [
    "## default \n",
    "\n",
    "가설로 unknown은 신용불량자가 아닐까 제안했다. 그것을 확인해본다."
   ]
  },
  {
   "cell_type": "code",
   "execution_count": 117,
   "id": "456a7fb6",
   "metadata": {},
   "outputs": [],
   "source": [
    "default_crosstab=pd.crosstab(train['default'],train['y'])\n",
    "default_crosstab_res=chi2_contingency(default_crosstab)"
   ]
  },
  {
   "cell_type": "code",
   "execution_count": 119,
   "id": "87569bf7",
   "metadata": {},
   "outputs": [
    {
     "data": {
      "text/html": [
       "<div>\n",
       "<style scoped>\n",
       "    .dataframe tbody tr th:only-of-type {\n",
       "        vertical-align: middle;\n",
       "    }\n",
       "\n",
       "    .dataframe tbody tr th {\n",
       "        vertical-align: top;\n",
       "    }\n",
       "\n",
       "    .dataframe thead th {\n",
       "        text-align: right;\n",
       "    }\n",
       "</style>\n",
       "<table border=\"1\" class=\"dataframe\">\n",
       "  <thead>\n",
       "    <tr style=\"text-align: right;\">\n",
       "      <th>y</th>\n",
       "      <th>no</th>\n",
       "      <th>yes</th>\n",
       "    </tr>\n",
       "    <tr>\n",
       "      <th>default</th>\n",
       "      <th></th>\n",
       "      <th></th>\n",
       "    </tr>\n",
       "  </thead>\n",
       "  <tbody>\n",
       "    <tr>\n",
       "      <th>no</th>\n",
       "      <td>28391</td>\n",
       "      <td>4197</td>\n",
       "    </tr>\n",
       "    <tr>\n",
       "      <th>unknown</th>\n",
       "      <td>8154</td>\n",
       "      <td>443</td>\n",
       "    </tr>\n",
       "    <tr>\n",
       "      <th>yes</th>\n",
       "      <td>3</td>\n",
       "      <td>0</td>\n",
       "    </tr>\n",
       "  </tbody>\n",
       "</table>\n",
       "</div>"
      ],
      "text/plain": [
       "y           no   yes\n",
       "default             \n",
       "no       28391  4197\n",
       "unknown   8154   443\n",
       "yes          3     0"
      ]
     },
     "execution_count": 119,
     "metadata": {},
     "output_type": "execute_result"
    }
   ],
   "source": [
    "default_crosstab"
   ]
  },
  {
   "cell_type": "code",
   "execution_count": 122,
   "id": "d9a2ab69",
   "metadata": {},
   "outputs": [
    {
     "data": {
      "image/png": "[encoded data removed]",
      "text/plain": [
       "<Figure size 720x576 with 3 Axes>"
      ]
     },
     "metadata": {},
     "output_type": "display_data"
    }
   ],
   "source": [
    "plt.rcParams[\"figure.figsize\"]=(10,8)\n",
    "\n",
    "mosaic(train, ['default', 'y'],gap=0.01,label_rotation=True)\n",
    "\n",
    "\n",
    "plt.title('Mosaic Chart of default', fontsize=20)\n",
    "\n",
    "plt.show()\n",
    "plt.rcParams[\"figure.figsize\"]=(6,4)"
   ]
  },
  {
   "cell_type": "markdown",
   "id": "0ddbcc31",
   "metadata": {},
   "source": [
    "스스로 신용불량자라 말하지 못한 것으로 보이고, 다들 unknown에 있다."
   ]
  },
  {
   "cell_type": "code",
   "execution_count": 123,
   "id": "e9edaf17",
   "metadata": {},
   "outputs": [
    {
     "data": {
      "text/plain": [
       "array(['no', 'yes'], dtype=object)"
      ]
     },
     "execution_count": 123,
     "metadata": {},
     "output_type": "execute_result"
    }
   ],
   "source": [
    "train_default = train.copy()\n",
    "train_default['default']=train_default['default'].replace(['unknown'],'yes')\n",
    "train_default['default'].unique()"
   ]
  },
  {
   "cell_type": "markdown",
   "id": "a742965a",
   "metadata": {},
   "source": [
    "## housing & loan\n",
    "\n",
    "가설로 housing과 loan이 둘다 unknown이면 yes일 수 있다고 생각."
   ]
  },
  {
   "cell_type": "code",
   "execution_count": 125,
   "id": "695257e2",
   "metadata": {},
   "outputs": [],
   "source": [
    "housing_crosstab=pd.crosstab(train['housing'],train['y'])\n",
    "housing_crosstab_res=chi2_contingency(housing_crosstab)\n",
    "\n",
    "loan_crosstab=pd.crosstab(train['loan'],train['y'])\n",
    "loan_crosstab_res=chi2_contingency(loan_crosstab)"
   ]
  },
  {
   "cell_type": "code",
   "execution_count": 126,
   "id": "143a11ca",
   "metadata": {},
   "outputs": [
    {
     "data": {
      "text/html": [
       "<div>\n",
       "<style scoped>\n",
       "    .dataframe tbody tr th:only-of-type {\n",
       "        vertical-align: middle;\n",
       "    }\n",
       "\n",
       "    .dataframe tbody tr th {\n",
       "        vertical-align: top;\n",
       "    }\n",
       "\n",
       "    .dataframe thead th {\n",
       "        text-align: right;\n",
       "    }\n",
       "</style>\n",
       "<table border=\"1\" class=\"dataframe\">\n",
       "  <thead>\n",
       "    <tr style=\"text-align: right;\">\n",
       "      <th>y</th>\n",
       "      <th>no</th>\n",
       "      <th>yes</th>\n",
       "    </tr>\n",
       "    <tr>\n",
       "      <th>housing</th>\n",
       "      <th></th>\n",
       "      <th></th>\n",
       "    </tr>\n",
       "  </thead>\n",
       "  <tbody>\n",
       "    <tr>\n",
       "      <th>no</th>\n",
       "      <td>16596</td>\n",
       "      <td>2026</td>\n",
       "    </tr>\n",
       "    <tr>\n",
       "      <th>unknown</th>\n",
       "      <td>883</td>\n",
       "      <td>107</td>\n",
       "    </tr>\n",
       "    <tr>\n",
       "      <th>yes</th>\n",
       "      <td>19069</td>\n",
       "      <td>2507</td>\n",
       "    </tr>\n",
       "  </tbody>\n",
       "</table>\n",
       "</div>"
      ],
      "text/plain": [
       "y           no   yes\n",
       "housing             \n",
       "no       16596  2026\n",
       "unknown    883   107\n",
       "yes      19069  2507"
      ]
     },
     "execution_count": 126,
     "metadata": {},
     "output_type": "execute_result"
    }
   ],
   "source": [
    "housing_crosstab"
   ]
  },
  {
   "cell_type": "code",
   "execution_count": 128,
   "id": "970f20f4",
   "metadata": {},
   "outputs": [
    {
     "data": {
      "text/html": [
       "<div>\n",
       "<style scoped>\n",
       "    .dataframe tbody tr th:only-of-type {\n",
       "        vertical-align: middle;\n",
       "    }\n",
       "\n",
       "    .dataframe tbody tr th {\n",
       "        vertical-align: top;\n",
       "    }\n",
       "\n",
       "    .dataframe thead th {\n",
       "        text-align: right;\n",
       "    }\n",
       "</style>\n",
       "<table border=\"1\" class=\"dataframe\">\n",
       "  <thead>\n",
       "    <tr style=\"text-align: right;\">\n",
       "      <th>y</th>\n",
       "      <th>no</th>\n",
       "      <th>yes</th>\n",
       "    </tr>\n",
       "    <tr>\n",
       "      <th>loan</th>\n",
       "      <th></th>\n",
       "      <th></th>\n",
       "    </tr>\n",
       "  </thead>\n",
       "  <tbody>\n",
       "    <tr>\n",
       "      <th>no</th>\n",
       "      <td>30100</td>\n",
       "      <td>3850</td>\n",
       "    </tr>\n",
       "    <tr>\n",
       "      <th>unknown</th>\n",
       "      <td>883</td>\n",
       "      <td>107</td>\n",
       "    </tr>\n",
       "    <tr>\n",
       "      <th>yes</th>\n",
       "      <td>5565</td>\n",
       "      <td>683</td>\n",
       "    </tr>\n",
       "  </tbody>\n",
       "</table>\n",
       "</div>"
      ],
      "text/plain": [
       "y           no   yes\n",
       "loan                \n",
       "no       30100  3850\n",
       "unknown    883   107\n",
       "yes       5565   683"
      ]
     },
     "execution_count": 128,
     "metadata": {},
     "output_type": "execute_result"
    }
   ],
   "source": [
    "loan_crosstab"
   ]
  },
  {
   "cell_type": "code",
   "execution_count": 129,
   "id": "74e81102",
   "metadata": {},
   "outputs": [
    {
     "name": "stdout",
     "output_type": "stream",
     "text": [
      "housing Chi2 Statistic: 5.684495858974168, p-value: 0.05829447669453452\n",
      "loan Chi2 Statistic: 1.094027551150338, p-value: 0.5786752870441754\n"
     ]
    }
   ],
   "source": [
    "print('housing Chi2 Statistic: {}, p-value: {}'.format(housing_crosstab_res[0], housing_crosstab_res[1]))\n",
    "print('loan Chi2 Statistic: {}, p-value: {}'.format(loan_crosstab_res[0], loan_crosstab_res[1]))\n"
   ]
  },
  {
   "cell_type": "markdown",
   "id": "38292e73",
   "metadata": {},
   "source": [
    "!중요 loan과 housing은 구분력이 없음을 볼 수있다."
   ]
  },
  {
   "cell_type": "code",
   "execution_count": 135,
   "id": "dbdb6131",
   "metadata": {},
   "outputs": [
    {
     "data": {
      "text/plain": [
       "Text(0.5, 1.0, 'Mosaic Chart of contact')"
      ]
     },
     "execution_count": 135,
     "metadata": {},
     "output_type": "execute_result"
    },
    {
     "data": {
      "image/png": "[encoded data removed]",
      "text/plain": [
       "<Figure size 432x288 with 3 Axes>"
      ]
     },
     "metadata": {},
     "output_type": "display_data"
    }
   ],
   "source": [
    "mosaic(train, ['housing', 'y'],gap=0.01,label_rotation=True)\n",
    "plt.title('Mosaic Chart of contact', fontsize=20)\n"
   ]
  },
  {
   "cell_type": "code",
   "execution_count": 132,
   "id": "48ecdc1c",
   "metadata": {},
   "outputs": [
    {
     "data": {
      "image/png": "[encoded data removed]",
      "text/plain": [
       "<Figure size 432x288 with 3 Axes>"
      ]
     },
     "metadata": {},
     "output_type": "display_data"
    }
   ],
   "source": [
    "mosaic(train, ['loan', 'y'],gap=0.01,label_rotation=True)\n",
    "plt.title('Mosaic Chart of loan', fontsize=20)\n",
    "\n",
    "plt.show()\n"
   ]
  },
  {
   "cell_type": "markdown",
   "id": "c0eabedc",
   "metadata": {},
   "source": [
    "housing과 loan은 제거."
   ]
  },
  {
   "cell_type": "markdown",
   "id": "6cf877d6",
   "metadata": {},
   "source": [
    "##  last contact\n",
    "\n",
    "위 3개는 필요없는 컬럼들이라 생각을 했고, 확인해본다.\n",
    "\n",
    "poutcome은 영향이 크다 생각했다.\n",
    "\n",
    "- contact ('telephone' 'cellular')\n",
    "- month ('may' 'jun' 'jul' 'aug' 'oct' 'nov' 'dec' 'mar' 'apr' 'sep')\n",
    "- day_of_week ('mon' 'tue' 'wed' 'thu' 'fri')\n",
    "- poutcome ('nonexistent' 'failure' 'success')"
   ]
  },
  {
   "cell_type": "code",
   "execution_count": 140,
   "id": "2938c2a5",
   "metadata": {},
   "outputs": [
    {
     "name": "stdout",
     "output_type": "stream",
     "text": [
      "contact_crosstab Chi2 Statistic: 862.3183642075705, p-value: 1.5259856523129964e-189\n",
      "month_crosstab Chi2 Statistic: 3101.149351411678, p-value: 0.0\n",
      "day_of_week_crosstab Chi2 Statistic: 26.14493907587197, p-value: 2.9584820052785324e-05\n",
      "poutcome_crosstab_res Chi2 Statistic: 4230.5237978319765, p-value: 0.0\n"
     ]
    }
   ],
   "source": [
    "contact_crosstab=pd.crosstab(train['contact'],train['y'])\n",
    "contact_crosstab_res=chi2_contingency(contact_crosstab)\n",
    "\n",
    "month_crosstab=pd.crosstab(train['month'],train['y'])\n",
    "month_crosstab_res=chi2_contingency(month_crosstab)\n",
    "\n",
    "day_of_week_crosstab=pd.crosstab(train['day_of_week'],train['y'])\n",
    "day_of_week_crosstab_res=chi2_contingency(day_of_week_crosstab)\n",
    "\n",
    "poutcome_crosstab=pd.crosstab(train['poutcome'],train['y'])\n",
    "poutcome_crosstab_res=chi2_contingency(poutcome_crosstab)\n",
    "\n",
    "print('contact_crosstab Chi2 Statistic: {}, p-value: {}'.format(contact_crosstab_res[0], contact_crosstab_res[1]))\n",
    "print('month_crosstab Chi2 Statistic: {}, p-value: {}'.format(month_crosstab_res[0], month_crosstab_res[1]))\n",
    "print('day_of_week_crosstab Chi2 Statistic: {}, p-value: {}'.format(day_of_week_crosstab_res[0], day_of_week_crosstab_res[1]))\n",
    "print('poutcome_crosstab_res Chi2 Statistic: {}, p-value: {}'.format(poutcome_crosstab_res[0], poutcome_crosstab_res[1]))\n",
    "\n"
   ]
  },
  {
   "cell_type": "markdown",
   "id": "51b8eb17",
   "metadata": {},
   "source": [
    "예상과 다르게 모두 영향이 있다고 나온다.\n",
    "\n",
    "그중, 몇월이냐와 이전 결과가 가장 영향이 크다."
   ]
  },
  {
   "cell_type": "code",
   "execution_count": 136,
   "id": "2c88a9ca",
   "metadata": {},
   "outputs": [
    {
     "data": {
      "text/plain": [
       "Text(0.5, 1.0, 'Mosaic Chart of housing')"
      ]
     },
     "execution_count": 136,
     "metadata": {},
     "output_type": "execute_result"
    },
    {
     "data": {
      "image/png": "[encoded data removed]",
      "text/plain": [
       "<Figure size 432x288 with 3 Axes>"
      ]
     },
     "metadata": {},
     "output_type": "display_data"
    }
   ],
   "source": [
    "mosaic(train, ['contact', 'y'],gap=0.01,label_rotation=True)\n",
    "plt.title('Mosaic Chart of housing', fontsize=20)\n"
   ]
  },
  {
   "cell_type": "code",
   "execution_count": 137,
   "id": "04b2c6a7",
   "metadata": {},
   "outputs": [
    {
     "data": {
      "text/plain": [
       "Text(0.5, 1.0, 'Mosaic Chart of month')"
      ]
     },
     "execution_count": 137,
     "metadata": {},
     "output_type": "execute_result"
    },
    {
     "data": {
      "image/png": "[encoded data removed]",
      "text/plain": [
       "<Figure size 432x288 with 3 Axes>"
      ]
     },
     "metadata": {},
     "output_type": "display_data"
    }
   ],
   "source": [
    "mosaic(train, ['month', 'y'],gap=0.01,label_rotation=True)\n",
    "plt.title('Mosaic Chart of month', fontsize=20)\n"
   ]
  },
  {
   "cell_type": "markdown",
   "id": "e4ef3695",
   "metadata": {},
   "source": [
    "월마다, 도수와 비율이 다르다."
   ]
  },
  {
   "cell_type": "code",
   "execution_count": 148,
   "id": "ce49a023",
   "metadata": {},
   "outputs": [
    {
     "data": {
      "text/html": [
       "<div>\n",
       "<style scoped>\n",
       "    .dataframe tbody tr th:only-of-type {\n",
       "        vertical-align: middle;\n",
       "    }\n",
       "\n",
       "    .dataframe tbody tr th {\n",
       "        vertical-align: top;\n",
       "    }\n",
       "\n",
       "    .dataframe thead th {\n",
       "        text-align: right;\n",
       "    }\n",
       "</style>\n",
       "<table border=\"1\" class=\"dataframe\">\n",
       "  <thead>\n",
       "    <tr style=\"text-align: right;\">\n",
       "      <th>y</th>\n",
       "      <th>no</th>\n",
       "      <th>yes</th>\n",
       "    </tr>\n",
       "    <tr>\n",
       "      <th>month</th>\n",
       "      <th></th>\n",
       "      <th></th>\n",
       "    </tr>\n",
       "  </thead>\n",
       "  <tbody>\n",
       "    <tr>\n",
       "      <th>apr</th>\n",
       "      <td>2093</td>\n",
       "      <td>539</td>\n",
       "    </tr>\n",
       "    <tr>\n",
       "      <th>aug</th>\n",
       "      <td>5523</td>\n",
       "      <td>655</td>\n",
       "    </tr>\n",
       "    <tr>\n",
       "      <th>dec</th>\n",
       "      <td>93</td>\n",
       "      <td>89</td>\n",
       "    </tr>\n",
       "    <tr>\n",
       "      <th>jul</th>\n",
       "      <td>6525</td>\n",
       "      <td>649</td>\n",
       "    </tr>\n",
       "    <tr>\n",
       "      <th>jun</th>\n",
       "      <td>4759</td>\n",
       "      <td>559</td>\n",
       "    </tr>\n",
       "    <tr>\n",
       "      <th>mar</th>\n",
       "      <td>270</td>\n",
       "      <td>276</td>\n",
       "    </tr>\n",
       "    <tr>\n",
       "      <th>may</th>\n",
       "      <td>12883</td>\n",
       "      <td>886</td>\n",
       "    </tr>\n",
       "    <tr>\n",
       "      <th>nov</th>\n",
       "      <td>3685</td>\n",
       "      <td>416</td>\n",
       "    </tr>\n",
       "    <tr>\n",
       "      <th>oct</th>\n",
       "      <td>403</td>\n",
       "      <td>315</td>\n",
       "    </tr>\n",
       "    <tr>\n",
       "      <th>sep</th>\n",
       "      <td>314</td>\n",
       "      <td>256</td>\n",
       "    </tr>\n",
       "  </tbody>\n",
       "</table>\n",
       "</div>"
      ],
      "text/plain": [
       "y         no  yes\n",
       "month            \n",
       "apr     2093  539\n",
       "aug     5523  655\n",
       "dec       93   89\n",
       "jul     6525  649\n",
       "jun     4759  559\n",
       "mar      270  276\n",
       "may    12883  886\n",
       "nov     3685  416\n",
       "oct      403  315\n",
       "sep      314  256"
      ]
     },
     "execution_count": 148,
     "metadata": {},
     "output_type": "execute_result"
    }
   ],
   "source": [
    "month_crosstab"
   ]
  },
  {
   "cell_type": "code",
   "execution_count": 145,
   "id": "fc38b21a",
   "metadata": {},
   "outputs": [
    {
     "data": {
      "text/plain": [
       "<AxesSubplot:xlabel='month'>"
      ]
     },
     "execution_count": 145,
     "metadata": {},
     "output_type": "execute_result"
    },
    {
     "data": {
      "image/png": "[encoded data removed]",
      "text/plain": [
       "<Figure size 432x288 with 1 Axes>"
      ]
     },
     "metadata": {},
     "output_type": "display_data"
    }
   ],
   "source": [
    "#ratio plot 제작\n",
    "month_ratio=ratio_table(month_crosstab)\n",
    "month_ratio=month_ratio.sort_values(by='no',ascending=False)\n",
    "\n",
    "month_ratio.plot(kind='bar',stacked=True)"
   ]
  },
  {
   "cell_type": "code",
   "execution_count": 149,
   "id": "59b111a2",
   "metadata": {
    "scrolled": true
   },
   "outputs": [
    {
     "data": {
      "text/html": [
       "<div>\n",
       "<style scoped>\n",
       "    .dataframe tbody tr th:only-of-type {\n",
       "        vertical-align: middle;\n",
       "    }\n",
       "\n",
       "    .dataframe tbody tr th {\n",
       "        vertical-align: top;\n",
       "    }\n",
       "\n",
       "    .dataframe thead th {\n",
       "        text-align: right;\n",
       "    }\n",
       "</style>\n",
       "<table border=\"1\" class=\"dataframe\">\n",
       "  <thead>\n",
       "    <tr style=\"text-align: right;\">\n",
       "      <th>y</th>\n",
       "      <th>no</th>\n",
       "      <th>yes</th>\n",
       "    </tr>\n",
       "    <tr>\n",
       "      <th>month</th>\n",
       "      <th></th>\n",
       "      <th></th>\n",
       "    </tr>\n",
       "  </thead>\n",
       "  <tbody>\n",
       "    <tr>\n",
       "      <th>may</th>\n",
       "      <td>0.935653</td>\n",
       "      <td>0.064347</td>\n",
       "    </tr>\n",
       "    <tr>\n",
       "      <th>jul</th>\n",
       "      <td>0.909534</td>\n",
       "      <td>0.090466</td>\n",
       "    </tr>\n",
       "    <tr>\n",
       "      <th>nov</th>\n",
       "      <td>0.898561</td>\n",
       "      <td>0.101439</td>\n",
       "    </tr>\n",
       "    <tr>\n",
       "      <th>jun</th>\n",
       "      <td>0.894885</td>\n",
       "      <td>0.105115</td>\n",
       "    </tr>\n",
       "    <tr>\n",
       "      <th>aug</th>\n",
       "      <td>0.893979</td>\n",
       "      <td>0.106021</td>\n",
       "    </tr>\n",
       "    <tr>\n",
       "      <th>apr</th>\n",
       "      <td>0.795213</td>\n",
       "      <td>0.204787</td>\n",
       "    </tr>\n",
       "    <tr>\n",
       "      <th>oct</th>\n",
       "      <td>0.561281</td>\n",
       "      <td>0.438719</td>\n",
       "    </tr>\n",
       "    <tr>\n",
       "      <th>sep</th>\n",
       "      <td>0.550877</td>\n",
       "      <td>0.449123</td>\n",
       "    </tr>\n",
       "    <tr>\n",
       "      <th>dec</th>\n",
       "      <td>0.510989</td>\n",
       "      <td>0.489011</td>\n",
       "    </tr>\n",
       "    <tr>\n",
       "      <th>mar</th>\n",
       "      <td>0.494505</td>\n",
       "      <td>0.505495</td>\n",
       "    </tr>\n",
       "  </tbody>\n",
       "</table>\n",
       "</div>"
      ],
      "text/plain": [
       "y            no       yes\n",
       "month                    \n",
       "may    0.935653  0.064347\n",
       "jul    0.909534  0.090466\n",
       "nov    0.898561  0.101439\n",
       "jun    0.894885  0.105115\n",
       "aug    0.893979  0.106021\n",
       "apr    0.795213  0.204787\n",
       "oct    0.561281  0.438719\n",
       "sep    0.550877  0.449123\n",
       "dec    0.510989  0.489011\n",
       "mar    0.494505  0.505495"
      ]
     },
     "execution_count": 149,
     "metadata": {},
     "output_type": "execute_result"
    }
   ],
   "source": [
    "month_ratio"
   ]
  },
  {
   "cell_type": "markdown",
   "id": "14a7bf67",
   "metadata": {},
   "source": [
    "may / jul,nov,jun, aug / apr / oct,sep / dec,mar/ 로 구분할 수 있다. "
   ]
  },
  {
   "cell_type": "code",
   "execution_count": 138,
   "id": "8d315642",
   "metadata": {},
   "outputs": [
    {
     "data": {
      "text/plain": [
       "Text(0.5, 1.0, 'Mosaic Chart of day_of_week')"
      ]
     },
     "execution_count": 138,
     "metadata": {},
     "output_type": "execute_result"
    },
    {
     "data": {
      "image/png": "[encoded data removed]",
      "text/plain": [
       "<Figure size 432x288 with 3 Axes>"
      ]
     },
     "metadata": {},
     "output_type": "display_data"
    }
   ],
   "source": [
    "mosaic(train, ['day_of_week', 'y'],gap=0.01,label_rotation=True)\n",
    "plt.title('Mosaic Chart of day_of_week', fontsize=20)\n"
   ]
  },
  {
   "cell_type": "code",
   "execution_count": 141,
   "id": "eadec94e",
   "metadata": {},
   "outputs": [
    {
     "data": {
      "text/plain": [
       "<AxesSubplot:xlabel='day_of_week'>"
      ]
     },
     "execution_count": 141,
     "metadata": {},
     "output_type": "execute_result"
    },
    {
     "data": {
      "image/png": "[encoded data removed]",
      "text/plain": [
       "<Figure size 432x288 with 1 Axes>"
      ]
     },
     "metadata": {},
     "output_type": "display_data"
    }
   ],
   "source": [
    "#ratio plot 제작\n",
    "day_of_week_ratio=ratio_table(day_of_week_crosstab)\n",
    "day_of_week_ratio=day_of_week_ratio.sort_values(by='no',ascending=False)\n",
    "\n",
    "day_of_week_ratio.plot(kind='bar',stacked=True)"
   ]
  },
  {
   "cell_type": "code",
   "execution_count": 143,
   "id": "e99427a0",
   "metadata": {},
   "outputs": [
    {
     "data": {
      "text/html": [
       "<div>\n",
       "<style scoped>\n",
       "    .dataframe tbody tr th:only-of-type {\n",
       "        vertical-align: middle;\n",
       "    }\n",
       "\n",
       "    .dataframe tbody tr th {\n",
       "        vertical-align: top;\n",
       "    }\n",
       "\n",
       "    .dataframe thead th {\n",
       "        text-align: right;\n",
       "    }\n",
       "</style>\n",
       "<table border=\"1\" class=\"dataframe\">\n",
       "  <thead>\n",
       "    <tr style=\"text-align: right;\">\n",
       "      <th>y</th>\n",
       "      <th>no</th>\n",
       "      <th>yes</th>\n",
       "    </tr>\n",
       "    <tr>\n",
       "      <th>day_of_week</th>\n",
       "      <th></th>\n",
       "      <th></th>\n",
       "    </tr>\n",
       "  </thead>\n",
       "  <tbody>\n",
       "    <tr>\n",
       "      <th>fri</th>\n",
       "      <td>6981</td>\n",
       "      <td>846</td>\n",
       "    </tr>\n",
       "    <tr>\n",
       "      <th>mon</th>\n",
       "      <td>7667</td>\n",
       "      <td>847</td>\n",
       "    </tr>\n",
       "    <tr>\n",
       "      <th>thu</th>\n",
       "      <td>7578</td>\n",
       "      <td>1045</td>\n",
       "    </tr>\n",
       "    <tr>\n",
       "      <th>tue</th>\n",
       "      <td>7137</td>\n",
       "      <td>953</td>\n",
       "    </tr>\n",
       "    <tr>\n",
       "      <th>wed</th>\n",
       "      <td>7185</td>\n",
       "      <td>949</td>\n",
       "    </tr>\n",
       "  </tbody>\n",
       "</table>\n",
       "</div>"
      ],
      "text/plain": [
       "y              no   yes\n",
       "day_of_week            \n",
       "fri          6981   846\n",
       "mon          7667   847\n",
       "thu          7578  1045\n",
       "tue          7137   953\n",
       "wed          7185   949"
      ]
     },
     "execution_count": 143,
     "metadata": {},
     "output_type": "execute_result"
    }
   ],
   "source": [
    "day_of_week_crosstab"
   ]
  },
  {
   "cell_type": "code",
   "execution_count": 142,
   "id": "ef92ef32",
   "metadata": {},
   "outputs": [
    {
     "data": {
      "text/html": [
       "<div>\n",
       "<style scoped>\n",
       "    .dataframe tbody tr th:only-of-type {\n",
       "        vertical-align: middle;\n",
       "    }\n",
       "\n",
       "    .dataframe tbody tr th {\n",
       "        vertical-align: top;\n",
       "    }\n",
       "\n",
       "    .dataframe thead th {\n",
       "        text-align: right;\n",
       "    }\n",
       "</style>\n",
       "<table border=\"1\" class=\"dataframe\">\n",
       "  <thead>\n",
       "    <tr style=\"text-align: right;\">\n",
       "      <th>y</th>\n",
       "      <th>no</th>\n",
       "      <th>yes</th>\n",
       "    </tr>\n",
       "    <tr>\n",
       "      <th>day_of_week</th>\n",
       "      <th></th>\n",
       "      <th></th>\n",
       "    </tr>\n",
       "  </thead>\n",
       "  <tbody>\n",
       "    <tr>\n",
       "      <th>mon</th>\n",
       "      <td>0.900517</td>\n",
       "      <td>0.099483</td>\n",
       "    </tr>\n",
       "    <tr>\n",
       "      <th>fri</th>\n",
       "      <td>0.891913</td>\n",
       "      <td>0.108087</td>\n",
       "    </tr>\n",
       "    <tr>\n",
       "      <th>wed</th>\n",
       "      <td>0.883329</td>\n",
       "      <td>0.116671</td>\n",
       "    </tr>\n",
       "    <tr>\n",
       "      <th>tue</th>\n",
       "      <td>0.882200</td>\n",
       "      <td>0.117800</td>\n",
       "    </tr>\n",
       "    <tr>\n",
       "      <th>thu</th>\n",
       "      <td>0.878812</td>\n",
       "      <td>0.121188</td>\n",
       "    </tr>\n",
       "  </tbody>\n",
       "</table>\n",
       "</div>"
      ],
      "text/plain": [
       "y                  no       yes\n",
       "day_of_week                    \n",
       "mon          0.900517  0.099483\n",
       "fri          0.891913  0.108087\n",
       "wed          0.883329  0.116671\n",
       "tue          0.882200  0.117800\n",
       "thu          0.878812  0.121188"
      ]
     },
     "execution_count": 142,
     "metadata": {},
     "output_type": "execute_result"
    }
   ],
   "source": [
    "day_of_week_ratio"
   ]
  },
  {
   "cell_type": "markdown",
   "id": "15c2dffd",
   "metadata": {},
   "source": [
    "mon,fri / tue,wed,thu 으로 구분이된다."
   ]
  },
  {
   "cell_type": "code",
   "execution_count": 139,
   "id": "ddd56920",
   "metadata": {},
   "outputs": [
    {
     "data": {
      "text/plain": [
       "Text(0.5, 1.0, 'Mosaic Chart of poutcome')"
      ]
     },
     "execution_count": 139,
     "metadata": {},
     "output_type": "execute_result"
    },
    {
     "data": {
      "image/png": "[encoded data removed]",
      "text/plain": [
       "<Figure size 432x288 with 3 Axes>"
      ]
     },
     "metadata": {},
     "output_type": "display_data"
    }
   ],
   "source": [
    "mosaic(train, ['poutcome', 'y'],gap=0.01,label_rotation=True)\n",
    "plt.title('Mosaic Chart of poutcome', fontsize=20)\n"
   ]
  },
  {
   "cell_type": "markdown",
   "id": "b0221801",
   "metadata": {},
   "source": [
    "poutcome은 nonexistent 자체가 새로운 값이다."
   ]
  },
  {
   "cell_type": "markdown",
   "id": "9dae5bcc",
   "metadata": {},
   "source": [
    "# 수치형 데이터 분석\n",
    "\n",
    "```\n",
    "  11 - duration: 마지막 접촉 통화시간 (단위:초) (numeric)\n",
    "\n",
    "   # other attributes:\n",
    "  12 - campaign: 이 캠페인에서 해당 클라이언트에 대한 접촉 횟수 (numeric)  \n",
    "includes last contact\n",
    "  13 - pdays: 이전 캠페인에서 클라이언트에 마지막으로 연락한 후 경과한 일 수 (numeric)\n",
    "999 클라이언트에 이전에 연결되지 않음을 의미함\n",
    "  14 - previous: 지난 캠페인에서 해당 클라이언트에 대한 접촉 횟수 (numeric)\n",
    "\n",
    "   # social and economic context attributes\n",
    "  16 - emp.var.rate: 고용 변동률 - 분기별 지표 (numeric)\n",
    "  17 - cons.price.idx: 소비자물가지수 - 월간지표 (numeric)     \n",
    "  18 - cons.conf.idx: 소비자 신뢰 지수 - 월간 지표 (numeric)\n",
    "  19 - euribor3m: 3개월 만기 유로예금 이자율 - 일별 지표 (numeric)\n",
    "  20 - nr.employed: 고용자 수 - 분기별 지표 (numeric)\n",
    "\n",
    "```\n"
   ]
  },
  {
   "cell_type": "markdown",
   "id": "5616316d",
   "metadata": {},
   "source": [
    "## 전체 상관계수 확인"
   ]
  },
  {
   "cell_type": "code",
   "execution_count": 24,
   "id": "b16b5d1e",
   "metadata": {},
   "outputs": [],
   "source": [
    "train['y']=train['y'].replace('no',0)\n",
    "train['y']=train['y'].replace('yes',1)\n"
   ]
  },
  {
   "cell_type": "code",
   "execution_count": 25,
   "id": "4a624c6a",
   "metadata": {},
   "outputs": [
    {
     "name": "stdout",
     "output_type": "stream",
     "text": [
      "<class 'pandas.core.frame.DataFrame'>\n",
      "RangeIndex: 41188 entries, 0 to 41187\n",
      "Data columns (total 21 columns):\n",
      " #   Column          Non-Null Count  Dtype  \n",
      "---  ------          --------------  -----  \n",
      " 0   age             41188 non-null  int64  \n",
      " 1   job             41188 non-null  object \n",
      " 2   marital         41188 non-null  object \n",
      " 3   education       41188 non-null  object \n",
      " 4   default         41188 non-null  object \n",
      " 5   housing         41188 non-null  object \n",
      " 6   loan            41188 non-null  object \n",
      " 7   contact         41188 non-null  object \n",
      " 8   month           41188 non-null  object \n",
      " 9   day_of_week     41188 non-null  object \n",
      " 10  duration        41188 non-null  int64  \n",
      " 11  campaign        41188 non-null  int64  \n",
      " 12  pdays           41188 non-null  int64  \n",
      " 13  previous        41188 non-null  int64  \n",
      " 14  poutcome        41188 non-null  object \n",
      " 15  emp.var.rate    41188 non-null  float64\n",
      " 16  cons.price.idx  41188 non-null  float64\n",
      " 17  cons.conf.idx   41188 non-null  float64\n",
      " 18  euribor3m       41188 non-null  float64\n",
      " 19  nr.employed     41188 non-null  float64\n",
      " 20  y               41188 non-null  int64  \n",
      "dtypes: float64(5), int64(6), object(10)\n",
      "memory usage: 6.6+ MB\n"
     ]
    }
   ],
   "source": [
    "train.info()"
   ]
  },
  {
   "cell_type": "code",
   "execution_count": 27,
   "id": "5054a36e",
   "metadata": {
    "scrolled": false
   },
   "outputs": [
    {
     "data": {
      "image/png": "[encoded data removed]",
      "text/plain": [
       "<Figure size 1440x1440 with 2 Axes>"
      ]
     },
     "metadata": {},
     "output_type": "display_data"
    }
   ],
   "source": [
    "heatmap = sns.heatmap(train[['age','duration','campaign','pdays','previous','emp.var.rate','cons.price.idx','cons.conf.idx',\n",
    "                             'euribor3m','nr.employed','y']].corr(),annot = True, cmap='RdYlGn',linewidths=0.2,annot_kws={\"size\": 20})\n",
    "fig = plt.gcf()\n",
    "fig.set_size_inches(20,20)\n",
    "heatmap.set_xticklabels(heatmap.get_xticklabels(),fontsize=20)\n",
    "heatmap.set_yticklabels(heatmap.get_yticklabels(), fontsize=20)\n",
    "\n",
    "plt.title('correlation between features', fontsize=20)\n",
    "plt.show()\n",
    "#신기하게  senseor number -4 와 어떤 음의 상관관계를 가진다.\n",
    "#상관관계를 가지기에, pca를 통해 차원 축소가 가능해보인다.\n",
    "#줄이면, 간단한 svm도 가능하지 않을까?\n",
    "\n"
   ]
  },
  {
   "cell_type": "markdown",
   "id": "69826fca",
   "metadata": {},
   "source": [
    "가설에서 생각한것 처럼 16~20는 주변 상황을 의미하는 변수로, 선형 변환으로 하나로 그룹 되지 않을까? (변수 가공\n",
    "\n",
    "높은 선형성을 보인다.\n",
    "\n",
    "\n",
    "높은 상관성을 보이는 피처는 duration, previous,pdays ,emp.var.rate, cons.price.idx , euribor3m,nr.employed\n",
    "\n",
    "social and economic context attributes과 이전 접촉과관련 변수들이 가장 높았다.\n",
    "\n",
    "age,campaign, cons.conf.idx는 사용 안할 변수로 보인다.\n"
   ]
  },
  {
   "cell_type": "markdown",
   "id": "f4e77861",
   "metadata": {},
   "source": [
    "## age"
   ]
  },
  {
   "cell_type": "code",
   "execution_count": 18,
   "id": "a6e00d93",
   "metadata": {},
   "outputs": [
    {
     "data": {
      "text/plain": [
       "<AxesSubplot:xlabel='age', ylabel='Count'>"
      ]
     },
     "execution_count": 18,
     "metadata": {},
     "output_type": "execute_result"
    },
    {
     "data": {
      "image/png": "[encoded data removed]",
      "text/plain": [
       "<Figure size 432x288 with 1 Axes>"
      ]
     },
     "metadata": {},
     "output_type": "display_data"
    }
   ],
   "source": [
    "sns.histplot(x='age',hue='y',bins=10,data=train)"
   ]
  },
  {
   "cell_type": "code",
   "execution_count": 19,
   "id": "94cc5493",
   "metadata": {},
   "outputs": [
    {
     "data": {
      "text/plain": [
       "<AxesSubplot:xlabel='age', ylabel='Count'>"
      ]
     },
     "execution_count": 19,
     "metadata": {},
     "output_type": "execute_result"
    },
    {
     "data": {
      "image/png": "[encoded data removed]",
      "text/plain": [
       "<Figure size 432x288 with 1 Axes>"
      ]
     },
     "metadata": {},
     "output_type": "display_data"
    }
   ],
   "source": [
    "sns.histplot(x=np.log(train['age']),hue=train['y'],bins=10)"
   ]
  },
  {
   "cell_type": "code",
   "execution_count": 32,
   "id": "1a070c02",
   "metadata": {},
   "outputs": [
    {
     "data": {
      "text/plain": [
       "<AxesSubplot:xlabel='y', ylabel='age'>"
      ]
     },
     "execution_count": 32,
     "metadata": {},
     "output_type": "execute_result"
    },
    {
     "data": {
      "image/png": "[encoded data removed]",
      "text/plain": [
       "<Figure size 360x360 with 1 Axes>"
      ]
     },
     "metadata": {},
     "output_type": "display_data"
    }
   ],
   "source": [
    "plt.figure(figsize=(5,5))\n",
    "sns.boxplot(data=train,y=np.log(train['age']),x=train['y'])\n",
    "#target=1에서 age hour가 중앙값이 더 크게 형성된다."
   ]
  },
  {
   "cell_type": "markdown",
   "id": "1f54aeb7",
   "metadata": {},
   "source": [
    "나이는 별로 유의성이 없어보인다. 비교적 25~35가 가장 많아보인다. 도수가 가장 높기 때문."
   ]
  },
  {
   "cell_type": "code",
   "execution_count": 28,
   "id": "420a9f93",
   "metadata": {},
   "outputs": [
    {
     "data": {
      "text/plain": [
       "KstestResult(statistic=1.0, pvalue=0.0)"
      ]
     },
     "execution_count": 28,
     "metadata": {},
     "output_type": "execute_result"
    }
   ],
   "source": [
    "kstest(train['age'], train['y'])"
   ]
  },
  {
   "cell_type": "markdown",
   "id": "570485af",
   "metadata": {},
   "source": [
    "이미지에서는 별로 상관성이 없어보이는데 여기서는 유의하게 나온다.\n",
    "\n",
    "나이대에 따라 비율이 다를 수 있기 떄문인가.\n",
    "\n",
    "\n",
    "사용하지 않는것이 좋아보인다.\n"
   ]
  },
  {
   "cell_type": "markdown",
   "id": "8b6c2f70",
   "metadata": {},
   "source": [
    "## duration & campaign & pdays & previous\n",
    "\n",
    "이전 접촉과 관련된 자료\n",
    "\n"
   ]
  },
  {
   "cell_type": "code",
   "execution_count": 38,
   "id": "93f512cf",
   "metadata": {},
   "outputs": [
    {
     "data": {
      "text/plain": [
       "<AxesSubplot:xlabel='previous', ylabel='Count'>"
      ]
     },
     "execution_count": 38,
     "metadata": {},
     "output_type": "execute_result"
    },
    {
     "data": {
      "image/png": "[encoded data removed]",
      "text/plain": [
       "<Figure size 720x720 with 4 Axes>"
      ]
     },
     "metadata": {},
     "output_type": "display_data"
    }
   ],
   "source": [
    "plt.figure(figsize=(10,10))\n",
    "plt.subplot(2,2,1)\n",
    "sns.histplot(x='duration',hue='y',bins=10,data=train)\n",
    "plt.subplot(2,2,2)\n",
    "sns.histplot(x='campaign',hue='y',bins=10,data=train)\n",
    "plt.subplot(2,2,3)\n",
    "sns.histplot(x='pdays',hue='y',bins=10,data=train)\n",
    "plt.subplot(2,2,4)\n",
    "sns.histplot(x='previous',hue='y',bins=10,data=train)"
   ]
  },
  {
   "cell_type": "code",
   "execution_count": 44,
   "id": "4d1e1ba5",
   "metadata": {},
   "outputs": [
    {
     "data": {
      "text/plain": [
       "<AxesSubplot:xlabel='y', ylabel='previous'>"
      ]
     },
     "execution_count": 44,
     "metadata": {},
     "output_type": "execute_result"
    },
    {
     "data": {
      "image/png": "[encoded data removed]",
      "text/plain": [
       "<Figure size 720x720 with 4 Axes>"
      ]
     },
     "metadata": {},
     "output_type": "display_data"
    }
   ],
   "source": [
    "plt.figure(figsize=(10,10))\n",
    "plt.subplot(2,2,1)\n",
    "sns.boxplot(data=train,y=train['duration'],x=train['y'])\n",
    "plt.subplot(2,2,2)\n",
    "sns.boxplot(data=train,y=train['campaign'],x=train['y'])\n",
    "plt.subplot(2,2,3)\n",
    "sns.boxplot(data=train,y=train['pdays'],x=train['y'])\n",
    "plt.subplot(2,2,4)\n",
    "sns.boxplot(data=train,y=train['previous'],x=train['y'])"
   ]
  },
  {
   "cell_type": "markdown",
   "id": "4be5564d",
   "metadata": {},
   "source": [
    "- duaration은 커질수록 비율이 높아지는 경향이 있고\n",
    "- campaign은 낮을 수록 유의하다\n",
    "- pdays는 999는 접촉하지 않았음을 의미한다. 그래서 범주형 변수로 변환해야한다.\n",
    "- previous는 유의한지 판단이 어렵다."
   ]
  },
  {
   "cell_type": "code",
   "execution_count": 40,
   "id": "a40369be",
   "metadata": {},
   "outputs": [
    {
     "name": "stdout",
     "output_type": "stream",
     "text": [
      "duration :  KstestResult(statistic=0.9998300475866757, pvalue=0.0)\n",
      "campaign :  KstestResult(statistic=0.8873458288821987, pvalue=0.0)\n",
      "pdays :  KstestResult(statistic=0.9990045644362435, pvalue=0.0)\n",
      "previous :  KstestResult(statistic=0.0258327668252889, pvalue=2.263920670210774e-12)\n"
     ]
    }
   ],
   "source": [
    "print(\"duration : \",kstest(train['duration'], train['y']))\n",
    "print(\"campaign : \",kstest(train['campaign'], train['y']))\n",
    "print(\"pdays : \",kstest(train['pdays'], train['y']))\n",
    "print(\"previous : \",kstest(train['previous'], train['y']))"
   ]
  },
  {
   "cell_type": "markdown",
   "id": "5ab6b33d",
   "metadata": {},
   "source": [
    "기각하며, 유의하다고 할 수 있다.\n",
    "\n",
    "변수들을 모두 사용한다."
   ]
  },
  {
   "cell_type": "markdown",
   "id": "e562cf39",
   "metadata": {},
   "source": [
    "## social and economic context attributes \n",
    "\n",
    "\n",
    " emp.var.rate, cons.price.idx, cons.conf.idx, euribor3m, nr.employed 변수들을 분석\n"
   ]
  },
  {
   "cell_type": "code",
   "execution_count": 42,
   "id": "90eda788",
   "metadata": {},
   "outputs": [
    {
     "data": {
      "text/plain": [
       "<AxesSubplot:xlabel='nr.employed', ylabel='Count'>"
      ]
     },
     "execution_count": 42,
     "metadata": {},
     "output_type": "execute_result"
    },
    {
     "data": {
      "image/png": "[encoded data removed]",
      "text/plain": [
       "<Figure size 720x720 with 5 Axes>"
      ]
     },
     "metadata": {},
     "output_type": "display_data"
    }
   ],
   "source": [
    "plt.figure(figsize=(10,10))\n",
    "plt.subplot(3,2,1)\n",
    "sns.histplot(x='emp.var.rate',hue='y',bins=10,data=train)\n",
    "plt.subplot(3,2,2)\n",
    "sns.histplot(x='cons.price.idx',hue='y',bins=10,data=train)\n",
    "plt.subplot(3,2,3)\n",
    "sns.histplot(x='cons.conf.idx',hue='y',bins=10,data=train)\n",
    "plt.subplot(3,2,4)\n",
    "sns.histplot(x='euribor3m',hue='y',bins=10,data=train)\n",
    "plt.subplot(3,2,5)\n",
    "sns.histplot(x='nr.employed',hue='y',bins=10,data=train)"
   ]
  },
  {
   "cell_type": "markdown",
   "id": "a8dee23c",
   "metadata": {},
   "source": [
    "데이터가 연속되지 않는 경우가 많다.\n",
    "\n",
    "박스플롯 사용은 안된다.\n",
    "\n"
   ]
  },
  {
   "cell_type": "code",
   "execution_count": 45,
   "id": "81696174",
   "metadata": {},
   "outputs": [
    {
     "name": "stdout",
     "output_type": "stream",
     "text": [
      "emp.var.rate :  KstestResult(statistic=0.5826211517917841, pvalue=0.0)\n",
      "cons.price.idx :  KstestResult(statistic=1.0, pvalue=0.0)\n",
      "cons.conf.idx :  KstestResult(statistic=1.0, pvalue=0.0)\n",
      "euribor3m :  KstestResult(statistic=0.9051179955326795, pvalue=0.0)\n",
      "nr.employed :  KstestResult(statistic=1.0, pvalue=0.0)\n"
     ]
    }
   ],
   "source": [
    "print(\"emp.var.rate : \",kstest(train['emp.var.rate'], train['y']))\n",
    "print(\"cons.price.idx : \",kstest(train['cons.price.idx'], train['y']))\n",
    "print(\"cons.conf.idx : \",kstest(train['cons.conf.idx'], train['y']))\n",
    "print(\"euribor3m : \",kstest(train['euribor3m'], train['y']))\n",
    "print(\"nr.employed : \",kstest(train['nr.employed'], train['y']))"
   ]
  },
  {
   "cell_type": "markdown",
   "id": "f4507c3b",
   "metadata": {},
   "source": [
    "모두 유의하다는 결론이 나온다."
   ]
  },
  {
   "cell_type": "markdown",
   "id": "de90a38b",
   "metadata": {},
   "source": [
    "# 변수 가공\n",
    "\n",
    "위에서 찾은 변수와 target의 관계를 통해 변환을 한다.\n",
    "\n"
   ]
  },
  {
   "cell_type": "code",
   "execution_count": 60,
   "id": "451ca7c5",
   "metadata": {},
   "outputs": [],
   "source": [
    "train_change = train.copy()"
   ]
  },
  {
   "cell_type": "code",
   "execution_count": 61,
   "id": "7a40da34",
   "metadata": {},
   "outputs": [
    {
     "data": {
      "text/plain": [
       "array(['job1', 'retired', 'student'], dtype=object)"
      ]
     },
     "execution_count": 61,
     "metadata": {},
     "output_type": "execute_result"
    }
   ],
   "source": [
    "# job grouping\n",
    "\n",
    "train_change['job']=train_change['job'].replace(['blue-collar','services','entrepreneur','housemaid','self-employed','technician',\n",
    "                           'unknown','management','admin.','unemployed'],'job1')\n",
    "train_change['job'].unique()"
   ]
  },
  {
   "cell_type": "code",
   "execution_count": 62,
   "id": "597c2ef0",
   "metadata": {},
   "outputs": [
    {
     "data": {
      "text/plain": [
       "array(['marital1', 'marital2'], dtype=object)"
      ]
     },
     "execution_count": 62,
     "metadata": {},
     "output_type": "execute_result"
    }
   ],
   "source": [
    "# marital grouping\n",
    "\n",
    "train_change['marital']=train_change['marital'].replace(['married','divorced'],'marital1')\n",
    "train_change['marital']=train_change['marital'].replace(['single','unknown'],'marital2')\n",
    "train_change['marital'].unique()"
   ]
  },
  {
   "cell_type": "code",
   "execution_count": 63,
   "id": "c9c58cac",
   "metadata": {},
   "outputs": [
    {
     "data": {
      "text/plain": [
       "array(['education1', 'professional.course', 'university.degree',\n",
       "       'illiterate'], dtype=object)"
      ]
     },
     "execution_count": 63,
     "metadata": {},
     "output_type": "execute_result"
    }
   ],
   "source": [
    "# education grouping\n",
    "\n",
    "train_change['education']=train_change['education'].replace(['basic.9y','basic.6y','basic.4y','high.school'],'education1')\n",
    "train_change['education']=train_change['education'].replace(['university.degree','unknown'],'university.degree')\n",
    "train_change['education'].unique()"
   ]
  },
  {
   "cell_type": "code",
   "execution_count": 64,
   "id": "cfed66fb",
   "metadata": {},
   "outputs": [
    {
     "data": {
      "text/plain": [
       "array(['no', 'yes'], dtype=object)"
      ]
     },
     "execution_count": 64,
     "metadata": {},
     "output_type": "execute_result"
    }
   ],
   "source": [
    "# default grouping\n",
    "\n",
    "train_change['default']=train_change['default'].replace(['unknown'],'yes')\n",
    "train_change['default'].unique()"
   ]
  },
  {
   "cell_type": "code",
   "execution_count": 65,
   "id": "fa0c63a6",
   "metadata": {},
   "outputs": [],
   "source": [
    "# housing & loan 제거\n",
    "\n",
    "train_change.drop(['housing','loan'],axis=1,inplace=True)"
   ]
  },
  {
   "cell_type": "code",
   "execution_count": 66,
   "id": "bd47bc3a",
   "metadata": {},
   "outputs": [
    {
     "data": {
      "text/plain": [
       "array(['may', 'month1', 'month2', 'month3', 'apr'], dtype=object)"
      ]
     },
     "execution_count": 66,
     "metadata": {},
     "output_type": "execute_result"
    }
   ],
   "source": [
    "# month grouping\n",
    "# may / jul,nov,jun, aug / apr / oct,sep / dec,mar/ 로 구분할 수 있다.\n",
    "\n",
    "train_change['month']=train_change['month'].replace(['jul','nov','jun','aug'],'month1')\n",
    "train_change['month']=train_change['month'].replace(['oct','sep'],'month2')\n",
    "train_change['month']=train_change['month'].replace(['dec','mar'],'month3')\n",
    "train_change['month'].unique()\n"
   ]
  },
  {
   "cell_type": "code",
   "execution_count": 67,
   "id": "5ab0d77d",
   "metadata": {},
   "outputs": [
    {
     "data": {
      "text/plain": [
       "array(['day1', 'day2'], dtype=object)"
      ]
     },
     "execution_count": 67,
     "metadata": {},
     "output_type": "execute_result"
    }
   ],
   "source": [
    "# day_of_week grouping\n",
    "#mon,fri / tue,wed,thu 으로 구분이된다.\n",
    "\n",
    "train_change['day_of_week']=train_change['day_of_week'].replace(['mon','fri'],'day1')\n",
    "train_change['day_of_week']=train_change['day_of_week'].replace(['tue','wed','thu'],'day2')\n",
    "train_change['day_of_week'].unique()"
   ]
  },
  {
   "cell_type": "code",
   "execution_count": 68,
   "id": "e18695bf",
   "metadata": {},
   "outputs": [],
   "source": [
    "# age 제거\n",
    "train_change.drop('age',axis=1,inplace=True)"
   ]
  },
  {
   "cell_type": "code",
   "execution_count": 79,
   "id": "3a8911b8",
   "metadata": {},
   "outputs": [],
   "source": [
    "# pdays 범주형 변환\n",
    "# 만났으면 1 , 만나지 않았으면 0으로 분류.\n",
    "\n",
    "train_change['pdays']=train_change['pdays'].where(train_change['pdays'] !=999, 1)\n",
    "train_change['pdays']=train_change['pdays'].where(train_change['pdays'] ==999, 0)\n",
    "\n"
   ]
  },
  {
   "cell_type": "code",
   "execution_count": 80,
   "id": "73e5a48d",
   "metadata": {},
   "outputs": [
    {
     "data": {
      "text/html": [
       "<div>\n",
       "<style scoped>\n",
       "    .dataframe tbody tr th:only-of-type {\n",
       "        vertical-align: middle;\n",
       "    }\n",
       "\n",
       "    .dataframe tbody tr th {\n",
       "        vertical-align: top;\n",
       "    }\n",
       "\n",
       "    .dataframe thead th {\n",
       "        text-align: right;\n",
       "    }\n",
       "</style>\n",
       "<table border=\"1\" class=\"dataframe\">\n",
       "  <thead>\n",
       "    <tr style=\"text-align: right;\">\n",
       "      <th></th>\n",
       "      <th>job</th>\n",
       "      <th>marital</th>\n",
       "      <th>education</th>\n",
       "      <th>default</th>\n",
       "      <th>contact</th>\n",
       "      <th>month</th>\n",
       "      <th>day_of_week</th>\n",
       "      <th>duration</th>\n",
       "      <th>campaign</th>\n",
       "      <th>pdays</th>\n",
       "      <th>previous</th>\n",
       "      <th>poutcome</th>\n",
       "      <th>emp.var.rate</th>\n",
       "      <th>cons.price.idx</th>\n",
       "      <th>cons.conf.idx</th>\n",
       "      <th>euribor3m</th>\n",
       "      <th>nr.employed</th>\n",
       "      <th>y</th>\n",
       "    </tr>\n",
       "  </thead>\n",
       "  <tbody>\n",
       "    <tr>\n",
       "      <th>0</th>\n",
       "      <td>job1</td>\n",
       "      <td>marital1</td>\n",
       "      <td>education1</td>\n",
       "      <td>no</td>\n",
       "      <td>telephone</td>\n",
       "      <td>may</td>\n",
       "      <td>day1</td>\n",
       "      <td>261</td>\n",
       "      <td>1</td>\n",
       "      <td>0</td>\n",
       "      <td>0</td>\n",
       "      <td>nonexistent</td>\n",
       "      <td>1.1</td>\n",
       "      <td>93.994</td>\n",
       "      <td>-36.4</td>\n",
       "      <td>4.857</td>\n",
       "      <td>5191.0</td>\n",
       "      <td>0</td>\n",
       "    </tr>\n",
       "    <tr>\n",
       "      <th>1</th>\n",
       "      <td>job1</td>\n",
       "      <td>marital1</td>\n",
       "      <td>education1</td>\n",
       "      <td>yes</td>\n",
       "      <td>telephone</td>\n",
       "      <td>may</td>\n",
       "      <td>day1</td>\n",
       "      <td>149</td>\n",
       "      <td>1</td>\n",
       "      <td>0</td>\n",
       "      <td>0</td>\n",
       "      <td>nonexistent</td>\n",
       "      <td>1.1</td>\n",
       "      <td>93.994</td>\n",
       "      <td>-36.4</td>\n",
       "      <td>4.857</td>\n",
       "      <td>5191.0</td>\n",
       "      <td>0</td>\n",
       "    </tr>\n",
       "    <tr>\n",
       "      <th>2</th>\n",
       "      <td>job1</td>\n",
       "      <td>marital1</td>\n",
       "      <td>education1</td>\n",
       "      <td>no</td>\n",
       "      <td>telephone</td>\n",
       "      <td>may</td>\n",
       "      <td>day1</td>\n",
       "      <td>226</td>\n",
       "      <td>1</td>\n",
       "      <td>0</td>\n",
       "      <td>0</td>\n",
       "      <td>nonexistent</td>\n",
       "      <td>1.1</td>\n",
       "      <td>93.994</td>\n",
       "      <td>-36.4</td>\n",
       "      <td>4.857</td>\n",
       "      <td>5191.0</td>\n",
       "      <td>0</td>\n",
       "    </tr>\n",
       "    <tr>\n",
       "      <th>3</th>\n",
       "      <td>job1</td>\n",
       "      <td>marital1</td>\n",
       "      <td>education1</td>\n",
       "      <td>no</td>\n",
       "      <td>telephone</td>\n",
       "      <td>may</td>\n",
       "      <td>day1</td>\n",
       "      <td>151</td>\n",
       "      <td>1</td>\n",
       "      <td>0</td>\n",
       "      <td>0</td>\n",
       "      <td>nonexistent</td>\n",
       "      <td>1.1</td>\n",
       "      <td>93.994</td>\n",
       "      <td>-36.4</td>\n",
       "      <td>4.857</td>\n",
       "      <td>5191.0</td>\n",
       "      <td>0</td>\n",
       "    </tr>\n",
       "    <tr>\n",
       "      <th>4</th>\n",
       "      <td>job1</td>\n",
       "      <td>marital1</td>\n",
       "      <td>education1</td>\n",
       "      <td>no</td>\n",
       "      <td>telephone</td>\n",
       "      <td>may</td>\n",
       "      <td>day1</td>\n",
       "      <td>307</td>\n",
       "      <td>1</td>\n",
       "      <td>0</td>\n",
       "      <td>0</td>\n",
       "      <td>nonexistent</td>\n",
       "      <td>1.1</td>\n",
       "      <td>93.994</td>\n",
       "      <td>-36.4</td>\n",
       "      <td>4.857</td>\n",
       "      <td>5191.0</td>\n",
       "      <td>0</td>\n",
       "    </tr>\n",
       "    <tr>\n",
       "      <th>...</th>\n",
       "      <td>...</td>\n",
       "      <td>...</td>\n",
       "      <td>...</td>\n",
       "      <td>...</td>\n",
       "      <td>...</td>\n",
       "      <td>...</td>\n",
       "      <td>...</td>\n",
       "      <td>...</td>\n",
       "      <td>...</td>\n",
       "      <td>...</td>\n",
       "      <td>...</td>\n",
       "      <td>...</td>\n",
       "      <td>...</td>\n",
       "      <td>...</td>\n",
       "      <td>...</td>\n",
       "      <td>...</td>\n",
       "      <td>...</td>\n",
       "      <td>...</td>\n",
       "    </tr>\n",
       "    <tr>\n",
       "      <th>41183</th>\n",
       "      <td>retired</td>\n",
       "      <td>marital1</td>\n",
       "      <td>professional.course</td>\n",
       "      <td>no</td>\n",
       "      <td>cellular</td>\n",
       "      <td>month1</td>\n",
       "      <td>day1</td>\n",
       "      <td>334</td>\n",
       "      <td>1</td>\n",
       "      <td>0</td>\n",
       "      <td>0</td>\n",
       "      <td>nonexistent</td>\n",
       "      <td>-1.1</td>\n",
       "      <td>94.767</td>\n",
       "      <td>-50.8</td>\n",
       "      <td>1.028</td>\n",
       "      <td>4963.6</td>\n",
       "      <td>1</td>\n",
       "    </tr>\n",
       "    <tr>\n",
       "      <th>41184</th>\n",
       "      <td>job1</td>\n",
       "      <td>marital1</td>\n",
       "      <td>professional.course</td>\n",
       "      <td>no</td>\n",
       "      <td>cellular</td>\n",
       "      <td>month1</td>\n",
       "      <td>day1</td>\n",
       "      <td>383</td>\n",
       "      <td>1</td>\n",
       "      <td>0</td>\n",
       "      <td>0</td>\n",
       "      <td>nonexistent</td>\n",
       "      <td>-1.1</td>\n",
       "      <td>94.767</td>\n",
       "      <td>-50.8</td>\n",
       "      <td>1.028</td>\n",
       "      <td>4963.6</td>\n",
       "      <td>0</td>\n",
       "    </tr>\n",
       "    <tr>\n",
       "      <th>41185</th>\n",
       "      <td>retired</td>\n",
       "      <td>marital1</td>\n",
       "      <td>university.degree</td>\n",
       "      <td>no</td>\n",
       "      <td>cellular</td>\n",
       "      <td>month1</td>\n",
       "      <td>day1</td>\n",
       "      <td>189</td>\n",
       "      <td>2</td>\n",
       "      <td>0</td>\n",
       "      <td>0</td>\n",
       "      <td>nonexistent</td>\n",
       "      <td>-1.1</td>\n",
       "      <td>94.767</td>\n",
       "      <td>-50.8</td>\n",
       "      <td>1.028</td>\n",
       "      <td>4963.6</td>\n",
       "      <td>0</td>\n",
       "    </tr>\n",
       "    <tr>\n",
       "      <th>41186</th>\n",
       "      <td>job1</td>\n",
       "      <td>marital1</td>\n",
       "      <td>professional.course</td>\n",
       "      <td>no</td>\n",
       "      <td>cellular</td>\n",
       "      <td>month1</td>\n",
       "      <td>day1</td>\n",
       "      <td>442</td>\n",
       "      <td>1</td>\n",
       "      <td>0</td>\n",
       "      <td>0</td>\n",
       "      <td>nonexistent</td>\n",
       "      <td>-1.1</td>\n",
       "      <td>94.767</td>\n",
       "      <td>-50.8</td>\n",
       "      <td>1.028</td>\n",
       "      <td>4963.6</td>\n",
       "      <td>1</td>\n",
       "    </tr>\n",
       "    <tr>\n",
       "      <th>41187</th>\n",
       "      <td>retired</td>\n",
       "      <td>marital1</td>\n",
       "      <td>professional.course</td>\n",
       "      <td>no</td>\n",
       "      <td>cellular</td>\n",
       "      <td>month1</td>\n",
       "      <td>day1</td>\n",
       "      <td>239</td>\n",
       "      <td>3</td>\n",
       "      <td>0</td>\n",
       "      <td>1</td>\n",
       "      <td>failure</td>\n",
       "      <td>-1.1</td>\n",
       "      <td>94.767</td>\n",
       "      <td>-50.8</td>\n",
       "      <td>1.028</td>\n",
       "      <td>4963.6</td>\n",
       "      <td>0</td>\n",
       "    </tr>\n",
       "  </tbody>\n",
       "</table>\n",
       "<p>41188 rows × 18 columns</p>\n",
       "</div>"
      ],
      "text/plain": [
       "           job   marital            education default    contact   month  \\\n",
       "0         job1  marital1           education1      no  telephone     may   \n",
       "1         job1  marital1           education1     yes  telephone     may   \n",
       "2         job1  marital1           education1      no  telephone     may   \n",
       "3         job1  marital1           education1      no  telephone     may   \n",
       "4         job1  marital1           education1      no  telephone     may   \n",
       "...        ...       ...                  ...     ...        ...     ...   \n",
       "41183  retired  marital1  professional.course      no   cellular  month1   \n",
       "41184     job1  marital1  professional.course      no   cellular  month1   \n",
       "41185  retired  marital1    university.degree      no   cellular  month1   \n",
       "41186     job1  marital1  professional.course      no   cellular  month1   \n",
       "41187  retired  marital1  professional.course      no   cellular  month1   \n",
       "\n",
       "      day_of_week  duration  campaign  pdays  previous     poutcome  \\\n",
       "0            day1       261         1      0         0  nonexistent   \n",
       "1            day1       149         1      0         0  nonexistent   \n",
       "2            day1       226         1      0         0  nonexistent   \n",
       "3            day1       151         1      0         0  nonexistent   \n",
       "4            day1       307         1      0         0  nonexistent   \n",
       "...           ...       ...       ...    ...       ...          ...   \n",
       "41183        day1       334         1      0         0  nonexistent   \n",
       "41184        day1       383         1      0         0  nonexistent   \n",
       "41185        day1       189         2      0         0  nonexistent   \n",
       "41186        day1       442         1      0         0  nonexistent   \n",
       "41187        day1       239         3      0         1      failure   \n",
       "\n",
       "       emp.var.rate  cons.price.idx  cons.conf.idx  euribor3m  nr.employed  y  \n",
       "0               1.1          93.994          -36.4      4.857       5191.0  0  \n",
       "1               1.1          93.994          -36.4      4.857       5191.0  0  \n",
       "2               1.1          93.994          -36.4      4.857       5191.0  0  \n",
       "3               1.1          93.994          -36.4      4.857       5191.0  0  \n",
       "4               1.1          93.994          -36.4      4.857       5191.0  0  \n",
       "...             ...             ...            ...        ...          ... ..  \n",
       "41183          -1.1          94.767          -50.8      1.028       4963.6  1  \n",
       "41184          -1.1          94.767          -50.8      1.028       4963.6  0  \n",
       "41185          -1.1          94.767          -50.8      1.028       4963.6  0  \n",
       "41186          -1.1          94.767          -50.8      1.028       4963.6  1  \n",
       "41187          -1.1          94.767          -50.8      1.028       4963.6  0  \n",
       "\n",
       "[41188 rows x 18 columns]"
      ]
     },
     "execution_count": 80,
     "metadata": {},
     "output_type": "execute_result"
    }
   ],
   "source": [
    "train_change"
   ]
  },
  {
   "cell_type": "code",
   "execution_count": 81,
   "id": "47c97e53",
   "metadata": {},
   "outputs": [],
   "source": [
    "train_change.to_csv('./bankfull_eda.csv',index=False)"
   ]
  },
  {
   "cell_type": "markdown",
   "id": "f0224db0",
   "metadata": {},
   "source": [
    "# 결론\n",
    "\n",
    "각 변수들이 주는 영향에 따라 변환을 해주었고, 결과는 다음과 같다.\n",
    "\n",
    "- 분포에 따라 job을 grouping 해주었다. (3가지 범주)\n",
    "- 분포에 따라 marital을 grouping 해주었다. (2가지 범주)\n",
    "- 분포에 따라 education grouping 해주었다. (4가지 범주)\n",
    "- default는 unknonw을 신용불량자로 변환해주었다.\n",
    "- housing과 loan은 차이가 유의하지 않기에, 변수 제거. (변수제거)\n",
    "- month는 may / jul,nov,jun, aug / apr / oct,sep / dec,mar/ 로 구분할 수 있다. (5가지 범주)\n",
    "- day_of_week는 mon,fri / tue,wed,thu 으로 구분이된다.\n",
    "- age 변수는 group간에 차이가 없어보여서, 제거.\n",
    "- padys를 범주형으로 변환 해주었다. (만났으면1, 만났지 않았으면 0)\n"
   ]
  }
 ],
 "metadata": {
  "kernelspec": {
   "display_name": "Python 3 (ipykernel)",
   "language": "python",
   "name": "python3"
  },
  "language_info": {
   "codemirror_mode": {
    "name": "ipython",
    "version": 3
   },
   "file_extension": ".py",
   "mimetype": "text/x-python",
   "name": "python",
   "nbconvert_exporter": "python",
   "pygments_lexer": "ipython3",
   "version": "3.7.10"
  },
  "toc": {
   "base_numbering": 1,
   "nav_menu": {},
   "number_sections": true,
   "sideBar": true,
   "skip_h1_title": false,
   "title_cell": "Table of Contents",
   "title_sidebar": "Contents",
   "toc_cell": false,
   "toc_position": {
    "height": "686px",
    "left": "58px",
    "top": "111.125px",
    "width": "455.266px"
   },
   "toc_section_display": true,
   "toc_window_display": true
  }
 },
 "nbformat": 4,
 "nbformat_minor": 5
}
